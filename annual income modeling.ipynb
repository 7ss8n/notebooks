{
 "cells": [
  {
   "cell_type": "code",
   "execution_count": 73,
   "metadata": {
    "collapsed": true
   },
   "outputs": [],
   "source": [
    "%matplotlib inline\n",
    "import numpy as np\n",
    "import pandas as pd"
   ]
  },
  {
   "cell_type": "markdown",
   "metadata": {},
   "source": [
    "Here we are building a model to predict the income level of American based on some given demographic data.\n",
    "\n",
    "The data is available [here](https://archive.ics.uci.edu/ml/datasets/adult)\n",
    "\n",
    "Data is labeled with binary values. Zero for income less than 50k, one otherwise."
   ]
  },
  {
   "cell_type": "markdown",
   "metadata": {},
   "source": [
    "# Data preparation"
   ]
  },
  {
   "cell_type": "code",
   "execution_count": 2,
   "metadata": {},
   "outputs": [
    {
     "data": {
      "text/html": [
       "<div>\n",
       "<style>\n",
       "    .dataframe thead tr:only-child th {\n",
       "        text-align: right;\n",
       "    }\n",
       "\n",
       "    .dataframe thead th {\n",
       "        text-align: left;\n",
       "    }\n",
       "\n",
       "    .dataframe tbody tr th {\n",
       "        vertical-align: top;\n",
       "    }\n",
       "</style>\n",
       "<table border=\"1\" class=\"dataframe\">\n",
       "  <thead>\n",
       "    <tr style=\"text-align: right;\">\n",
       "      <th></th>\n",
       "      <th>RECORD_ID</th>\n",
       "      <th>AGE</th>\n",
       "      <th>WORKCLASS</th>\n",
       "      <th>FNLWGHT</th>\n",
       "      <th>EDUCATION</th>\n",
       "      <th>EDUCATION_NUM</th>\n",
       "      <th>MARITAL_STATUS</th>\n",
       "      <th>OCCUPATION</th>\n",
       "      <th>RELATIONSHIP</th>\n",
       "      <th>RACE</th>\n",
       "      <th>SEX</th>\n",
       "      <th>CAPITAL_GAIN</th>\n",
       "      <th>CAPITAL_LOSS</th>\n",
       "      <th>HOURS_PER_WEEK</th>\n",
       "      <th>COUNTRY</th>\n",
       "      <th>PROXY</th>\n",
       "      <th>TARGET</th>\n",
       "    </tr>\n",
       "  </thead>\n",
       "  <tbody>\n",
       "    <tr>\n",
       "      <th>0</th>\n",
       "      <td>1</td>\n",
       "      <td>39</td>\n",
       "      <td>State-gov</td>\n",
       "      <td>77516</td>\n",
       "      <td>Bachelors</td>\n",
       "      <td>13</td>\n",
       "      <td>Never-married</td>\n",
       "      <td>Adm-clerical</td>\n",
       "      <td>Not-in-family</td>\n",
       "      <td>White</td>\n",
       "      <td>Male</td>\n",
       "      <td>2174</td>\n",
       "      <td>0</td>\n",
       "      <td>40</td>\n",
       "      <td>United-States</td>\n",
       "      <td>&lt;=50K</td>\n",
       "      <td>0</td>\n",
       "    </tr>\n",
       "    <tr>\n",
       "      <th>1</th>\n",
       "      <td>2</td>\n",
       "      <td>50</td>\n",
       "      <td>Self-emp-not-inc</td>\n",
       "      <td>83311</td>\n",
       "      <td>Bachelors</td>\n",
       "      <td>13</td>\n",
       "      <td>Married-civ-spouse</td>\n",
       "      <td>Exec-managerial</td>\n",
       "      <td>Husband</td>\n",
       "      <td>White</td>\n",
       "      <td>Male</td>\n",
       "      <td>0</td>\n",
       "      <td>0</td>\n",
       "      <td>13</td>\n",
       "      <td>United-States</td>\n",
       "      <td>&lt;=50K</td>\n",
       "      <td>0</td>\n",
       "    </tr>\n",
       "    <tr>\n",
       "      <th>2</th>\n",
       "      <td>3</td>\n",
       "      <td>38</td>\n",
       "      <td>Private</td>\n",
       "      <td>215646</td>\n",
       "      <td>HS-grad</td>\n",
       "      <td>9</td>\n",
       "      <td>Divorced</td>\n",
       "      <td>Handlers-cleaners</td>\n",
       "      <td>Not-in-family</td>\n",
       "      <td>White</td>\n",
       "      <td>Male</td>\n",
       "      <td>0</td>\n",
       "      <td>0</td>\n",
       "      <td>40</td>\n",
       "      <td>United-States</td>\n",
       "      <td>&lt;=50K</td>\n",
       "      <td>0</td>\n",
       "    </tr>\n",
       "    <tr>\n",
       "      <th>3</th>\n",
       "      <td>4</td>\n",
       "      <td>53</td>\n",
       "      <td>Private</td>\n",
       "      <td>234721</td>\n",
       "      <td>11th</td>\n",
       "      <td>7</td>\n",
       "      <td>Married-civ-spouse</td>\n",
       "      <td>Handlers-cleaners</td>\n",
       "      <td>Husband</td>\n",
       "      <td>Black</td>\n",
       "      <td>Male</td>\n",
       "      <td>0</td>\n",
       "      <td>0</td>\n",
       "      <td>40</td>\n",
       "      <td>United-States</td>\n",
       "      <td>&lt;=50K</td>\n",
       "      <td>0</td>\n",
       "    </tr>\n",
       "    <tr>\n",
       "      <th>4</th>\n",
       "      <td>5</td>\n",
       "      <td>28</td>\n",
       "      <td>Private</td>\n",
       "      <td>338409</td>\n",
       "      <td>Bachelors</td>\n",
       "      <td>13</td>\n",
       "      <td>Married-civ-spouse</td>\n",
       "      <td>Prof-specialty</td>\n",
       "      <td>Wife</td>\n",
       "      <td>Black</td>\n",
       "      <td>Female</td>\n",
       "      <td>0</td>\n",
       "      <td>0</td>\n",
       "      <td>40</td>\n",
       "      <td>Cuba</td>\n",
       "      <td>&lt;=50K</td>\n",
       "      <td>0</td>\n",
       "    </tr>\n",
       "  </tbody>\n",
       "</table>\n",
       "</div>"
      ],
      "text/plain": [
       "   RECORD_ID  AGE         WORKCLASS  FNLWGHT  EDUCATION  EDUCATION_NUM  \\\n",
       "0          1   39         State-gov    77516  Bachelors             13   \n",
       "1          2   50  Self-emp-not-inc    83311  Bachelors             13   \n",
       "2          3   38           Private   215646    HS-grad              9   \n",
       "3          4   53           Private   234721       11th              7   \n",
       "4          5   28           Private   338409  Bachelors             13   \n",
       "\n",
       "       MARITAL_STATUS         OCCUPATION   RELATIONSHIP   RACE     SEX  \\\n",
       "0       Never-married       Adm-clerical  Not-in-family  White    Male   \n",
       "1  Married-civ-spouse    Exec-managerial        Husband  White    Male   \n",
       "2            Divorced  Handlers-cleaners  Not-in-family  White    Male   \n",
       "3  Married-civ-spouse  Handlers-cleaners        Husband  Black    Male   \n",
       "4  Married-civ-spouse     Prof-specialty           Wife  Black  Female   \n",
       "\n",
       "   CAPITAL_GAIN  CAPITAL_LOSS  HOURS_PER_WEEK        COUNTRY  PROXY  TARGET  \n",
       "0          2174             0              40  United-States  <=50K       0  \n",
       "1             0             0              13  United-States  <=50K       0  \n",
       "2             0             0              40  United-States  <=50K       0  \n",
       "3             0             0              40  United-States  <=50K       0  \n",
       "4             0             0              40           Cuba  <=50K       0  "
      ]
     },
     "execution_count": 2,
     "metadata": {},
     "output_type": "execute_result"
    }
   ],
   "source": [
    "df=pd.read_csv('annualincome.csv')\n",
    "df.head()"
   ]
  },
  {
   "cell_type": "code",
   "execution_count": 170,
   "metadata": {},
   "outputs": [
    {
     "data": {
      "text/plain": [
       "32561"
      ]
     },
     "execution_count": 170,
     "metadata": {},
     "output_type": "execute_result"
    }
   ],
   "source": [
    "len(df)"
   ]
  },
  {
   "cell_type": "code",
   "execution_count": 5,
   "metadata": {},
   "outputs": [
    {
     "data": {
      "text/plain": [
       "Index(['RECORD_ID', 'AGE', 'WORKCLASS', 'FNLWGHT', 'EDUCATION',\n",
       "       'EDUCATION_NUM', 'MARITAL_STATUS', 'OCCUPATION', 'RELATIONSHIP', 'RACE',\n",
       "       'SEX', 'CAPITAL_GAIN', 'CAPITAL_LOSS', 'HOURS_PER_WEEK', 'COUNTRY',\n",
       "       'PROXY', 'TARGET'],\n",
       "      dtype='object')"
      ]
     },
     "execution_count": 5,
     "metadata": {},
     "output_type": "execute_result"
    }
   ],
   "source": [
    "df.columns"
   ]
  },
  {
   "cell_type": "markdown",
   "metadata": {
    "collapsed": true
   },
   "source": [
    "What are the unique labels of the `WORKCLASS` category?"
   ]
  },
  {
   "cell_type": "code",
   "execution_count": 6,
   "metadata": {},
   "outputs": [
    {
     "data": {
      "text/plain": [
       "array(['State-gov', 'Self-emp-not-inc', 'Private', 'Federal-gov',\n",
       "       'Local-gov', 'Self-emp-inc', '?', 'Without-pay', 'Never-worked'], dtype=object)"
      ]
     },
     "execution_count": 6,
     "metadata": {},
     "output_type": "execute_result"
    }
   ],
   "source": [
    "df[\"WORKCLASS\"].unique()"
   ]
  },
  {
   "cell_type": "markdown",
   "metadata": {},
   "source": [
    "What are the unique labels of the `MARITAL_STATUS` category?"
   ]
  },
  {
   "cell_type": "code",
   "execution_count": 7,
   "metadata": {},
   "outputs": [
    {
     "data": {
      "text/plain": [
       "array(['Never-married', 'Married-civ-spouse', 'Divorced',\n",
       "       'Married-spouse-absent', 'Separated', 'Married-AF-spouse', 'Widowed'], dtype=object)"
      ]
     },
     "execution_count": 7,
     "metadata": {},
     "output_type": "execute_result"
    }
   ],
   "source": [
    "df[\"MARITAL_STATUS\"].unique()"
   ]
  },
  {
   "cell_type": "markdown",
   "metadata": {},
   "source": [
    "Replace `SEX` values with 0 and 1.\n",
    "\n",
    "Remove `EDUCATION` (the numeric value is more convenient), `PROXY`, and `RECORD_ID`."
   ]
  },
  {
   "cell_type": "code",
   "execution_count": 8,
   "metadata": {
    "collapsed": true
   },
   "outputs": [],
   "source": [
    "df[\"SEX\"] = df[\"SEX\"].replace({\"Male\":0, \"Female\":1})\n",
    "\n",
    "#df[\"TARGET\"] = df[\"TARGET\"].replace({0:-1})\n",
    "del df[\"EDUCATION\"]\n",
    "del df[\"PROXY\"]\n",
    "del df[\"RECORD_ID\"]"
   ]
  },
  {
   "cell_type": "markdown",
   "metadata": {},
   "source": [
    "Decision trees in `sklearn` cannot work with categorical variables. Convert the table so that each value of a categorical variable becomes a binary feature."
   ]
  },
  {
   "cell_type": "code",
   "execution_count": 9,
   "metadata": {
    "collapsed": true
   },
   "outputs": [],
   "source": [
    "df = pd.get_dummies(df,\n",
    "               columns=[\"WORKCLASS\",\n",
    "                        \"MARITAL_STATUS\",\n",
    "                        \"OCCUPATION\",\n",
    "                        \"RELATIONSHIP\",\n",
    "                        \"RACE\",\n",
    "                        \"COUNTRY\"\n",
    "                       ],\n",
    "               prefix=[\"work\",\n",
    "                       \"marital\",\n",
    "                       \"occ\",\n",
    "                       \"rel\",\n",
    "                       \"race\",\n",
    "                       \"ctry\"\n",
    "                      ])"
   ]
  },
  {
   "cell_type": "markdown",
   "metadata": {},
   "source": [
    "As a result, we have a lot more columns."
   ]
  },
  {
   "cell_type": "code",
   "execution_count": 10,
   "metadata": {},
   "outputs": [
    {
     "data": {
      "text/plain": [
       "Index(['AGE', 'FNLWGHT', 'EDUCATION_NUM', 'SEX', 'CAPITAL_GAIN',\n",
       "       'CAPITAL_LOSS', 'HOURS_PER_WEEK', 'TARGET', 'work_?',\n",
       "       'work_Federal-gov', 'work_Local-gov', 'work_Never-worked',\n",
       "       'work_Private', 'work_Self-emp-inc', 'work_Self-emp-not-inc',\n",
       "       'work_State-gov', 'work_Without-pay', 'marital_Divorced',\n",
       "       'marital_Married-AF-spouse', 'marital_Married-civ-spouse',\n",
       "       'marital_Married-spouse-absent', 'marital_Never-married',\n",
       "       'marital_Separated', 'marital_Widowed', 'occ_?', 'occ_Adm-clerical',\n",
       "       'occ_Armed-Forces', 'occ_Craft-repair', 'occ_Exec-managerial',\n",
       "       'occ_Farming-fishing', 'occ_Handlers-cleaners', 'occ_Machine-op-inspct',\n",
       "       'occ_Other-service', 'occ_Priv-house-serv', 'occ_Prof-specialty',\n",
       "       'occ_Protective-serv', 'occ_Sales', 'occ_Tech-support',\n",
       "       'occ_Transport-moving', 'rel_Husband', 'rel_Not-in-family',\n",
       "       'rel_Other-relative', 'rel_Own-child', 'rel_Unmarried', 'rel_Wife',\n",
       "       'race_Amer-Indian-Eskimo', 'race_Asian-Pac-Islander', 'race_Black',\n",
       "       'race_Other', 'race_White', 'ctry_?', 'ctry_Cambodia', 'ctry_Canada',\n",
       "       'ctry_China', 'ctry_Columbia', 'ctry_Cuba', 'ctry_Dominican-Republic',\n",
       "       'ctry_Ecuador', 'ctry_El-Salvador', 'ctry_England', 'ctry_France',\n",
       "       'ctry_Germany', 'ctry_Greece', 'ctry_Guatemala', 'ctry_Haiti',\n",
       "       'ctry_Holand-Netherlands', 'ctry_Honduras', 'ctry_Hong', 'ctry_Hungary',\n",
       "       'ctry_India', 'ctry_Iran', 'ctry_Ireland', 'ctry_Italy', 'ctry_Jamaica',\n",
       "       'ctry_Japan', 'ctry_Laos', 'ctry_Mexico', 'ctry_Nicaragua',\n",
       "       'ctry_Outlying-US(Guam-USVI-etc)', 'ctry_Peru', 'ctry_Philippines',\n",
       "       'ctry_Poland', 'ctry_Portugal', 'ctry_Puerto-Rico', 'ctry_Scotland',\n",
       "       'ctry_South', 'ctry_Taiwan', 'ctry_Thailand', 'ctry_Trinadad&Tobago',\n",
       "       'ctry_United-States', 'ctry_Vietnam', 'ctry_Yugoslavia'],\n",
       "      dtype='object')"
      ]
     },
     "execution_count": 10,
     "metadata": {},
     "output_type": "execute_result"
    }
   ],
   "source": [
    "df.columns"
   ]
  },
  {
   "cell_type": "markdown",
   "metadata": {},
   "source": [
    "Check if we have any empty values."
   ]
  },
  {
   "cell_type": "code",
   "execution_count": 11,
   "metadata": {},
   "outputs": [
    {
     "data": {
      "text/plain": [
       "False"
      ]
     },
     "execution_count": 11,
     "metadata": {},
     "output_type": "execute_result"
    }
   ],
   "source": [
    "df.isnull().any().any()"
   ]
  },
  {
   "cell_type": "code",
   "execution_count": 12,
   "metadata": {},
   "outputs": [
    {
     "data": {
      "text/html": [
       "<div>\n",
       "<style>\n",
       "    .dataframe thead tr:only-child th {\n",
       "        text-align: right;\n",
       "    }\n",
       "\n",
       "    .dataframe thead th {\n",
       "        text-align: left;\n",
       "    }\n",
       "\n",
       "    .dataframe tbody tr th {\n",
       "        vertical-align: top;\n",
       "    }\n",
       "</style>\n",
       "<table border=\"1\" class=\"dataframe\">\n",
       "  <thead>\n",
       "    <tr style=\"text-align: right;\">\n",
       "      <th></th>\n",
       "      <th>AGE</th>\n",
       "      <th>FNLWGHT</th>\n",
       "      <th>EDUCATION_NUM</th>\n",
       "      <th>SEX</th>\n",
       "      <th>CAPITAL_GAIN</th>\n",
       "      <th>CAPITAL_LOSS</th>\n",
       "      <th>HOURS_PER_WEEK</th>\n",
       "      <th>TARGET</th>\n",
       "      <th>work_?</th>\n",
       "      <th>work_Federal-gov</th>\n",
       "      <th>...</th>\n",
       "      <th>ctry_Portugal</th>\n",
       "      <th>ctry_Puerto-Rico</th>\n",
       "      <th>ctry_Scotland</th>\n",
       "      <th>ctry_South</th>\n",
       "      <th>ctry_Taiwan</th>\n",
       "      <th>ctry_Thailand</th>\n",
       "      <th>ctry_Trinadad&amp;Tobago</th>\n",
       "      <th>ctry_United-States</th>\n",
       "      <th>ctry_Vietnam</th>\n",
       "      <th>ctry_Yugoslavia</th>\n",
       "    </tr>\n",
       "  </thead>\n",
       "  <tbody>\n",
       "    <tr>\n",
       "      <th>0</th>\n",
       "      <td>39</td>\n",
       "      <td>77516</td>\n",
       "      <td>13</td>\n",
       "      <td>0</td>\n",
       "      <td>2174</td>\n",
       "      <td>0</td>\n",
       "      <td>40</td>\n",
       "      <td>0</td>\n",
       "      <td>0</td>\n",
       "      <td>0</td>\n",
       "      <td>...</td>\n",
       "      <td>0</td>\n",
       "      <td>0</td>\n",
       "      <td>0</td>\n",
       "      <td>0</td>\n",
       "      <td>0</td>\n",
       "      <td>0</td>\n",
       "      <td>0</td>\n",
       "      <td>1</td>\n",
       "      <td>0</td>\n",
       "      <td>0</td>\n",
       "    </tr>\n",
       "    <tr>\n",
       "      <th>1</th>\n",
       "      <td>50</td>\n",
       "      <td>83311</td>\n",
       "      <td>13</td>\n",
       "      <td>0</td>\n",
       "      <td>0</td>\n",
       "      <td>0</td>\n",
       "      <td>13</td>\n",
       "      <td>0</td>\n",
       "      <td>0</td>\n",
       "      <td>0</td>\n",
       "      <td>...</td>\n",
       "      <td>0</td>\n",
       "      <td>0</td>\n",
       "      <td>0</td>\n",
       "      <td>0</td>\n",
       "      <td>0</td>\n",
       "      <td>0</td>\n",
       "      <td>0</td>\n",
       "      <td>1</td>\n",
       "      <td>0</td>\n",
       "      <td>0</td>\n",
       "    </tr>\n",
       "    <tr>\n",
       "      <th>2</th>\n",
       "      <td>38</td>\n",
       "      <td>215646</td>\n",
       "      <td>9</td>\n",
       "      <td>0</td>\n",
       "      <td>0</td>\n",
       "      <td>0</td>\n",
       "      <td>40</td>\n",
       "      <td>0</td>\n",
       "      <td>0</td>\n",
       "      <td>0</td>\n",
       "      <td>...</td>\n",
       "      <td>0</td>\n",
       "      <td>0</td>\n",
       "      <td>0</td>\n",
       "      <td>0</td>\n",
       "      <td>0</td>\n",
       "      <td>0</td>\n",
       "      <td>0</td>\n",
       "      <td>1</td>\n",
       "      <td>0</td>\n",
       "      <td>0</td>\n",
       "    </tr>\n",
       "    <tr>\n",
       "      <th>3</th>\n",
       "      <td>53</td>\n",
       "      <td>234721</td>\n",
       "      <td>7</td>\n",
       "      <td>0</td>\n",
       "      <td>0</td>\n",
       "      <td>0</td>\n",
       "      <td>40</td>\n",
       "      <td>0</td>\n",
       "      <td>0</td>\n",
       "      <td>0</td>\n",
       "      <td>...</td>\n",
       "      <td>0</td>\n",
       "      <td>0</td>\n",
       "      <td>0</td>\n",
       "      <td>0</td>\n",
       "      <td>0</td>\n",
       "      <td>0</td>\n",
       "      <td>0</td>\n",
       "      <td>1</td>\n",
       "      <td>0</td>\n",
       "      <td>0</td>\n",
       "    </tr>\n",
       "    <tr>\n",
       "      <th>4</th>\n",
       "      <td>28</td>\n",
       "      <td>338409</td>\n",
       "      <td>13</td>\n",
       "      <td>1</td>\n",
       "      <td>0</td>\n",
       "      <td>0</td>\n",
       "      <td>40</td>\n",
       "      <td>0</td>\n",
       "      <td>0</td>\n",
       "      <td>0</td>\n",
       "      <td>...</td>\n",
       "      <td>0</td>\n",
       "      <td>0</td>\n",
       "      <td>0</td>\n",
       "      <td>0</td>\n",
       "      <td>0</td>\n",
       "      <td>0</td>\n",
       "      <td>0</td>\n",
       "      <td>0</td>\n",
       "      <td>0</td>\n",
       "      <td>0</td>\n",
       "    </tr>\n",
       "  </tbody>\n",
       "</table>\n",
       "<p>5 rows × 92 columns</p>\n",
       "</div>"
      ],
      "text/plain": [
       "   AGE  FNLWGHT  EDUCATION_NUM  SEX  CAPITAL_GAIN  CAPITAL_LOSS  \\\n",
       "0   39    77516             13    0          2174             0   \n",
       "1   50    83311             13    0             0             0   \n",
       "2   38   215646              9    0             0             0   \n",
       "3   53   234721              7    0             0             0   \n",
       "4   28   338409             13    1             0             0   \n",
       "\n",
       "   HOURS_PER_WEEK  TARGET  work_?  work_Federal-gov       ...         \\\n",
       "0              40       0       0                 0       ...          \n",
       "1              13       0       0                 0       ...          \n",
       "2              40       0       0                 0       ...          \n",
       "3              40       0       0                 0       ...          \n",
       "4              40       0       0                 0       ...          \n",
       "\n",
       "   ctry_Portugal  ctry_Puerto-Rico  ctry_Scotland  ctry_South  ctry_Taiwan  \\\n",
       "0              0                 0              0           0            0   \n",
       "1              0                 0              0           0            0   \n",
       "2              0                 0              0           0            0   \n",
       "3              0                 0              0           0            0   \n",
       "4              0                 0              0           0            0   \n",
       "\n",
       "   ctry_Thailand  ctry_Trinadad&Tobago  ctry_United-States  ctry_Vietnam  \\\n",
       "0              0                     0                   1             0   \n",
       "1              0                     0                   1             0   \n",
       "2              0                     0                   1             0   \n",
       "3              0                     0                   1             0   \n",
       "4              0                     0                   0             0   \n",
       "\n",
       "   ctry_Yugoslavia  \n",
       "0                0  \n",
       "1                0  \n",
       "2                0  \n",
       "3                0  \n",
       "4                0  \n",
       "\n",
       "[5 rows x 92 columns]"
      ]
     },
     "execution_count": 12,
     "metadata": {},
     "output_type": "execute_result"
    }
   ],
   "source": [
    "df.head()"
   ]
  },
  {
   "cell_type": "markdown",
   "metadata": {},
   "source": [
    "Generate numpy arrays to feed into scikit-learn."
   ]
  },
  {
   "cell_type": "code",
   "execution_count": 13,
   "metadata": {},
   "outputs": [
    {
     "data": {
      "text/plain": [
       "((32561, 91), (32561,))"
      ]
     },
     "execution_count": 13,
     "metadata": {},
     "output_type": "execute_result"
    }
   ],
   "source": [
    "X = np.array(df.drop(\"TARGET\",axis=1))\n",
    "y = np.array(df[\"TARGET\"])\n",
    "\n",
    "X.shape, y.shape"
   ]
  },
  {
   "cell_type": "code",
   "execution_count": 14,
   "metadata": {
    "collapsed": true
   },
   "outputs": [],
   "source": [
    "from sklearn.model_selection import train_test_split"
   ]
  },
  {
   "cell_type": "code",
   "execution_count": 16,
   "metadata": {},
   "outputs": [],
   "source": [
    "X_train, X_test, y_train, y_test = train_test_split(X, y,test_size=0.25)"
   ]
  },
  {
   "cell_type": "markdown",
   "metadata": {},
   "source": [
    "# Decision tree algorithm"
   ]
  },
  {
   "cell_type": "code",
   "execution_count": 18,
   "metadata": {
    "collapsed": true
   },
   "outputs": [],
   "source": [
    "from sklearn import tree"
   ]
  },
  {
   "cell_type": "code",
   "execution_count": 30,
   "metadata": {
    "collapsed": true
   },
   "outputs": [],
   "source": [
    "clf = tree.DecisionTreeClassifier(max_depth=5)\n",
    "clf = clf.fit(X_train, y_train)"
   ]
  },
  {
   "cell_type": "markdown",
   "metadata": {},
   "source": [
    "Evaluate the score (accuracy) on the test set."
   ]
  },
  {
   "cell_type": "code",
   "execution_count": 31,
   "metadata": {},
   "outputs": [
    {
     "data": {
      "text/plain": [
       "0.85444048642672887"
      ]
     },
     "execution_count": 31,
     "metadata": {},
     "output_type": "execute_result"
    }
   ],
   "source": [
    "clf.score(X_test, y_test)"
   ]
  },
  {
   "cell_type": "markdown",
   "metadata": {},
   "source": [
    "The following produces a graphical representation of the decision tree."
   ]
  },
  {
   "cell_type": "code",
   "execution_count": null,
   "metadata": {
    "collapsed": true
   },
   "outputs": [],
   "source": [
    "with open(\"tree.dot\", 'w') as f:\n",
    "    f = tree.export_graphviz(clf, \n",
    "                             feature_names=df.drop(\"TARGET\",axis=1).columns,\n",
    "                             out_file=f)"
   ]
  },
  {
   "cell_type": "markdown",
   "metadata": {},
   "source": [
    "List the features with their importances according to the decision tree."
   ]
  },
  {
   "cell_type": "code",
   "execution_count": 22,
   "metadata": {},
   "outputs": [
    {
     "name": "stdout",
     "output_type": "stream",
     "text": [
      "AGE 0.00473830890157\n",
      "FNLWGHT 0.0\n",
      "EDUCATION_NUM 0.237445774022\n",
      "SEX 0.0\n",
      "CAPITAL_GAIN 0.212488124786\n",
      "CAPITAL_LOSS 0.0529007579552\n",
      "HOURS_PER_WEEK 0.0194206363234\n",
      "work_? 0.00069455383336\n",
      "work_Federal-gov 0.0\n",
      "work_Local-gov 0.0\n",
      "work_Never-worked 0.0\n",
      "work_Private 0.00124736272941\n",
      "work_Self-emp-inc 0.0\n",
      "work_Self-emp-not-inc 0.000392688266667\n",
      "work_State-gov 0.0\n",
      "work_Without-pay 0.0\n",
      "marital_Divorced 0.0\n",
      "marital_Married-AF-spouse 0.0\n",
      "marital_Married-civ-spouse 0.470543968886\n",
      "marital_Married-spouse-absent 0.0\n",
      "marital_Never-married 0.0\n",
      "marital_Separated 0.0\n",
      "marital_Widowed 0.0\n",
      "occ_? 0.0\n",
      "occ_Adm-clerical 0.0\n",
      "occ_Armed-Forces 0.0\n",
      "occ_Craft-repair 0.0\n",
      "occ_Exec-managerial 0.0\n",
      "occ_Farming-fishing 0.000127824296615\n",
      "occ_Handlers-cleaners 0.0\n",
      "occ_Machine-op-inspct 0.0\n",
      "occ_Other-service 0.0\n",
      "occ_Priv-house-serv 0.0\n",
      "occ_Prof-specialty 0.0\n",
      "occ_Protective-serv 0.0\n",
      "occ_Sales 0.0\n",
      "occ_Tech-support 0.0\n",
      "occ_Transport-moving 0.0\n",
      "rel_Husband 0.0\n",
      "rel_Not-in-family 0.0\n",
      "rel_Other-relative 0.0\n",
      "rel_Own-child 0.0\n",
      "rel_Unmarried 0.0\n",
      "rel_Wife 0.0\n",
      "race_Amer-Indian-Eskimo 0.0\n",
      "race_Asian-Pac-Islander 0.0\n",
      "race_Black 0.0\n",
      "race_Other 0.0\n",
      "race_White 0.0\n",
      "ctry_? 0.0\n",
      "ctry_Cambodia 0.0\n",
      "ctry_Canada 0.0\n",
      "ctry_China 0.0\n",
      "ctry_Columbia 0.0\n",
      "ctry_Cuba 0.0\n",
      "ctry_Dominican-Republic 0.0\n",
      "ctry_Ecuador 0.0\n",
      "ctry_El-Salvador 0.0\n",
      "ctry_England 0.0\n",
      "ctry_France 0.0\n",
      "ctry_Germany 0.0\n",
      "ctry_Greece 0.0\n",
      "ctry_Guatemala 0.0\n",
      "ctry_Haiti 0.0\n",
      "ctry_Holand-Netherlands 0.0\n",
      "ctry_Honduras 0.0\n",
      "ctry_Hong 0.0\n",
      "ctry_Hungary 0.0\n",
      "ctry_India 0.0\n",
      "ctry_Iran 0.0\n",
      "ctry_Ireland 0.0\n",
      "ctry_Italy 0.0\n",
      "ctry_Jamaica 0.0\n",
      "ctry_Japan 0.0\n",
      "ctry_Laos 0.0\n",
      "ctry_Mexico 0.0\n",
      "ctry_Nicaragua 0.0\n",
      "ctry_Outlying-US(Guam-USVI-etc) 0.0\n",
      "ctry_Peru 0.0\n",
      "ctry_Philippines 0.0\n",
      "ctry_Poland 0.0\n",
      "ctry_Portugal 0.0\n",
      "ctry_Puerto-Rico 0.0\n",
      "ctry_Scotland 0.0\n",
      "ctry_South 0.0\n",
      "ctry_Taiwan 0.0\n",
      "ctry_Thailand 0.0\n",
      "ctry_Trinadad&Tobago 0.0\n",
      "ctry_United-States 0.0\n",
      "ctry_Vietnam 0.0\n",
      "ctry_Yugoslavia 0.0\n"
     ]
    }
   ],
   "source": [
    "for featname, featimp in zip(list(df.drop(\"TARGET\",axis=1).columns), list(clf.feature_importances_)):\n",
    "    print(featname, featimp)"
   ]
  },
  {
   "cell_type": "code",
   "execution_count": 23,
   "metadata": {
    "collapsed": true
   },
   "outputs": [],
   "source": [
    "from sklearn.metrics import classification_report\n",
    "from sklearn.metrics import confusion_matrix"
   ]
  },
  {
   "cell_type": "code",
   "execution_count": 32,
   "metadata": {},
   "outputs": [
    {
     "name": "stdout",
     "output_type": "stream",
     "text": [
      "Confusion matrix\n",
      "[[5925  309]\n",
      " [ 876 1031]]\n",
      "Classification report\n",
      "             precision    recall  f1-score   support\n",
      "\n",
      "          0       0.87      0.95      0.91      6234\n",
      "          1       0.77      0.54      0.64      1907\n",
      "\n",
      "avg / total       0.85      0.85      0.84      8141\n",
      "\n"
     ]
    }
   ],
   "source": [
    "print(\"Confusion matrix\")\n",
    "print(confusion_matrix(y_true=y_test, y_pred=clf.predict(X_test) ))\n",
    "print(\"Classification report\")\n",
    "print(classification_report(y_true=y_test, y_pred=clf.predict(X_test) ))"
   ]
  },
  {
   "cell_type": "markdown",
   "metadata": {},
   "source": [
    "# Random Forest algorithm"
   ]
  },
  {
   "cell_type": "code",
   "execution_count": 25,
   "metadata": {
    "collapsed": true
   },
   "outputs": [],
   "source": [
    "from sklearn.ensemble import RandomForestClassifier"
   ]
  },
  {
   "cell_type": "code",
   "execution_count": 33,
   "metadata": {
    "collapsed": true
   },
   "outputs": [],
   "source": [
    "clf = RandomForestClassifier(n_estimators=100)\n",
    "clf = clf.fit(X_train, y_train)"
   ]
  },
  {
   "cell_type": "code",
   "execution_count": 34,
   "metadata": {},
   "outputs": [
    {
     "data": {
      "text/plain": [
       "0.85849404250092132"
      ]
     },
     "execution_count": 34,
     "metadata": {},
     "output_type": "execute_result"
    }
   ],
   "source": [
    "clf.score(X_test,y_test)"
   ]
  },
  {
   "cell_type": "code",
   "execution_count": 35,
   "metadata": {},
   "outputs": [
    {
     "name": "stdout",
     "output_type": "stream",
     "text": [
      "AGE 14.9282789562 percent\n",
      "FNLWGHT 16.1516423846 percent\n",
      "EDUCATION_NUM 10.8614732302 percent\n",
      "SEX 1.26811061212 percent\n",
      "CAPITAL_GAIN 9.94011811443 percent\n",
      "CAPITAL_LOSS 3.36613534858 percent\n",
      "HOURS_PER_WEEK 8.46363045597 percent\n",
      "marital_Married-civ-spouse 5.37259885657 percent\n",
      "marital_Never-married 2.86863145948 percent\n",
      "occ_Exec-managerial 2.02255835413 percent\n",
      "occ_Prof-specialty 1.74470148608 percent\n",
      "rel_Husband 4.62714851852 percent\n",
      "rel_Not-in-family 1.41192462036 percent\n"
     ]
    }
   ],
   "source": [
    "for featname, featimp in zip(list(df.drop(\"TARGET\",axis=1).columns), list(clf.feature_importances_)):\n",
    "    if featimp > 0.01:\n",
    "        print(featname, featimp*100,\"percent\")"
   ]
  },
  {
   "cell_type": "code",
   "execution_count": 36,
   "metadata": {},
   "outputs": [
    {
     "name": "stdout",
     "output_type": "stream",
     "text": [
      "Confusion matrix\n",
      "[[5780  454]\n",
      " [ 698 1209]]\n",
      "Classification report\n",
      "             precision    recall  f1-score   support\n",
      "\n",
      "          0       0.89      0.93      0.91      6234\n",
      "          1       0.73      0.63      0.68      1907\n",
      "\n",
      "avg / total       0.85      0.86      0.86      8141\n",
      "\n"
     ]
    }
   ],
   "source": [
    "print(\"Confusion matrix\")\n",
    "print(confusion_matrix(y_true=y_test, y_pred=clf.predict(X_test) ))\n",
    "print(\"Classification report\")\n",
    "print(classification_report(y_true=y_test, y_pred=clf.predict(X_test) ))"
   ]
  },
  {
   "cell_type": "markdown",
   "metadata": {},
   "source": [
    "# AdaBoost algorithm"
   ]
  },
  {
   "cell_type": "code",
   "execution_count": 37,
   "metadata": {
    "collapsed": true
   },
   "outputs": [],
   "source": [
    "from sklearn.ensemble import AdaBoostClassifier"
   ]
  },
  {
   "cell_type": "code",
   "execution_count": 38,
   "metadata": {
    "collapsed": true
   },
   "outputs": [],
   "source": [
    "clf = AdaBoostClassifier(n_estimators=100)\n",
    "clf = clf.fit(X_train, y_train)"
   ]
  },
  {
   "cell_type": "code",
   "execution_count": 39,
   "metadata": {},
   "outputs": [
    {
     "data": {
      "text/plain": [
       "0.86795234000737009"
      ]
     },
     "execution_count": 39,
     "metadata": {},
     "output_type": "execute_result"
    }
   ],
   "source": [
    "clf.score(X_test,y_test)"
   ]
  },
  {
   "cell_type": "code",
   "execution_count": 40,
   "metadata": {},
   "outputs": [
    {
     "name": "stdout",
     "output_type": "stream",
     "text": [
      "AGE 0.13\n",
      "FNLWGHT 0.05\n",
      "EDUCATION_NUM 0.09\n",
      "SEX 0.03\n",
      "CAPITAL_GAIN 0.22\n",
      "CAPITAL_LOSS 0.14\n",
      "HOURS_PER_WEEK 0.04\n",
      "rel_Husband 0.02\n",
      "rel_Wife 0.02\n"
     ]
    }
   ],
   "source": [
    "for featname, featimp in zip(list(df.drop(\"TARGET\",axis=1).columns), list(clf.feature_importances_)):\n",
    "    if featimp > 0.01:\n",
    "        print(featname, featimp)"
   ]
  },
  {
   "cell_type": "code",
   "execution_count": 41,
   "metadata": {},
   "outputs": [
    {
     "name": "stdout",
     "output_type": "stream",
     "text": [
      "Confusion matrix\n",
      "[[5856  378]\n",
      " [ 697 1210]]\n",
      "Classification report\n",
      "             precision    recall  f1-score   support\n",
      "\n",
      "          0       0.89      0.94      0.92      6234\n",
      "          1       0.76      0.63      0.69      1907\n",
      "\n",
      "avg / total       0.86      0.87      0.86      8141\n",
      "\n"
     ]
    }
   ],
   "source": [
    "print(\"Confusion matrix\")\n",
    "print(confusion_matrix(y_true=y_test, y_pred=clf.predict(X_test) ))\n",
    "print(\"Classification report\")\n",
    "print(classification_report(y_true=y_test, y_pred=clf.predict(X_test) ))"
   ]
  },
  {
   "cell_type": "markdown",
   "metadata": {},
   "source": [
    "# Gradient Boosting algorithm"
   ]
  },
  {
   "cell_type": "code",
   "execution_count": 42,
   "metadata": {
    "collapsed": true
   },
   "outputs": [],
   "source": [
    "from sklearn.ensemble import GradientBoostingClassifier"
   ]
  },
  {
   "cell_type": "code",
   "execution_count": 43,
   "metadata": {
    "collapsed": true
   },
   "outputs": [],
   "source": [
    "clf = GradientBoostingClassifier(n_estimators=100)\n",
    "clf = clf.fit(X_train,y_train)"
   ]
  },
  {
   "cell_type": "code",
   "execution_count": 44,
   "metadata": {},
   "outputs": [
    {
     "data": {
      "text/plain": [
       "0.87040904065839575"
      ]
     },
     "execution_count": 44,
     "metadata": {},
     "output_type": "execute_result"
    }
   ],
   "source": [
    "clf.score(X_test,y_test)"
   ]
  },
  {
   "cell_type": "code",
   "execution_count": 45,
   "metadata": {},
   "outputs": [
    {
     "name": "stdout",
     "output_type": "stream",
     "text": [
      "AGE 0.134555457818\n",
      "FNLWGHT 0.0337250059606\n",
      "EDUCATION_NUM 0.10677104892\n",
      "SEX 0.0189195617662\n",
      "CAPITAL_GAIN 0.118222267744\n",
      "CAPITAL_LOSS 0.129163799669\n",
      "HOURS_PER_WEEK 0.0711553177061\n",
      "work_Federal-gov 0.0150988984744\n",
      "work_Self-emp-not-inc 0.0159094912641\n",
      "marital_Married-civ-spouse 0.103676868866\n",
      "occ_Exec-managerial 0.0294722163642\n",
      "occ_Farming-fishing 0.02203913761\n",
      "occ_Other-service 0.0188427695009\n",
      "occ_Prof-specialty 0.0144819874234\n",
      "occ_Protective-serv 0.0101553156761\n",
      "occ_Tech-support 0.0142565044234\n",
      "rel_Husband 0.0102364180271\n",
      "rel_Wife 0.0283733509428\n",
      "race_White 0.0103255208702\n"
     ]
    }
   ],
   "source": [
    "for featname, featimp in zip(list(df.drop(\"TARGET\",axis=1).columns), list(clf.feature_importances_)):\n",
    "    if featimp > 0.01:\n",
    "        print(featname, featimp)"
   ]
  },
  {
   "cell_type": "code",
   "execution_count": 46,
   "metadata": {},
   "outputs": [
    {
     "name": "stdout",
     "output_type": "stream",
     "text": [
      "Confusion matrix\n",
      "[[5897  337]\n",
      " [ 718 1189]]\n",
      "Classification report\n",
      "             precision    recall  f1-score   support\n",
      "\n",
      "          0       0.89      0.95      0.92      6234\n",
      "          1       0.78      0.62      0.69      1907\n",
      "\n",
      "avg / total       0.87      0.87      0.87      8141\n",
      "\n"
     ]
    }
   ],
   "source": [
    "print(\"Confusion matrix\")\n",
    "print(confusion_matrix(y_true=y_test, y_pred=clf.predict(X_test) ))\n",
    "print(\"Classification report\")\n",
    "print(classification_report(y_true=y_test, y_pred=clf.predict(X_test) ))"
   ]
  },
  {
   "cell_type": "markdown",
   "metadata": {},
   "source": [
    "# Learning with balanced data"
   ]
  },
  {
   "cell_type": "markdown",
   "metadata": {},
   "source": [
    "The precision and recall of the algorithms in the >50k case is significantly lower. This can be due to the fact that most of the data has < 50k. Let us choose an equal number of each label and repeat the learning."
   ]
  },
  {
   "cell_type": "code",
   "execution_count": 49,
   "metadata": {},
   "outputs": [
    {
     "data": {
      "text/plain": [
       "(32561, 7841, 24720)"
      ]
     },
     "execution_count": 49,
     "metadata": {},
     "output_type": "execute_result"
    }
   ],
   "source": [
    "len(df), len(df[ df[\"TARGET\"]==1 ]), len(df[ df[\"TARGET\"]==0 ])"
   ]
  },
  {
   "cell_type": "code",
   "execution_count": 171,
   "metadata": {
    "collapsed": true
   },
   "outputs": [],
   "source": [
    "rich = df[ df[\"TARGET\"]==1 ]\n",
    "poor = df[ df[\"TARGET\"]==0 ].sample(len(rich))"
   ]
  },
  {
   "cell_type": "code",
   "execution_count": 172,
   "metadata": {
    "collapsed": true
   },
   "outputs": [],
   "source": [
    "df_bal = pd.concat((rich,poor))"
   ]
  },
  {
   "cell_type": "code",
   "execution_count": 173,
   "metadata": {},
   "outputs": [
    {
     "data": {
      "text/plain": [
       "15682"
      ]
     },
     "execution_count": 173,
     "metadata": {},
     "output_type": "execute_result"
    }
   ],
   "source": [
    "len(df_bal)"
   ]
  },
  {
   "cell_type": "code",
   "execution_count": 174,
   "metadata": {},
   "outputs": [
    {
     "data": {
      "text/plain": [
       "((15682, 96), (15682,))"
      ]
     },
     "execution_count": 174,
     "metadata": {},
     "output_type": "execute_result"
    }
   ],
   "source": [
    "X = np.array(df_bal.drop(\"TARGET\",axis=1))\n",
    "y = np.array(df_bal[\"TARGET\"])\n",
    "\n",
    "X.shape, y.shape"
   ]
  },
  {
   "cell_type": "code",
   "execution_count": 179,
   "metadata": {
    "collapsed": true
   },
   "outputs": [],
   "source": [
    "X_train, X_test, y_train, y_test = train_test_split(X, y,test_size=0.25)"
   ]
  },
  {
   "cell_type": "code",
   "execution_count": 180,
   "metadata": {
    "collapsed": true
   },
   "outputs": [],
   "source": [
    "clf = GradientBoostingClassifier(n_estimators=100)\n",
    "clf = clf.fit(X_train,y_train)"
   ]
  },
  {
   "cell_type": "code",
   "execution_count": 181,
   "metadata": {},
   "outputs": [
    {
     "data": {
      "text/plain": [
       "0.83295077786279015"
      ]
     },
     "execution_count": 181,
     "metadata": {},
     "output_type": "execute_result"
    }
   ],
   "source": [
    "clf.score(X_test,y_test)"
   ]
  },
  {
   "cell_type": "code",
   "execution_count": 182,
   "metadata": {},
   "outputs": [
    {
     "name": "stdout",
     "output_type": "stream",
     "text": [
      "Confusion matrix\n",
      "[[1567  404]\n",
      " [ 251 1699]]\n",
      "Classification report\n",
      "             precision    recall  f1-score   support\n",
      "\n",
      "          0       0.86      0.80      0.83      1971\n",
      "          1       0.81      0.87      0.84      1950\n",
      "\n",
      "avg / total       0.84      0.83      0.83      3921\n",
      "\n"
     ]
    }
   ],
   "source": [
    "print(\"Confusion matrix\")\n",
    "print(confusion_matrix(y_true=y_test, y_pred=clf.predict(X_test) ))\n",
    "print(\"Classification report\")\n",
    "print(classification_report(y_true=y_test, y_pred=clf.predict(X_test) ))"
   ]
  },
  {
   "cell_type": "markdown",
   "metadata": {},
   "source": [
    "Even though the overall accuracy is down a little, we have increased the precision and the accuracy of the >50k cases."
   ]
  },
  {
   "cell_type": "code",
   "execution_count": 185,
   "metadata": {},
   "outputs": [
    {
     "name": "stdout",
     "output_type": "stream",
     "text": [
      "AGE 0.120689554242\n",
      "FNLWGHT 0.0371659753372\n",
      "EDUCATION_NUM 0.0878571922715\n",
      "CAPITAL_GAIN 0.114161868711\n",
      "CAPITAL_LOSS 0.0980555319702\n",
      "HOURS_PER_WEEK 0.085559878969\n",
      "marital_Married-civ-spouse 0.101439488292\n",
      "occ_Exec-managerial 0.0291078732585\n",
      "occ_Prof-specialty 0.0275814329182\n",
      "rel_Wife 0.0370934125303\n"
     ]
    }
   ],
   "source": [
    "for featname, featimp in zip(list(df.drop(\"TARGET\",axis=1).columns), list(clf.feature_importances_)):\n",
    "    if featimp > 0.02:\n",
    "        print(featname, featimp)"
   ]
  },
  {
   "cell_type": "markdown",
   "metadata": {},
   "source": [
    "# Naive Bayes"
   ]
  },
  {
   "cell_type": "markdown",
   "metadata": {},
   "source": [
    "## Data preparation"
   ]
  },
  {
   "cell_type": "markdown",
   "metadata": {},
   "source": [
    "We apply BernouilliNB, which requires binary features. So we transform the raw data as follows:\n",
    "* Discretize `AGE`, `CAPITAL_GAIN`, `CAPITAL_LOSS`, `HOURS_PER_WEEK`, `FNLWGHT`. The values will be 0 for the first 20-percentile, 1 for the second, and so on. Except for `HOURS_PER_WEEK`.\n",
    "* For most people `CAPITAL_GAIN` and `CAPITAL_LOSS` are zero. So apply the discretization to values above 0.\n",
    "* `HOURS_PER_WEEK` has a very narrow distribution. Most people report a 40-hour week. The 20-percentiles attain the same value. We discretize it with only two values: 0 (<=40 hours) and 1 (>40 hours).\n",
    "* Apply `pandas.get_dummies()` to convert them to binary feature vectors."
   ]
  },
  {
   "cell_type": "markdown",
   "metadata": {},
   "source": [
    "Threshold values for numeric variables:"
   ]
  },
  {
   "cell_type": "code",
   "execution_count": 113,
   "metadata": {},
   "outputs": [
    {
     "name": "stdout",
     "output_type": "stream",
     "text": [
      "AGE\n",
      "[ 26.  33.  41.  50.]\n",
      "FNLWGHT\n",
      "[ 106648.  158662.  196338.  259873.]\n",
      "CAPITAL_GAIN\n",
      "[  3103.   5013.   7688.  15024.]\n",
      "CAPITAL_LOSS\n",
      "[ 1617.  1876.  1902.  2001.]\n"
     ]
    }
   ],
   "source": [
    "for feat in [\"AGE\", \"FNLWGHT\", \"CAPITAL_GAIN\",\"CAPITAL_LOSS\"]:\n",
    "    print(feat)\n",
    "    print(np.percentile(df[df[feat]>0][feat], [20,40,60,80]))"
   ]
  },
  {
   "cell_type": "markdown",
   "metadata": {},
   "source": [
    "A utility function that takes a value x and a list of thresholds, and returns the index of the interval where x belongs."
   ]
  },
  {
   "cell_type": "code",
   "execution_count": 105,
   "metadata": {},
   "outputs": [],
   "source": [
    "def conv(x,thresholds):\n",
    "    i = 0\n",
    "    while i<len(thresholds):\n",
    "        if x < thresholds[i]:\n",
    "            break\n",
    "        i += 1\n",
    "    return i"
   ]
  },
  {
   "cell_type": "markdown",
   "metadata": {},
   "source": [
    "Add new fields to the data frame with this grouping."
   ]
  },
  {
   "cell_type": "code",
   "execution_count": 137,
   "metadata": {},
   "outputs": [],
   "source": [
    "for feat in [\"AGE\", \"FNLWGHT\", \"CAPITAL_GAIN\",\"CAPITAL_LOSS\"]:\n",
    "    lst = np.percentile(df[df[feat]>0][feat], [20,40,60,80])\n",
    "    df[feat+\"_G\"] = pd.Series([conv(x, lst) for x in df[feat]])"
   ]
  },
  {
   "cell_type": "markdown",
   "metadata": {},
   "source": [
    "We break the working hours per week by its median only (median becomes 0)."
   ]
  },
  {
   "cell_type": "code",
   "execution_count": 143,
   "metadata": {},
   "outputs": [],
   "source": [
    "hrs_med = [df[\"HOURS_PER_WEEK\"].median()+1]\n",
    "df[\"HOURS_PER_WEEK_G\"] = pd.Series([conv(x, hrs_med ) for x in df[\"HOURS_PER_WEEK\"]])"
   ]
  },
  {
   "cell_type": "code",
   "execution_count": 144,
   "metadata": {},
   "outputs": [
    {
     "data": {
      "text/html": [
       "<div>\n",
       "<style>\n",
       "    .dataframe thead tr:only-child th {\n",
       "        text-align: right;\n",
       "    }\n",
       "\n",
       "    .dataframe thead th {\n",
       "        text-align: left;\n",
       "    }\n",
       "\n",
       "    .dataframe tbody tr th {\n",
       "        vertical-align: top;\n",
       "    }\n",
       "</style>\n",
       "<table border=\"1\" class=\"dataframe\">\n",
       "  <thead>\n",
       "    <tr style=\"text-align: right;\">\n",
       "      <th></th>\n",
       "      <th>AGE</th>\n",
       "      <th>FNLWGHT</th>\n",
       "      <th>EDUCATION_NUM</th>\n",
       "      <th>SEX</th>\n",
       "      <th>CAPITAL_GAIN</th>\n",
       "      <th>CAPITAL_LOSS</th>\n",
       "      <th>HOURS_PER_WEEK</th>\n",
       "      <th>TARGET</th>\n",
       "      <th>work_?</th>\n",
       "      <th>work_Federal-gov</th>\n",
       "      <th>...</th>\n",
       "      <th>ctry_Thailand</th>\n",
       "      <th>ctry_Trinadad&amp;Tobago</th>\n",
       "      <th>ctry_United-States</th>\n",
       "      <th>ctry_Vietnam</th>\n",
       "      <th>ctry_Yugoslavia</th>\n",
       "      <th>AGE_G</th>\n",
       "      <th>FNLWGHT_G</th>\n",
       "      <th>CAPITAL_GAIN_G</th>\n",
       "      <th>CAPITAL_LOSS_G</th>\n",
       "      <th>HOURS_PER_WEEK_G</th>\n",
       "    </tr>\n",
       "  </thead>\n",
       "  <tbody>\n",
       "    <tr>\n",
       "      <th>0</th>\n",
       "      <td>39</td>\n",
       "      <td>77516</td>\n",
       "      <td>13</td>\n",
       "      <td>0</td>\n",
       "      <td>2174</td>\n",
       "      <td>0</td>\n",
       "      <td>40</td>\n",
       "      <td>0</td>\n",
       "      <td>0</td>\n",
       "      <td>0</td>\n",
       "      <td>...</td>\n",
       "      <td>0</td>\n",
       "      <td>0</td>\n",
       "      <td>1</td>\n",
       "      <td>0</td>\n",
       "      <td>0</td>\n",
       "      <td>2</td>\n",
       "      <td>0</td>\n",
       "      <td>0</td>\n",
       "      <td>0</td>\n",
       "      <td>0</td>\n",
       "    </tr>\n",
       "    <tr>\n",
       "      <th>1</th>\n",
       "      <td>50</td>\n",
       "      <td>83311</td>\n",
       "      <td>13</td>\n",
       "      <td>0</td>\n",
       "      <td>0</td>\n",
       "      <td>0</td>\n",
       "      <td>13</td>\n",
       "      <td>0</td>\n",
       "      <td>0</td>\n",
       "      <td>0</td>\n",
       "      <td>...</td>\n",
       "      <td>0</td>\n",
       "      <td>0</td>\n",
       "      <td>1</td>\n",
       "      <td>0</td>\n",
       "      <td>0</td>\n",
       "      <td>4</td>\n",
       "      <td>0</td>\n",
       "      <td>0</td>\n",
       "      <td>0</td>\n",
       "      <td>0</td>\n",
       "    </tr>\n",
       "    <tr>\n",
       "      <th>2</th>\n",
       "      <td>38</td>\n",
       "      <td>215646</td>\n",
       "      <td>9</td>\n",
       "      <td>0</td>\n",
       "      <td>0</td>\n",
       "      <td>0</td>\n",
       "      <td>40</td>\n",
       "      <td>0</td>\n",
       "      <td>0</td>\n",
       "      <td>0</td>\n",
       "      <td>...</td>\n",
       "      <td>0</td>\n",
       "      <td>0</td>\n",
       "      <td>1</td>\n",
       "      <td>0</td>\n",
       "      <td>0</td>\n",
       "      <td>2</td>\n",
       "      <td>3</td>\n",
       "      <td>0</td>\n",
       "      <td>0</td>\n",
       "      <td>0</td>\n",
       "    </tr>\n",
       "    <tr>\n",
       "      <th>3</th>\n",
       "      <td>53</td>\n",
       "      <td>234721</td>\n",
       "      <td>7</td>\n",
       "      <td>0</td>\n",
       "      <td>0</td>\n",
       "      <td>0</td>\n",
       "      <td>40</td>\n",
       "      <td>0</td>\n",
       "      <td>0</td>\n",
       "      <td>0</td>\n",
       "      <td>...</td>\n",
       "      <td>0</td>\n",
       "      <td>0</td>\n",
       "      <td>1</td>\n",
       "      <td>0</td>\n",
       "      <td>0</td>\n",
       "      <td>4</td>\n",
       "      <td>3</td>\n",
       "      <td>0</td>\n",
       "      <td>0</td>\n",
       "      <td>0</td>\n",
       "    </tr>\n",
       "    <tr>\n",
       "      <th>4</th>\n",
       "      <td>28</td>\n",
       "      <td>338409</td>\n",
       "      <td>13</td>\n",
       "      <td>1</td>\n",
       "      <td>0</td>\n",
       "      <td>0</td>\n",
       "      <td>40</td>\n",
       "      <td>0</td>\n",
       "      <td>0</td>\n",
       "      <td>0</td>\n",
       "      <td>...</td>\n",
       "      <td>0</td>\n",
       "      <td>0</td>\n",
       "      <td>0</td>\n",
       "      <td>0</td>\n",
       "      <td>0</td>\n",
       "      <td>1</td>\n",
       "      <td>4</td>\n",
       "      <td>0</td>\n",
       "      <td>0</td>\n",
       "      <td>0</td>\n",
       "    </tr>\n",
       "  </tbody>\n",
       "</table>\n",
       "<p>5 rows × 97 columns</p>\n",
       "</div>"
      ],
      "text/plain": [
       "   AGE  FNLWGHT  EDUCATION_NUM  SEX  CAPITAL_GAIN  CAPITAL_LOSS  \\\n",
       "0   39    77516             13    0          2174             0   \n",
       "1   50    83311             13    0             0             0   \n",
       "2   38   215646              9    0             0             0   \n",
       "3   53   234721              7    0             0             0   \n",
       "4   28   338409             13    1             0             0   \n",
       "\n",
       "   HOURS_PER_WEEK  TARGET  work_?  work_Federal-gov        ...         \\\n",
       "0              40       0       0                 0        ...          \n",
       "1              13       0       0                 0        ...          \n",
       "2              40       0       0                 0        ...          \n",
       "3              40       0       0                 0        ...          \n",
       "4              40       0       0                 0        ...          \n",
       "\n",
       "   ctry_Thailand  ctry_Trinadad&Tobago  ctry_United-States  ctry_Vietnam  \\\n",
       "0              0                     0                   1             0   \n",
       "1              0                     0                   1             0   \n",
       "2              0                     0                   1             0   \n",
       "3              0                     0                   1             0   \n",
       "4              0                     0                   0             0   \n",
       "\n",
       "   ctry_Yugoslavia  AGE_G  FNLWGHT_G  CAPITAL_GAIN_G  CAPITAL_LOSS_G  \\\n",
       "0                0      2          0               0               0   \n",
       "1                0      4          0               0               0   \n",
       "2                0      2          3               0               0   \n",
       "3                0      4          3               0               0   \n",
       "4                0      1          4               0               0   \n",
       "\n",
       "   HOURS_PER_WEEK_G  \n",
       "0                 0  \n",
       "1                 0  \n",
       "2                 0  \n",
       "3                 0  \n",
       "4                 0  \n",
       "\n",
       "[5 rows x 97 columns]"
      ]
     },
     "execution_count": 144,
     "metadata": {},
     "output_type": "execute_result"
    }
   ],
   "source": [
    "df.head()"
   ]
  },
  {
   "cell_type": "markdown",
   "metadata": {},
   "source": [
    "Now remove the numerical columns"
   ]
  },
  {
   "cell_type": "code",
   "execution_count": 147,
   "metadata": {},
   "outputs": [],
   "source": [
    "df2 = df.drop([\"AGE\", \"FNLWGHT\", \"CAPITAL_GAIN\",\"CAPITAL_LOSS\",\"HOURS_PER_WEEK\"],axis=1)"
   ]
  },
  {
   "cell_type": "code",
   "execution_count": 149,
   "metadata": {},
   "outputs": [
    {
     "data": {
      "text/html": [
       "<div>\n",
       "<style>\n",
       "    .dataframe thead tr:only-child th {\n",
       "        text-align: right;\n",
       "    }\n",
       "\n",
       "    .dataframe thead th {\n",
       "        text-align: left;\n",
       "    }\n",
       "\n",
       "    .dataframe tbody tr th {\n",
       "        vertical-align: top;\n",
       "    }\n",
       "</style>\n",
       "<table border=\"1\" class=\"dataframe\">\n",
       "  <thead>\n",
       "    <tr style=\"text-align: right;\">\n",
       "      <th></th>\n",
       "      <th>EDUCATION_NUM</th>\n",
       "      <th>SEX</th>\n",
       "      <th>TARGET</th>\n",
       "      <th>work_?</th>\n",
       "      <th>work_Federal-gov</th>\n",
       "      <th>work_Local-gov</th>\n",
       "      <th>work_Never-worked</th>\n",
       "      <th>work_Private</th>\n",
       "      <th>work_Self-emp-inc</th>\n",
       "      <th>work_Self-emp-not-inc</th>\n",
       "      <th>...</th>\n",
       "      <th>ctry_Thailand</th>\n",
       "      <th>ctry_Trinadad&amp;Tobago</th>\n",
       "      <th>ctry_United-States</th>\n",
       "      <th>ctry_Vietnam</th>\n",
       "      <th>ctry_Yugoslavia</th>\n",
       "      <th>AGE_G</th>\n",
       "      <th>FNLWGHT_G</th>\n",
       "      <th>CAPITAL_GAIN_G</th>\n",
       "      <th>CAPITAL_LOSS_G</th>\n",
       "      <th>HOURS_PER_WEEK_G</th>\n",
       "    </tr>\n",
       "  </thead>\n",
       "  <tbody>\n",
       "    <tr>\n",
       "      <th>0</th>\n",
       "      <td>13</td>\n",
       "      <td>0</td>\n",
       "      <td>0</td>\n",
       "      <td>0</td>\n",
       "      <td>0</td>\n",
       "      <td>0</td>\n",
       "      <td>0</td>\n",
       "      <td>0</td>\n",
       "      <td>0</td>\n",
       "      <td>0</td>\n",
       "      <td>...</td>\n",
       "      <td>0</td>\n",
       "      <td>0</td>\n",
       "      <td>1</td>\n",
       "      <td>0</td>\n",
       "      <td>0</td>\n",
       "      <td>2</td>\n",
       "      <td>0</td>\n",
       "      <td>0</td>\n",
       "      <td>0</td>\n",
       "      <td>0</td>\n",
       "    </tr>\n",
       "    <tr>\n",
       "      <th>1</th>\n",
       "      <td>13</td>\n",
       "      <td>0</td>\n",
       "      <td>0</td>\n",
       "      <td>0</td>\n",
       "      <td>0</td>\n",
       "      <td>0</td>\n",
       "      <td>0</td>\n",
       "      <td>0</td>\n",
       "      <td>0</td>\n",
       "      <td>1</td>\n",
       "      <td>...</td>\n",
       "      <td>0</td>\n",
       "      <td>0</td>\n",
       "      <td>1</td>\n",
       "      <td>0</td>\n",
       "      <td>0</td>\n",
       "      <td>4</td>\n",
       "      <td>0</td>\n",
       "      <td>0</td>\n",
       "      <td>0</td>\n",
       "      <td>0</td>\n",
       "    </tr>\n",
       "    <tr>\n",
       "      <th>2</th>\n",
       "      <td>9</td>\n",
       "      <td>0</td>\n",
       "      <td>0</td>\n",
       "      <td>0</td>\n",
       "      <td>0</td>\n",
       "      <td>0</td>\n",
       "      <td>0</td>\n",
       "      <td>1</td>\n",
       "      <td>0</td>\n",
       "      <td>0</td>\n",
       "      <td>...</td>\n",
       "      <td>0</td>\n",
       "      <td>0</td>\n",
       "      <td>1</td>\n",
       "      <td>0</td>\n",
       "      <td>0</td>\n",
       "      <td>2</td>\n",
       "      <td>3</td>\n",
       "      <td>0</td>\n",
       "      <td>0</td>\n",
       "      <td>0</td>\n",
       "    </tr>\n",
       "    <tr>\n",
       "      <th>3</th>\n",
       "      <td>7</td>\n",
       "      <td>0</td>\n",
       "      <td>0</td>\n",
       "      <td>0</td>\n",
       "      <td>0</td>\n",
       "      <td>0</td>\n",
       "      <td>0</td>\n",
       "      <td>1</td>\n",
       "      <td>0</td>\n",
       "      <td>0</td>\n",
       "      <td>...</td>\n",
       "      <td>0</td>\n",
       "      <td>0</td>\n",
       "      <td>1</td>\n",
       "      <td>0</td>\n",
       "      <td>0</td>\n",
       "      <td>4</td>\n",
       "      <td>3</td>\n",
       "      <td>0</td>\n",
       "      <td>0</td>\n",
       "      <td>0</td>\n",
       "    </tr>\n",
       "    <tr>\n",
       "      <th>4</th>\n",
       "      <td>13</td>\n",
       "      <td>1</td>\n",
       "      <td>0</td>\n",
       "      <td>0</td>\n",
       "      <td>0</td>\n",
       "      <td>0</td>\n",
       "      <td>0</td>\n",
       "      <td>1</td>\n",
       "      <td>0</td>\n",
       "      <td>0</td>\n",
       "      <td>...</td>\n",
       "      <td>0</td>\n",
       "      <td>0</td>\n",
       "      <td>0</td>\n",
       "      <td>0</td>\n",
       "      <td>0</td>\n",
       "      <td>1</td>\n",
       "      <td>4</td>\n",
       "      <td>0</td>\n",
       "      <td>0</td>\n",
       "      <td>0</td>\n",
       "    </tr>\n",
       "  </tbody>\n",
       "</table>\n",
       "<p>5 rows × 92 columns</p>\n",
       "</div>"
      ],
      "text/plain": [
       "   EDUCATION_NUM  SEX  TARGET  work_?  work_Federal-gov  work_Local-gov  \\\n",
       "0             13    0       0       0                 0               0   \n",
       "1             13    0       0       0                 0               0   \n",
       "2              9    0       0       0                 0               0   \n",
       "3              7    0       0       0                 0               0   \n",
       "4             13    1       0       0                 0               0   \n",
       "\n",
       "   work_Never-worked  work_Private  work_Self-emp-inc  work_Self-emp-not-inc  \\\n",
       "0                  0             0                  0                      0   \n",
       "1                  0             0                  0                      1   \n",
       "2                  0             1                  0                      0   \n",
       "3                  0             1                  0                      0   \n",
       "4                  0             1                  0                      0   \n",
       "\n",
       "         ...         ctry_Thailand  ctry_Trinadad&Tobago  ctry_United-States  \\\n",
       "0        ...                     0                     0                   1   \n",
       "1        ...                     0                     0                   1   \n",
       "2        ...                     0                     0                   1   \n",
       "3        ...                     0                     0                   1   \n",
       "4        ...                     0                     0                   0   \n",
       "\n",
       "   ctry_Vietnam  ctry_Yugoslavia  AGE_G  FNLWGHT_G  CAPITAL_GAIN_G  \\\n",
       "0             0                0      2          0               0   \n",
       "1             0                0      4          0               0   \n",
       "2             0                0      2          3               0   \n",
       "3             0                0      4          3               0   \n",
       "4             0                0      1          4               0   \n",
       "\n",
       "   CAPITAL_LOSS_G  HOURS_PER_WEEK_G  \n",
       "0               0                 0  \n",
       "1               0                 0  \n",
       "2               0                 0  \n",
       "3               0                 0  \n",
       "4               0                 0  \n",
       "\n",
       "[5 rows x 92 columns]"
      ]
     },
     "execution_count": 149,
     "metadata": {},
     "output_type": "execute_result"
    }
   ],
   "source": [
    "df2.head()"
   ]
  },
  {
   "cell_type": "markdown",
   "metadata": {},
   "source": [
    "Now we binarize the categories."
   ]
  },
  {
   "cell_type": "code",
   "execution_count": 150,
   "metadata": {
    "collapsed": true
   },
   "outputs": [],
   "source": [
    "df2 = pd.get_dummies(df2,\n",
    "               columns=[\"AGE_G\",\n",
    "                        \"FNLWGHT_G\",\n",
    "                        \"CAPITAL_GAIN_G\",\n",
    "                        \"CAPITAL_LOSS_G\",\n",
    "                        \"EDUCATION_NUM\"\n",
    "                       ],\n",
    "               prefix=[\"age\",\n",
    "                       \"fnlwght\",\n",
    "                       \"cgain\",\n",
    "                       \"closs\",\n",
    "                       \"edu\"\n",
    "                      ])"
   ]
  },
  {
   "cell_type": "code",
   "execution_count": 151,
   "metadata": {},
   "outputs": [
    {
     "data": {
      "text/html": [
       "<div>\n",
       "<style>\n",
       "    .dataframe thead tr:only-child th {\n",
       "        text-align: right;\n",
       "    }\n",
       "\n",
       "    .dataframe thead th {\n",
       "        text-align: left;\n",
       "    }\n",
       "\n",
       "    .dataframe tbody tr th {\n",
       "        vertical-align: top;\n",
       "    }\n",
       "</style>\n",
       "<table border=\"1\" class=\"dataframe\">\n",
       "  <thead>\n",
       "    <tr style=\"text-align: right;\">\n",
       "      <th></th>\n",
       "      <th>SEX</th>\n",
       "      <th>TARGET</th>\n",
       "      <th>work_?</th>\n",
       "      <th>work_Federal-gov</th>\n",
       "      <th>work_Local-gov</th>\n",
       "      <th>work_Never-worked</th>\n",
       "      <th>work_Private</th>\n",
       "      <th>work_Self-emp-inc</th>\n",
       "      <th>work_Self-emp-not-inc</th>\n",
       "      <th>work_State-gov</th>\n",
       "      <th>...</th>\n",
       "      <th>edu_7</th>\n",
       "      <th>edu_8</th>\n",
       "      <th>edu_9</th>\n",
       "      <th>edu_10</th>\n",
       "      <th>edu_11</th>\n",
       "      <th>edu_12</th>\n",
       "      <th>edu_13</th>\n",
       "      <th>edu_14</th>\n",
       "      <th>edu_15</th>\n",
       "      <th>edu_16</th>\n",
       "    </tr>\n",
       "  </thead>\n",
       "  <tbody>\n",
       "    <tr>\n",
       "      <th>0</th>\n",
       "      <td>0</td>\n",
       "      <td>0</td>\n",
       "      <td>0</td>\n",
       "      <td>0</td>\n",
       "      <td>0</td>\n",
       "      <td>0</td>\n",
       "      <td>0</td>\n",
       "      <td>0</td>\n",
       "      <td>0</td>\n",
       "      <td>1</td>\n",
       "      <td>...</td>\n",
       "      <td>0</td>\n",
       "      <td>0</td>\n",
       "      <td>0</td>\n",
       "      <td>0</td>\n",
       "      <td>0</td>\n",
       "      <td>0</td>\n",
       "      <td>1</td>\n",
       "      <td>0</td>\n",
       "      <td>0</td>\n",
       "      <td>0</td>\n",
       "    </tr>\n",
       "    <tr>\n",
       "      <th>1</th>\n",
       "      <td>0</td>\n",
       "      <td>0</td>\n",
       "      <td>0</td>\n",
       "      <td>0</td>\n",
       "      <td>0</td>\n",
       "      <td>0</td>\n",
       "      <td>0</td>\n",
       "      <td>0</td>\n",
       "      <td>1</td>\n",
       "      <td>0</td>\n",
       "      <td>...</td>\n",
       "      <td>0</td>\n",
       "      <td>0</td>\n",
       "      <td>0</td>\n",
       "      <td>0</td>\n",
       "      <td>0</td>\n",
       "      <td>0</td>\n",
       "      <td>1</td>\n",
       "      <td>0</td>\n",
       "      <td>0</td>\n",
       "      <td>0</td>\n",
       "    </tr>\n",
       "    <tr>\n",
       "      <th>2</th>\n",
       "      <td>0</td>\n",
       "      <td>0</td>\n",
       "      <td>0</td>\n",
       "      <td>0</td>\n",
       "      <td>0</td>\n",
       "      <td>0</td>\n",
       "      <td>1</td>\n",
       "      <td>0</td>\n",
       "      <td>0</td>\n",
       "      <td>0</td>\n",
       "      <td>...</td>\n",
       "      <td>0</td>\n",
       "      <td>0</td>\n",
       "      <td>1</td>\n",
       "      <td>0</td>\n",
       "      <td>0</td>\n",
       "      <td>0</td>\n",
       "      <td>0</td>\n",
       "      <td>0</td>\n",
       "      <td>0</td>\n",
       "      <td>0</td>\n",
       "    </tr>\n",
       "    <tr>\n",
       "      <th>3</th>\n",
       "      <td>0</td>\n",
       "      <td>0</td>\n",
       "      <td>0</td>\n",
       "      <td>0</td>\n",
       "      <td>0</td>\n",
       "      <td>0</td>\n",
       "      <td>1</td>\n",
       "      <td>0</td>\n",
       "      <td>0</td>\n",
       "      <td>0</td>\n",
       "      <td>...</td>\n",
       "      <td>1</td>\n",
       "      <td>0</td>\n",
       "      <td>0</td>\n",
       "      <td>0</td>\n",
       "      <td>0</td>\n",
       "      <td>0</td>\n",
       "      <td>0</td>\n",
       "      <td>0</td>\n",
       "      <td>0</td>\n",
       "      <td>0</td>\n",
       "    </tr>\n",
       "    <tr>\n",
       "      <th>4</th>\n",
       "      <td>1</td>\n",
       "      <td>0</td>\n",
       "      <td>0</td>\n",
       "      <td>0</td>\n",
       "      <td>0</td>\n",
       "      <td>0</td>\n",
       "      <td>1</td>\n",
       "      <td>0</td>\n",
       "      <td>0</td>\n",
       "      <td>0</td>\n",
       "      <td>...</td>\n",
       "      <td>0</td>\n",
       "      <td>0</td>\n",
       "      <td>0</td>\n",
       "      <td>0</td>\n",
       "      <td>0</td>\n",
       "      <td>0</td>\n",
       "      <td>1</td>\n",
       "      <td>0</td>\n",
       "      <td>0</td>\n",
       "      <td>0</td>\n",
       "    </tr>\n",
       "  </tbody>\n",
       "</table>\n",
       "<p>5 rows × 123 columns</p>\n",
       "</div>"
      ],
      "text/plain": [
       "   SEX  TARGET  work_?  work_Federal-gov  work_Local-gov  work_Never-worked  \\\n",
       "0    0       0       0                 0               0                  0   \n",
       "1    0       0       0                 0               0                  0   \n",
       "2    0       0       0                 0               0                  0   \n",
       "3    0       0       0                 0               0                  0   \n",
       "4    1       0       0                 0               0                  0   \n",
       "\n",
       "   work_Private  work_Self-emp-inc  work_Self-emp-not-inc  work_State-gov  \\\n",
       "0             0                  0                      0               1   \n",
       "1             0                  0                      1               0   \n",
       "2             1                  0                      0               0   \n",
       "3             1                  0                      0               0   \n",
       "4             1                  0                      0               0   \n",
       "\n",
       "    ...    edu_7  edu_8  edu_9  edu_10  edu_11  edu_12  edu_13  edu_14  \\\n",
       "0   ...        0      0      0       0       0       0       1       0   \n",
       "1   ...        0      0      0       0       0       0       1       0   \n",
       "2   ...        0      0      1       0       0       0       0       0   \n",
       "3   ...        1      0      0       0       0       0       0       0   \n",
       "4   ...        0      0      0       0       0       0       1       0   \n",
       "\n",
       "   edu_15  edu_16  \n",
       "0       0       0  \n",
       "1       0       0  \n",
       "2       0       0  \n",
       "3       0       0  \n",
       "4       0       0  \n",
       "\n",
       "[5 rows x 123 columns]"
      ]
     },
     "execution_count": 151,
     "metadata": {},
     "output_type": "execute_result"
    }
   ],
   "source": [
    "df2.head()"
   ]
  },
  {
   "cell_type": "markdown",
   "metadata": {},
   "source": [
    "Now we have a binary data set. We can apply Bernouilli Naive Bayes."
   ]
  },
  {
   "cell_type": "markdown",
   "metadata": {},
   "source": [
    "## Bernouilli Naive Bayes"
   ]
  },
  {
   "cell_type": "code",
   "execution_count": 168,
   "metadata": {
    "collapsed": true
   },
   "outputs": [],
   "source": [
    "X = np.array(df2.drop(\"TARGET\",axis=1))\n",
    "y = np.array(df2[\"TARGET\"])\n",
    "X_train, X_test, y_train, y_test = train_test_split(X, y,test_size=0.25)"
   ]
  },
  {
   "cell_type": "code",
   "execution_count": 155,
   "metadata": {
    "collapsed": true
   },
   "outputs": [],
   "source": [
    "from sklearn.naive_bayes import BernoulliNB"
   ]
  },
  {
   "cell_type": "code",
   "execution_count": 169,
   "metadata": {},
   "outputs": [
    {
     "data": {
      "text/plain": [
       "0.79253163002088201"
      ]
     },
     "execution_count": 169,
     "metadata": {},
     "output_type": "execute_result"
    }
   ],
   "source": [
    "clf = BernoulliNB(binarize=None)\n",
    "clf.fit(X_train,y_train)\n",
    "clf.score(X_test,y_test)"
   ]
  },
  {
   "cell_type": "code",
   "execution_count": 163,
   "metadata": {},
   "outputs": [
    {
     "name": "stdout",
     "output_type": "stream",
     "text": [
      "Confusion matrix\n",
      "[[4867 1358]\n",
      " [ 360 1556]]\n",
      "Classification report\n",
      "             precision    recall  f1-score   support\n",
      "\n",
      "          0       0.93      0.78      0.85      6225\n",
      "          1       0.53      0.81      0.64      1916\n",
      "\n",
      "avg / total       0.84      0.79      0.80      8141\n",
      "\n"
     ]
    }
   ],
   "source": [
    "print(\"Confusion matrix\")\n",
    "print(confusion_matrix(y_true=y_test, y_pred=clf.predict(X_test) ))\n",
    "print(\"Classification report\")\n",
    "print(classification_report(y_true=y_test, y_pred=clf.predict(X_test) ))"
   ]
  },
  {
   "cell_type": "markdown",
   "metadata": {},
   "source": [
    "## Bernouilli Naive Bayes with balancing"
   ]
  },
  {
   "cell_type": "code",
   "execution_count": 164,
   "metadata": {
    "collapsed": true
   },
   "outputs": [],
   "source": [
    "rich = df2[ df2[\"TARGET\"]==1 ]\n",
    "poor = df2[ df2[\"TARGET\"]==0 ].sample(len(rich))\n",
    "df2_bal = pd.concat((rich,poor))"
   ]
  },
  {
   "cell_type": "code",
   "execution_count": 165,
   "metadata": {
    "collapsed": true
   },
   "outputs": [],
   "source": [
    "X = np.array(df2_bal.drop(\"TARGET\",axis=1))\n",
    "y = np.array(df2_bal[\"TARGET\"])\n",
    "X_train, X_test, y_train, y_test = train_test_split(X, y,test_size=0.25)"
   ]
  },
  {
   "cell_type": "code",
   "execution_count": 166,
   "metadata": {},
   "outputs": [
    {
     "data": {
      "text/plain": [
       "0.79290997194593216"
      ]
     },
     "execution_count": 166,
     "metadata": {},
     "output_type": "execute_result"
    }
   ],
   "source": [
    "clf = BernoulliNB(binarize=None)\n",
    "clf.fit(X_train,y_train)\n",
    "clf.score(X_test, y_test)"
   ]
  },
  {
   "cell_type": "code",
   "execution_count": 167,
   "metadata": {},
   "outputs": [
    {
     "name": "stdout",
     "output_type": "stream",
     "text": [
      "Confusion matrix\n",
      "[[1422  530]\n",
      " [ 282 1687]]\n",
      "Classification report\n",
      "             precision    recall  f1-score   support\n",
      "\n",
      "          0       0.83      0.73      0.78      1952\n",
      "          1       0.76      0.86      0.81      1969\n",
      "\n",
      "avg / total       0.80      0.79      0.79      3921\n",
      "\n"
     ]
    }
   ],
   "source": [
    "print(\"Confusion matrix\")\n",
    "print(confusion_matrix(y_true=y_test, y_pred=clf.predict(X_test) ))\n",
    "print(\"Classification report\")\n",
    "print(classification_report(y_true=y_test, y_pred=clf.predict(X_test) ))"
   ]
  },
  {
   "cell_type": "markdown",
   "metadata": {},
   "source": [
    "Again, balancing gives a better estimate for the richer group, but the overall accuracy of Naive Bayes is less than tree-based methods."
   ]
  }
 ],
 "metadata": {
  "kernelspec": {
   "display_name": "Python 3",
   "language": "python",
   "name": "python3"
  },
  "language_info": {
   "codemirror_mode": {
    "name": "ipython",
    "version": 3
   },
   "file_extension": ".py",
   "mimetype": "text/x-python",
   "name": "python",
   "nbconvert_exporter": "python",
   "pygments_lexer": "ipython3",
   "version": "3.6.1"
  }
 },
 "nbformat": 4,
 "nbformat_minor": 2
}
