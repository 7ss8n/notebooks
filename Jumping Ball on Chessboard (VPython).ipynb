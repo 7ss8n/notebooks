{
 "cells": [
  {
   "cell_type": "code",
   "execution_count": 1,
   "metadata": {
    "collapsed": true
   },
   "outputs": [],
   "source": [
    "import numpy as np"
   ]
  },
  {
   "cell_type": "code",
   "execution_count": 2,
   "metadata": {
    "collapsed": true
   },
   "outputs": [],
   "source": [
    "n = 8 # bir kenardaki karelerin sayısı\n",
    "# karelerin merkezlerinin x ve y koordinatları:\n",
    "xclist = np.arange(-n/2+0.5,n/2)  \n",
    "yclist = np.arange(-n/2+0.5,n/2)"
   ]
  },
  {
   "cell_type": "code",
   "execution_count": 3,
   "metadata": {
    "collapsed": true
   },
   "outputs": [],
   "source": [
    "# rastgele bir nokta seç ve bir topu o noktaya koy\n",
    "xtop = np.random.choice(xclist,1)\n",
    "ytop = np.random.choice(yclist,1)\n",
    "rtop = 0.25"
   ]
  },
  {
   "cell_type": "code",
   "execution_count": 4,
   "metadata": {
    "collapsed": true
   },
   "outputs": [],
   "source": [
    "def sonraki(xcur, ycur):\n",
    "    directions = ((-1,0),(1,0),(0,1),(0,-1))\n",
    "    d = np.random.choice(list(range(len(directions))))\n",
    "    dx, dy = directions[d]\n",
    "    while True:\n",
    "        xnext, ynext = xcur+dx, ycur+dy\n",
    "        if xnext >= xclist[0] and xnext <= xclist[-1] and ynext >= yclist[0] and ynext <= yclist[-1]:\n",
    "            return xnext, ynext\n",
    "        # Repeat loop until coordinates are inside the board\n",
    "        d = np.random.choice(list(range(len(directions))))\n",
    "        dx, dy = directions[d]"
   ]
  },
  {
   "cell_type": "code",
   "execution_count": null,
   "metadata": {},
   "outputs": [
    {
     "data": {
      "application/javascript": [
       "require.undef(\"nbextensions/vpython_libraries/glow.min\");"
      ],
      "text/plain": [
       "<IPython.core.display.Javascript object>"
      ]
     },
     "metadata": {},
     "output_type": "display_data"
    },
    {
     "data": {
      "application/javascript": [
       "require.undef(\"nbextensions/vpython_libraries/glowcomm\");"
      ],
      "text/plain": [
       "<IPython.core.display.Javascript object>"
      ]
     },
     "metadata": {},
     "output_type": "display_data"
    },
    {
     "data": {
      "application/javascript": [
       "require.undef(\"nbextensions/vpython_libraries/jquery-ui.custom.min\");"
      ],
      "text/plain": [
       "<IPython.core.display.Javascript object>"
      ]
     },
     "metadata": {},
     "output_type": "display_data"
    },
    {
     "data": {
      "application/javascript": [
       "require([\"nbextensions/vpython_libraries/glow.min\"], function(){console.log(\"GLOW LOADED\");})"
      ],
      "text/plain": [
       "<IPython.core.display.Javascript object>"
      ]
     },
     "metadata": {},
     "output_type": "display_data"
    },
    {
     "data": {
      "application/javascript": [
       "require([\"nbextensions/vpython_libraries/glowcomm\"], function(){console.log(\"GLOWCOMM LOADED\");})"
      ],
      "text/plain": [
       "<IPython.core.display.Javascript object>"
      ]
     },
     "metadata": {},
     "output_type": "display_data"
    },
    {
     "data": {
      "application/javascript": [
       "require([\"nbextensions/vpython_libraries/jquery-ui.custom.min\"], function(){console.log(\"JQUERY LOADED\");})"
      ],
      "text/plain": [
       "<IPython.core.display.Javascript object>"
      ]
     },
     "metadata": {},
     "output_type": "display_data"
    },
    {
     "data": {
      "text/html": [
       "<div id=\"glowscript\" class=\"glowscript\"></div>"
      ],
      "text/plain": [
       "<IPython.core.display.HTML object>"
      ]
     },
     "metadata": {},
     "output_type": "display_data"
    },
    {
     "data": {
      "application/javascript": [
       "window.__context = { glowscript_container: $(\"#glowscript\").removeAttr(\"id\")}"
      ],
      "text/plain": [
       "<IPython.core.display.Javascript object>"
      ]
     },
     "metadata": {},
     "output_type": "display_data"
    }
   ],
   "source": [
    "from vpython import *\n",
    "sayac = 1\n",
    "for yc in yclist:\n",
    "    for xc in xclist:\n",
    "        if sayac%2 == 1:\n",
    "            boxcolor = color.gray(0.5)\n",
    "        else:\n",
    "            boxcolor = color.white\n",
    "        box(pos=vector(xc,yc,0), length=1, width=0.1, height=1, color=boxcolor)\n",
    "        sayac += 1\n",
    "    sayac += 1\n",
    "top = sphere(pos=vector(xtop,ytop,rtop+0.1),radius=rtop, color=color.red)\n",
    "jumptime = 1 # bir kareden ötekine zıplama zamanı\n",
    "jumpheight = 1  # zıplama yüksekliği\n",
    "while True:\n",
    "    xnext, ynext = sonraki(xtop,ytop)\n",
    "    for t in np.linspace(0,jumptime,50):\n",
    "        rate(50)\n",
    "        top.pos = vector(xtop + (xnext-xtop)*t, ytop + (ynext-ytop)*t,\n",
    "                        0.1 + jumpheight*np.sin(np.pi*t))\n",
    "        #top.pos = vector(xtop,ytop,rtop+0.1)\n",
    "    xtop, ytop = xnext, ynext\n",
    "        \n"
   ]
  },
  {
   "cell_type": "code",
   "execution_count": null,
   "metadata": {
    "collapsed": true
   },
   "outputs": [],
   "source": []
  }
 ],
 "metadata": {
  "kernelspec": {
   "display_name": "VPython",
   "language": "python",
   "name": "vpython"
  },
  "language_info": {
   "codemirror_mode": {
    "name": "ipython",
    "version": 3
   },
   "file_extension": ".py",
   "mimetype": "text/x-python",
   "name": "python",
   "nbconvert_exporter": "python",
   "pygments_lexer": "ipython3",
   "version": "3.6.1"
  }
 },
 "nbformat": 4,
 "nbformat_minor": 2
}
