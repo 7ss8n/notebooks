{
 "metadata": {
  "name": "",
  "signature": "sha256:634bdbf5ff6d19f0eb75b3da1ebbe6247d62ff376be4a1385945194f22db423b"
 },
 "nbformat": 3,
 "nbformat_minor": 0,
 "worksheets": [
  {
   "cells": [
    {
     "cell_type": "heading",
     "level": 1,
     "metadata": {},
     "source": [
      "Resampling Stats in Python"
     ]
    },
    {
     "cell_type": "markdown",
     "metadata": {},
     "source": [
      "This is a Pythonic \"transcription\" of Daniel T. Kaplan's 1999 book [_Resampling Stats in Matlab_](http://www.macalester.edu/~kaplan/Resampling/PDF/index.html) using Python 3.\n",
      "\n",
      "The book is freely available in the author's website. I'm not going to copy it here verbatim. It's a short, informative book, and I recommend readers to read it to understand the general principles of statistical simulations and, in particular, how _resampling_ can be used to obtain confidence intervals for data.\n",
      "\n",
      "In this document I keep the conceptual discussion to a minimum, as it is well-covered by Kaplan. I focus on providing an interactive Python document illustrating the examples. Verbatim copying of Kaplan's text is indicated as a quotation (gray bar on the left).\n",
      "\n",
      "Kaplan's book uses Matlab, and a proprietary Matlab package named _Resampling Stats_. Neither is required to run the programs here. This notebook relies on open-source software only.\n",
      "\n",
      "If you want to modify and run the examples in this document, you need to install Python 3 and IPython (or Jupyter). Numpy and matplotlib packages come together with IPython, so you don't need to worry about installing them separately."
     ]
    },
    {
     "cell_type": "code",
     "collapsed": false,
     "input": [
      "%pylab inline"
     ],
     "language": "python",
     "metadata": {},
     "outputs": [
      {
       "output_type": "stream",
       "stream": "stdout",
       "text": [
        "Populating the interactive namespace from numpy and matplotlib\n"
       ]
      }
     ],
     "prompt_number": 2
    },
    {
     "cell_type": "heading",
     "level": 2,
     "metadata": {},
     "source": [
      "Chapter 2 - Making Statements with Precision: Confidence Intervals"
     ]
    },
    {
     "cell_type": "heading",
     "level": 3,
     "metadata": {},
     "source": [
      "Example 1: Poll results"
     ]
    },
    {
     "cell_type": "markdown",
     "metadata": {},
     "source": [
      "Suppose a political party has polled among 500 people. The support rate turns out to be 8% (40 people). The leader of the political party needs to decide whether to pull out of the elections or not. How confident are we about this result? Is it possible that the actual support is larger than 10% among the entire voter population?"
     ]
    },
    {
     "cell_type": "code",
     "collapsed": false,
     "input": [
      "pollsize = 500\n",
      "trials = 1000\n",
      "support = zeros(trials)  # Each element holds the outcome of one poll of 500 people\n",
      "for t in range(trials):\n",
      "    poll = random.choice( [0,1], pollsize, p = [0.92, 0.08] )  # Resampling: Generate 1000 polls.\n",
      "    support[t] = sum(poll==1) / pollsize"
     ],
     "language": "python",
     "metadata": {},
     "outputs": [],
     "prompt_number": 10
    },
    {
     "cell_type": "code",
     "collapsed": false,
     "input": [
      "hist(support, bins=20);"
     ],
     "language": "python",
     "metadata": {},
     "outputs": [
      {
       "metadata": {},
       "output_type": "display_data",
       "png": "[encoded data removed]",
       "text": [
        "<matplotlib.figure.Figure at 0x7fcad5394ef0>"
       ]
      }
     ],
     "prompt_number": 11
    },
    {
     "cell_type": "markdown",
     "metadata": {},
     "source": [
      "We see that the tail extends significantly to the right of the 0.1 value. So there's some chance that the actual support can be larger than 10%.\n",
      "Let us determine the 95% confidence interval from the resampling:"
     ]
    },
    {
     "cell_type": "code",
     "collapsed": false,
     "input": [
      "percentile(support, [2.5, 97.5])"
     ],
     "language": "python",
     "metadata": {},
     "outputs": [
      {
       "metadata": {},
       "output_type": "pyout",
       "prompt_number": 12,
       "text": [
        "[0.058000000000000003, 0.106]"
       ]
      }
     ],
     "prompt_number": 12
    },
    {
     "cell_type": "markdown",
     "metadata": {},
     "source": [
      "So, 95% of the time, simulated poll values fall between 0.058 and 0.106. Therefore, there is some possibility that the support among the voter population is larger than 10%. 48 out of 1000 trial polls show a support rate more than 10%. "
     ]
    },
    {
     "cell_type": "code",
     "collapsed": false,
     "input": [
      "sum(support>0.1)"
     ],
     "language": "python",
     "metadata": {},
     "outputs": [
      {
       "metadata": {},
       "output_type": "pyout",
       "prompt_number": 53,
       "text": [
        "48"
       ]
      }
     ],
     "prompt_number": 53
    },
    {
     "cell_type": "markdown",
     "metadata": {},
     "source": [
      "We tell the party leader that he should not give up just yet, but more data is needed for a good decision.\n",
      "\n",
      "Compare this with the classical textbook form based on Gaussian sampling distribution. The 95%-confidence interval is given by:\n",
      "$$ 0.08 \\pm 1.96\\sqrt{\\frac{0.08(1-0.08)}{500}} $$\n",
      "(See, e.g., https://onlinecourses.science.psu.edu/stat200/node/48)"
     ]
    },
    {
     "cell_type": "code",
     "collapsed": false,
     "input": [
      "0.08 - 1.96*sqrt(0.08*(1-0.08)/500), 0.08 + 1.96*sqrt(0.08*(1-0.08)/500)"
     ],
     "language": "python",
     "metadata": {},
     "outputs": [
      {
       "metadata": {},
       "output_type": "pyout",
       "prompt_number": 15,
       "text": [
        "(0.056220102607454345, 0.10377989739254566)"
       ]
      }
     ],
     "prompt_number": 15
    },
    {
     "cell_type": "markdown",
     "metadata": {},
     "source": [
      "The classical, non-resampling calculation of the confidence level agrees with the resampling result above."
     ]
    },
    {
     "cell_type": "heading",
     "level": 3,
     "metadata": {},
     "source": [
      "Example 2: Lightbulb lifetimes"
     ]
    },
    {
     "cell_type": "markdown",
     "metadata": {},
     "source": [
      "A lightbulb manufacturer measures the lifetime of its bulbs by selecting 10 lightbulbs randomly from the manufacturing line, and turning them on and off at every hour. The lifetimes of the sample is recorded as below:"
     ]
    },
    {
     "cell_type": "code",
     "collapsed": false,
     "input": [
      "data = array([2103, 2786, 2543, 1987, 7, 2380, 3102, 2452, 3453, 2543])\n",
      "data.mean()"
     ],
     "language": "python",
     "metadata": {},
     "outputs": [
      {
       "metadata": {},
       "output_type": "pyout",
       "prompt_number": 4,
       "text": [
        "2335.5999999999999"
       ]
      }
     ],
     "prompt_number": 4
    },
    {
     "cell_type": "markdown",
     "metadata": {},
     "source": [
      "The average lifetime of the bulbs is 2335.6 hours. Marketing wants to write a round 2500 hours on the package. Would that be misleading advertisement? The mean is a random variable, and it is conceivable that another random sample would have a mean of 2500 or above. How likely is to get a mean lifetime of 2500 or above?\n",
      "\n",
      "Collecting data is time-consuming. Setting up the lab and testing the bulbs takes about 4000 hours, about 6 months. So we need to answer this question with the ten data points we have.\n",
      "\n",
      "We perform resampling to determine the 95% confidence interval for the value of the mean lifetime."
     ]
    },
    {
     "cell_type": "code",
     "collapsed": false,
     "input": [
      "trials = 100000\n",
      "pollsize = len(data)\n",
      "means = zeros(trials)\n",
      "for t in range(trials):\n",
      "    b = random.choice(data, pollsize)\n",
      "    means[t] = b.mean()"
     ],
     "language": "python",
     "metadata": {},
     "outputs": [],
     "prompt_number": 37
    },
    {
     "cell_type": "code",
     "collapsed": false,
     "input": [
      "hist(means,30);"
     ],
     "language": "python",
     "metadata": {},
     "outputs": [
      {
       "metadata": {},
       "output_type": "display_data",
       "png": "[encoded data removed]",
       "text": [
        "<matplotlib.figure.Figure at 0x7fcad53d9198>"
       ]
      }
     ],
     "prompt_number": 38
    },
    {
     "cell_type": "code",
     "collapsed": false,
     "input": [
      "np.percentile(means, [2.5, 97.5])"
     ],
     "language": "python",
     "metadata": {},
     "outputs": [
      {
       "metadata": {},
       "output_type": "pyout",
       "prompt_number": 39,
       "text": [
        "[1728.0, 2802.8024999999993]"
       ]
      }
     ],
     "prompt_number": 39
    },
    {
     "cell_type": "markdown",
     "metadata": {},
     "source": [
      "The 95% confidence range is 1713 to 2786 hours. In other words, we say \"our best information is that the mean lifetime of 10 bulbs selected randomly will be between 1713 and 2786 hours, 95% of the time\". So, advertising the average bulb lifetime as 2500 hours is not misleading.\n",
      "\n",
      "These values themselves are products of a random resampling process, so they will vary each time we run the code above.\n",
      "\n",
      "Instead of resampling, the same confidence interval can be obtained by using analytical methods based on the t-distribution of sample means (see, e.g., https://onlinecourses.science.psu.edu/stat200/node/49) as \n",
      "$$[\\bar{x} - ts/\\sqrt{n}, \\bar{x} + ts\\sqrt{n}]$$\n",
      "where $\\bar{x}$ is the sample mean,\n",
      "\n",
      "$t=2.262$, the value for 95% confidence level with 9 degrees of freedom,\n",
      "\n",
      "$s$ is the sample standard deviation,\n",
      "\n",
      "and $n=10$ is the sample size."
     ]
    },
    {
     "cell_type": "code",
     "collapsed": false,
     "input": [
      "data.mean() - 2.262*data.std()/sqrt(10), data.mean() + 2.262*data.std()/sqrt(10)"
     ],
     "language": "python",
     "metadata": {},
     "outputs": [
      {
       "metadata": {},
       "output_type": "pyout",
       "prompt_number": 34,
       "text": [
        "(1706.3587443827796, 2964.8412556172202)"
       ]
      }
     ],
     "prompt_number": 34
    },
    {
     "cell_type": "heading",
     "level": 3,
     "metadata": {},
     "source": [
      "Bootstrapping"
     ]
    },
    {
     "cell_type": "markdown",
     "metadata": {},
     "source": [
      "Daniel T. Kaplan:\n",
      "> The resampling method can be used to compute the confidence interval of many different types of statistics.  The general term used for this type of calculation is _bootstrapping_.\n",
      "\n",
      "> With the advent of bootstrapping and computers, it has become possible, and even easy, to compute confidence intervals on all sorts of statistics, even ones that you make up for a particular purpose. Historically, statistics and statistics textbooks have emphasized certain statistics, such as the mean or proportion, for which  there  are  algebraic  formulas  for  computing  confidence intervals.\n",
      "\n",
      "> The two examples just presented could easily be handled by these historically conventional techniques.  Since we are now freed from the computational restrictions that have favored the choice of such statistics, one can expect to see increasing diversity in the use of types of descriptive statistics.  Below we present three simple examples involving some simple descriptive statistics:  the minimum, the median, the total distance.  A fourth example shows how confidence intervals can be computed when more than one type of measurement is involved and you're interested in the relationship between the measurements."
     ]
    },
    {
     "cell_type": "heading",
     "level": 3,
     "metadata": {},
     "source": [
      "Example 3: Confidence in the Extreme"
     ]
    },
    {
     "cell_type": "markdown",
     "metadata": {},
     "source": [
      "Resampling allows us to use statistics that are not traditionally analyzed.\n",
      "\n",
      "Suppose that the lightbulb company changes its advertisement. Instead of giving the average lifetime of bulbs, it decides to give a guarantee for the total lifetime of a pack of 4 bulbs. \n",
      "\n",
      "Based on the data we already have, let's find a value for the total lifetime of four bulbs that is 99% guaranteed to be exceeded."
     ]
    },
    {
     "cell_type": "code",
     "collapsed": false,
     "input": [
      "trials = 10000  # must be large enough because we look at the 1% percentile\n",
      "totallife = zeros(trials)\n",
      "for t in range(trials):\n",
      "    b = random.choice(data, 4)  # randomly pick 4 bulbs with replacement\n",
      "    totallife[t] = sum(b)"
     ],
     "language": "python",
     "metadata": {},
     "outputs": [],
     "prompt_number": 19
    },
    {
     "cell_type": "markdown",
     "metadata": {},
     "source": [
      "Display a histogram of total lifetime distribution, generated with resampling."
     ]
    },
    {
     "cell_type": "code",
     "collapsed": false,
     "input": [
      "hist(totallife,30,normed=True)\n",
      "title('Total lifetime of a pack of four lightbulbs')\n",
      "xlabel('Lifetime in hours')\n",
      "ylabel('Frequency');"
     ],
     "language": "python",
     "metadata": {},
     "outputs": [
      {
       "metadata": {},
       "output_type": "display_data",
       "png": "[encoded data removed]",
       "text": [
        "<matplotlib.figure.Figure at 0x7f7b708129b0>"
       ]
      }
     ],
     "prompt_number": 23
    },
    {
     "cell_type": "markdown",
     "metadata": {},
     "source": [
      "To find the lifetime that will be exceeded with 99% confidence, we ask for the first percentile of the total lifetime distribution."
     ]
    },
    {
     "cell_type": "code",
     "collapsed": false,
     "input": [
      "np.percentile(totallife, 1) # 1% of 4-packs have a lifetime less than that"
     ],
     "language": "python",
     "metadata": {},
     "outputs": [
      {
       "metadata": {},
       "output_type": "pyout",
       "prompt_number": 12,
       "text": [
        "4497.0"
       ]
      }
     ],
     "prompt_number": 12
    },
    {
     "cell_type": "markdown",
     "metadata": {},
     "source": [
      "Therefore the company advertises the 4-packs as:\n",
      ">\"The total lifetime of these 4 bulbs will be about 9000 hours but will vary from package to package. There is only a one-percent chance that the bulbs in this package will have a total lifetime of less than 4500 hours; if this happens you get your money back.\""
     ]
    },
    {
     "cell_type": "heading",
     "level": 3,
     "metadata": {},
     "source": [
      "Example 4: Housing prices: Confidence in the median"
     ]
    },
    {
     "cell_type": "markdown",
     "metadata": {},
     "source": [
      "Suppose we want to compare housing prices across different cities. We don't want to use the mean price, because a few outliers like 5-million dollar mansions pull the mean up. In such skewed distributions, it is much better to use the median price.\n",
      "\n",
      "The following is one set of house prices (in $1000)."
     ]
    },
    {
     "cell_type": "code",
     "collapsed": false,
     "input": [
      "prices=array([110, 63, 78, 137, 490, 82, 97, 119, 852, 105, 110, 134, 212, 98])"
     ],
     "language": "python",
     "metadata": {},
     "outputs": [],
     "prompt_number": 24
    },
    {
     "cell_type": "markdown",
     "metadata": {},
     "source": [
      "Generate a distribution of the mean and the median, by resampling this data with replacement."
     ]
    },
    {
     "cell_type": "code",
     "collapsed": false,
     "input": [
      "trials = 10000\n",
      "means = zeros(trials)\n",
      "medians = zeros(trials)\n",
      "N = len(prices)\n",
      "for t in range(trials):\n",
      "    p = random.choice(prices, N)\n",
      "    means[t] = mean(p)\n",
      "    medians[t] = median(p)"
     ],
     "language": "python",
     "metadata": {},
     "outputs": [],
     "prompt_number": 30
    },
    {
     "cell_type": "markdown",
     "metadata": {},
     "source": [
      "Display a histogram of the means:"
     ]
    },
    {
     "cell_type": "code",
     "collapsed": false,
     "input": [
      "hist(means,50,normed=True)\n",
      "title('Distribution of the mean house price')\n",
      "xlabel('Price ($1000)')\n",
      "ylabel('Frequency');"
     ],
     "language": "python",
     "metadata": {},
     "outputs": [
      {
       "metadata": {},
       "output_type": "display_data",
       "png": "[encoded data removed]",
       "text": [
        "<matplotlib.figure.Figure at 0x7f7b704e8710>"
       ]
      }
     ],
     "prompt_number": 33
    },
    {
     "cell_type": "markdown",
     "metadata": {},
     "source": [
      "Display a histogram of the medians:"
     ]
    },
    {
     "cell_type": "code",
     "collapsed": false,
     "input": [
      "hist(medians,50,normed=True)\n",
      "title('Distribution of the median house price')\n",
      "xlabel('Price ($1000)')\n",
      "ylabel('Frequency');"
     ],
     "language": "python",
     "metadata": {},
     "outputs": [
      {
       "metadata": {},
       "output_type": "display_data",
       "png": "[encoded data removed]",
       "text": [
        "<matplotlib.figure.Figure at 0x7f7b703dfcf8>"
       ]
      }
     ],
     "prompt_number": 34
    },
    {
     "cell_type": "markdown",
     "metadata": {},
     "source": [
      "We see that the distribution of the median is much narrower (except some outliers) than the distribution of the mean.\n",
      "\n",
      "Let's find the 95% confidence intervals for the mean and the median."
     ]
    },
    {
     "cell_type": "code",
     "collapsed": false,
     "input": [
      "print('95% confidence interval for the mean = ', percentile(means, [2.5, 97.5]))\n",
      "print('95% confidence interval for the median = ', percentile(medians, [2.5, 97.5]))"
     ],
     "language": "python",
     "metadata": {},
     "outputs": [
      {
       "output_type": "stream",
       "stream": "stdout",
       "text": [
        "95% confidence interval for the mean =  [103.71428571428571, 319.35892857142852]\n",
        "95% confidence interval for the median =  [97.0, 137.0]\n"
       ]
      }
     ],
     "prompt_number": 36
    },
    {
     "cell_type": "markdown",
     "metadata": {},
     "source": [
      "The median has a narrower interval for the 95%-confidence level."
     ]
    },
    {
     "cell_type": "heading",
     "level": 3,
     "metadata": {},
     "source": [
      "Example 5: Confidence in distance"
     ]
    },
    {
     "cell_type": "markdown",
     "metadata": {},
     "source": [
      "Along a road, accidents are recorded at the following distances:"
     ]
    },
    {
     "cell_type": "code",
     "collapsed": false,
     "input": [
      "locations = array([78, 145, 132, 94, 67, 44, 93, 78, 120,34,78,53,119,95])"
     ],
     "language": "python",
     "metadata": {},
     "outputs": [],
     "prompt_number": 3
    },
    {
     "cell_type": "markdown",
     "metadata": {},
     "source": [
      "A hospital is built at the 117th mile of the road. Then, a victim at, say, mile 93 will have to travel $|93-117|=24$ miles to the hospital. The median distance from the accidents in our data to the clinic is then:"
     ]
    },
    {
     "cell_type": "code",
     "collapsed": false,
     "input": [
      "median(abs(locations - 117))"
     ],
     "language": "python",
     "metadata": {},
     "outputs": [
      {
       "metadata": {},
       "output_type": "pyout",
       "prompt_number": 4,
       "text": [
        "33.5"
       ]
      }
     ],
     "prompt_number": 4
    },
    {
     "cell_type": "markdown",
     "metadata": {},
     "source": [
      "A real estate developer wants to sell a piece of land at mile 75, claiming that the median distance to the accidents is less at that location."
     ]
    },
    {
     "cell_type": "code",
     "collapsed": false,
     "input": [
      "median(abs(locations - 75))"
     ],
     "language": "python",
     "metadata": {},
     "outputs": [
      {
       "metadata": {},
       "output_type": "pyout",
       "prompt_number": 5,
       "text": [
        "21.0"
       ]
      }
     ],
     "prompt_number": 5
    },
    {
     "cell_type": "markdown",
     "metadata": {},
     "source": [
      "In fact, we can check every mile along the road, and see which points have the minimum median distance"
     ]
    },
    {
     "cell_type": "code",
     "collapsed": false,
     "input": [
      "x = range(151)\n",
      "medians = [median(abs(locations-d)) for d in x]\n",
      "plot(x,medians)\n",
      "title(\"Median distance to accidents at every mile of the road\")\n",
      "xlabel(\"Distance along the road in miles\")\n",
      "ylabel(\"Median distance to accident sites\");"
     ],
     "language": "python",
     "metadata": {},
     "outputs": [
      {
       "metadata": {},
       "output_type": "display_data",
       "png": "[encoded data removed]",
       "text": [
        "<matplotlib.figure.Figure at 0x7f2c358cfd30>"
       ]
      }
     ],
     "prompt_number": 15
    },
    {
     "cell_type": "markdown",
     "metadata": {},
     "source": [
      "So, indeed mile 75 is one of the points that minimizes the median to accident locations. But does that matter? How confident are we about the value of the median? Let us use resampling to generate a distribution of median values and derive a confidence interval from it."
     ]
    },
    {
     "cell_type": "code",
     "collapsed": false,
     "input": [
      "trials = 1000\n",
      "medians = zeros(trials)\n",
      "for t in range(trials):\n",
      "    s = random.choice(locations, len(locations))\n",
      "    medians[t] = median(abs(s-117))"
     ],
     "language": "python",
     "metadata": {},
     "outputs": [],
     "prompt_number": 25
    },
    {
     "cell_type": "code",
     "collapsed": false,
     "input": [
      "hist(medians,20);"
     ],
     "language": "python",
     "metadata": {},
     "outputs": [
      {
       "metadata": {},
       "output_type": "display_data",
       "png": "[encoded data removed]",
       "text": [
        "<matplotlib.figure.Figure at 0x7f2c356e48d0>"
       ]
      }
     ],
     "prompt_number": 26
    },
    {
     "cell_type": "code",
     "collapsed": false,
     "input": [
      "percentile(medians, [2.5, 97.5])"
     ],
     "language": "python",
     "metadata": {},
     "outputs": [
      {
       "metadata": {},
       "output_type": "pyout",
       "prompt_number": 27,
       "text": [
        "[22.0, 50.0]"
       ]
      }
     ],
     "prompt_number": 27
    },
    {
     "cell_type": "markdown",
     "metadata": {},
     "source": [
      "The 95% confidence range is quite large: The median distance from accident sites to mile 117 is between 22 and 50.\n",
      "\n",
      "Repeating the same calculation for mile 75, we get:"
     ]
    },
    {
     "cell_type": "code",
     "collapsed": false,
     "input": [
      "trials = 1000\n",
      "medians = zeros(trials)\n",
      "for t in range(trials):\n",
      "    s = random.choice(locations, len(locations))\n",
      "    medians[t] = median(abs(s-75))\n",
      "percentile(medians, [2.5, 97.5])"
     ],
     "language": "python",
     "metadata": {},
     "outputs": [
      {
       "metadata": {},
       "output_type": "pyout",
       "prompt_number": 29,
       "text": [
        "[13.0, 43.024999999999977]"
       ]
      }
     ],
     "prompt_number": 29
    },
    {
     "cell_type": "markdown",
     "metadata": {},
     "source": [
      "The confidence interval is not narrower even at mile 75. However, the limits of the confidence interval are smaller by 7 or 9 miles, and this may make a difference in emergency situations."
     ]
    },
    {
     "cell_type": "heading",
     "level": 3,
     "metadata": {},
     "source": [
      "Example 6: Confidence in Correlations: Storks and Babies"
     ]
    },
    {
     "cell_type": "markdown",
     "metadata": {},
     "source": [
      "Some parents are known to claim that babies are brought by storks. Here we investigate the correlation between stork population and new babies over the years. Here is some data:"
     ]
    },
    {
     "cell_type": "code",
     "collapsed": false,
     "input": [
      "years  = array([1965, 1971, 1974, 1977, 1978, 1979, 1980])\n",
      "storks = array([1920, 1700, 1090,  990, 1030,  995,  930])  # in millions\n",
      "babies = array([1.04, 0.78, 0.62, 0.58, 0.57, 0.58, 0.62])  # in millions"
     ],
     "language": "python",
     "metadata": {},
     "outputs": [],
     "prompt_number": 62
    },
    {
     "cell_type": "markdown",
     "metadata": {},
     "source": [
      "Let's plot the number of babies versus the number of storks:"
     ]
    },
    {
     "cell_type": "code",
     "collapsed": true,
     "input": [
      "plot(storks, babies,'o')\n",
      "title(\"Storks vs. babies in Germany between 1965-1980\")\n",
      "xlabel(\"storks (millions)\")\n",
      "ylabel(\"babies (millions)\");"
     ],
     "language": "python",
     "metadata": {},
     "outputs": [
      {
       "metadata": {},
       "output_type": "display_data",
       "png": "[encoded data removed]",
       "text": [
        "<matplotlib.figure.Figure at 0x7f88ea59da90>"
       ]
      }
     ],
     "prompt_number": 30
    },
    {
     "cell_type": "markdown",
     "metadata": {},
     "source": [
      "There seems to be a correlation. Let us evaluate the parameter $r^2$, the square of the correlation coefficient. If $r^2 =0$, the number of babies and storks are not correlated at all. If $r^2=1$, they are perfectly correlated, and the points would fall on a straight line.\n",
      "\n",
      "The correlation coefficient $r$ can be found by using Numpy's `corrcoef` function."
     ]
    },
    {
     "cell_type": "code",
     "collapsed": false,
     "input": [
      "corrcoef(storks,babies)[0,1]**2"
     ],
     "language": "python",
     "metadata": {},
     "outputs": [
      {
       "metadata": {},
       "output_type": "pyout",
       "prompt_number": 31,
       "text": [
        "0.89209955343539937"
       ]
      }
     ],
     "prompt_number": 31
    },
    {
     "cell_type": "markdown",
     "metadata": {},
     "source": [
      "We want to know the confidence interval for the correlation coefficient, and we will use resampling for this purpose. We need to be careful: We should not select stork and baby populations independently. Instead, we need to pair them up and select among those pairs randomly with replacement. In order to do that, we select random index, and use the same index in both lists."
     ]
    },
    {
     "cell_type": "code",
     "collapsed": false,
     "input": [
      "trials=1000\n",
      "r2 = zeros(trials)\n",
      "for n in range(trials):\n",
      "    i = random.choice(range(len(storks)), size=len(storks))\n",
      "    stks = storks[i]\n",
      "    babs = babies[i]\n",
      "    r2[n] = (corrcoef(stks,babs)[0,1]) ** 2"
     ],
     "language": "python",
     "metadata": {},
     "outputs": [],
     "prompt_number": 49
    },
    {
     "cell_type": "code",
     "collapsed": false,
     "input": [
      "hist(r2,30);\n",
      "title(r\"Distribution of $r^2$\")"
     ],
     "language": "python",
     "metadata": {},
     "outputs": [
      {
       "metadata": {},
       "output_type": "pyout",
       "prompt_number": 60,
       "text": [
        "<matplotlib.text.Text at 0x7f88e9d7d0f0>"
       ]
      },
      {
       "metadata": {},
       "output_type": "display_data",
       "png": "[encoded data removed]",
       "text": [
        "<matplotlib.figure.Figure at 0x7f88ea3216d8>"
       ]
      }
     ],
     "prompt_number": 60
    },
    {
     "cell_type": "markdown",
     "metadata": {},
     "source": [
      "This distribution looks different: Most of the samples have $r^2$ values close to 1, but a few of them are close to zero. Using this distribution, the 95% confidence interval turns out to be too large to be meaningful:"
     ]
    },
    {
     "cell_type": "code",
     "collapsed": false,
     "input": [
      "percentile(r2, [2.5,97.5])"
     ],
     "language": "python",
     "metadata": {},
     "outputs": [
      {
       "metadata": {},
       "output_type": "pyout",
       "prompt_number": 61,
       "text": [
        "[0.042700058045082784, 0.99840269132583248]"
       ]
      }
     ],
     "prompt_number": 61
    },
    {
     "cell_type": "markdown",
     "metadata": {},
     "source": [
      "If we examine the samples with very low correlation, we see that they are missing the years 165 and 1971. This can be done by adding two lines to the resampling loop:"
     ]
    },
    {
     "cell_type": "code",
     "collapsed": false,
     "input": [
      "trials=1000\n",
      "r2 = zeros(trials)\n",
      "for n in range(trials):\n",
      "    i = random.choice(range(len(storks)), size=len(storks))\n",
      "    stks = storks[i]\n",
      "    babs = babies[i]\n",
      "    r2[n] = (corrcoef(stks,babs)[0,1]) ** 2\n",
      "    if r2[n] < 0.1:\n",
      "        print(sorted(years[i]))"
     ],
     "language": "python",
     "metadata": {},
     "outputs": [
      {
       "output_type": "stream",
       "stream": "stdout",
       "text": [
        "[1974, 1977, 1977, 1979, 1979, 1979, 1980]\n",
        "[1974, 1974, 1977, 1977, 1977, 1978, 1980]\n",
        "[1974, 1977, 1978, 1978, 1979, 1980, 1980]\n",
        "[1974, 1977, 1977, 1978, 1979, 1980, 1980]\n",
        "[1974, 1974, 1977, 1977, 1978, 1979, 1980]\n",
        "[1974, 1974, 1977, 1978, 1979, 1979, 1980]\n",
        "[1974, 1974, 1977, 1978, 1979, 1980, 1980]\n",
        "[1974, 1977, 1977, 1977, 1979, 1980, 1980]\n",
        "[1974, 1974, 1977, 1978, 1979, 1979, 1980]\n",
        "[1974, 1977, 1977, 1978, 1978, 1979, 1980]"
       ]
      },
      {
       "output_type": "stream",
       "stream": "stdout",
       "text": [
        "\n",
        "[1974, 1977, 1977, 1978, 1979, 1979, 1980]\n",
        "[1974, 1974, 1977, 1978, 1978, 1978, 1980]\n",
        "[1974, 1977, 1977, 1977, 1977, 1980, 1980]\n",
        "[1974, 1977, 1977, 1978, 1978, 1980, 1980]\n",
        "[1974, 1977, 1977, 1978, 1978, 1979, 1980]\n",
        "[1974, 1974, 1974, 1978, 1979, 1980, 1980]\n",
        "[1974, 1977, 1979, 1979, 1979, 1980, 1980]\n",
        "[1974, 1977, 1977, 1978, 1978, 1978, 1980]\n",
        "[1974, 1977, 1977, 1979, 1979, 1979, 1980]\n",
        "[1974, 1974, 1977, 1977, 1979, 1980, 1980]\n",
        "[1974, 1978, 1978, 1979, 1979, 1980, 1980]\n",
        "[1974, 1977, 1977, 1978, 1978, 1979, 1980]\n",
        "[1974, 1977, 1979, 1979, 1979, 1979, 1980]\n",
        "[1974, 1974, 1979, 1979, 1980, 1980, 1980]\n",
        "[1974, 1978, 1979, 1979, 1979, 1979, 1980]\n",
        "[1974, 1977, 1978, 1978, 1979, 1980, 1980]\n",
        "[1974, 1978, 1978, 1978, 1979, 1979, 1980]"
       ]
      },
      {
       "output_type": "stream",
       "stream": "stdout",
       "text": [
        "\n",
        "[1974, 1974, 1977, 1979, 1979, 1980, 1980]\n",
        "[1974, 1974, 1974, 1977, 1978, 1978, 1980]\n",
        "[1974, 1977, 1977, 1977, 1978, 1980, 1980]\n",
        "[1974, 1974, 1974, 1978, 1979, 1980, 1980]\n",
        "[1974, 1974, 1977, 1978, 1980, 1980, 1980]\n",
        "[1974, 1974, 1977, 1978, 1978, 1979, 1980]\n",
        "[1974, 1974, 1977, 1977, 1979, 1980, 1980]\n",
        "[1974, 1977, 1979, 1979, 1980, 1980, 1980]\n",
        "[1974, 1977, 1978, 1979, 1979, 1979, 1980]\n",
        "[1974, 1974, 1977, 1978, 1979, 1979, 1980]\n",
        "[1974, 1977, 1978, 1979, 1979, 1979, 1980]\n",
        "[1974, 1977, 1977, 1978, 1978, 1978, 1980]"
       ]
      },
      {
       "output_type": "stream",
       "stream": "stdout",
       "text": [
        "\n",
        "[1974, 1974, 1974, 1977, 1978, 1980, 1980]\n",
        "[1974, 1974, 1977, 1977, 1978, 1979, 1980]\n",
        "[1974, 1974, 1974, 1978, 1979, 1980, 1980]\n",
        "[1974, 1974, 1977, 1977, 1977, 1978, 1980]\n",
        "[1974, 1974, 1977, 1978, 1980, 1980, 1980]\n",
        "[1974, 1978, 1978, 1978, 1978, 1979, 1980]\n"
       ]
      }
     ],
     "prompt_number": 66
    },
    {
     "cell_type": "markdown",
     "metadata": {},
     "source": [
      "If you look at the babies vs. storks scatterplot again, the two points that stand out in the upper right part are the points from 1965 and 1971. The correlation depends mostly on these two points. If we disregard these points, the rest hardly show a linear correlation.\n",
      "\n",
      "So this correlation can be real or spurious, we can't know without further data."
     ]
    },
    {
     "cell_type": "heading",
     "level": 3,
     "metadata": {},
     "source": [
      "Example 7: How Safe is the Space Shuttle?"
     ]
    },
    {
     "cell_type": "code",
     "collapsed": false,
     "input": [],
     "language": "python",
     "metadata": {},
     "outputs": []
    }
   ],
   "metadata": {}
  }
 ]
}