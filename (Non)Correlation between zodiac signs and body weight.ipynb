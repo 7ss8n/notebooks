{
 "metadata": {
  "name": "",
  "signature": "sha256:5e78070a41c6b1983e9a0db8499254e186e30f6c7eb95a104e982aa14986662b"
 },
 "nbformat": 3,
 "nbformat_minor": 0,
 "worksheets": [
  {
   "cells": [
    {
     "cell_type": "code",
     "collapsed": false,
     "input": [
      "%matplotlib inline\n",
      "import pandas as pd\n",
      "import numpy as np\n",
      "import matplotlib.pyplot as plt\n",
      "plt.style.use(\"ggplot\")"
     ],
     "language": "python",
     "metadata": {},
     "outputs": [],
     "prompt_number": 1
    },
    {
     "cell_type": "heading",
     "level": 2,
     "metadata": {},
     "source": [
      "Introduction"
     ]
    },
    {
     "cell_type": "markdown",
     "metadata": {},
     "source": [
      "My good friend Tevfik Uyar has a knack for challenging astrologers with hard evidence. Upon hearing one astrologer's claim that Taurus, Cancer, and Libra have more weight-related problems, he set up a questionnaire in Twitter, and collected the zodiac sign, gender, weight and height data from 1069 people. He published [his own analysis on his website](http://www.tevfikuyar.com/2016/blog/bilim-felsefe/burclarinizla-kilolarinizin-alakasi-yok.html). He kindly let me use his data for the following analysis.\n",
      "\n",
      "My conclusions support what he found, and we're not surprised: There is no reason to think that zodiac signs are correlated with weight or body-mass index, for any gender."
     ]
    },
    {
     "cell_type": "heading",
     "level": 2,
     "metadata": {},
     "source": [
      "Reading the data"
     ]
    },
    {
     "cell_type": "code",
     "collapsed": false,
     "input": [
      "alldata = pd.read_csv(\"burckilo.csv\")"
     ],
     "language": "python",
     "metadata": {},
     "outputs": [],
     "prompt_number": 2
    },
    {
     "cell_type": "code",
     "collapsed": false,
     "input": [
      "alldata.head()"
     ],
     "language": "python",
     "metadata": {},
     "outputs": [
      {
       "html": [
        "<div style=\"max-height:1000px;max-width:1500px;overflow:auto;\">\n",
        "<table border=\"1\" class=\"dataframe\">\n",
        "  <thead>\n",
        "    <tr style=\"text-align: right;\">\n",
        "      <th></th>\n",
        "      <th>Timestamp</th>\n",
        "      <th>Burcunuz</th>\n",
        "      <th>Biyolojik Cinsiyetiniz</th>\n",
        "      <th>BC</th>\n",
        "      <th>Boyunuz (cm, \u00f6rn=175)</th>\n",
        "      <th>Kilonuz (kg, \u00f6rn = 72)</th>\n",
        "      <th>VKE</th>\n",
        "      <th>Alldata</th>\n",
        "    </tr>\n",
        "  </thead>\n",
        "  <tbody>\n",
        "    <tr>\n",
        "      <th>0</th>\n",
        "      <td> 1/17/2016 13:28:26</td>\n",
        "      <td>   Kova</td>\n",
        "      <td> Erkek</td>\n",
        "      <td>   KovaErkek</td>\n",
        "      <td> 188</td>\n",
        "      <td> 75</td>\n",
        "      <td> 21.22</td>\n",
        "      <td>   KovaErkek18875</td>\n",
        "    </tr>\n",
        "    <tr>\n",
        "      <th>1</th>\n",
        "      <td> 1/17/2016 13:28:32</td>\n",
        "      <td> Terazi</td>\n",
        "      <td> Erkek</td>\n",
        "      <td> TeraziErkek</td>\n",
        "      <td> 180</td>\n",
        "      <td> 52</td>\n",
        "      <td> 16.05</td>\n",
        "      <td> TeraziErkek18052</td>\n",
        "    </tr>\n",
        "    <tr>\n",
        "      <th>2</th>\n",
        "      <td> 1/17/2016 13:28:44</td>\n",
        "      <td>  Aslan</td>\n",
        "      <td> Erkek</td>\n",
        "      <td>  AslanErkek</td>\n",
        "      <td> 177</td>\n",
        "      <td> 73</td>\n",
        "      <td> 23.30</td>\n",
        "      <td>  AslanErkek17773</td>\n",
        "    </tr>\n",
        "    <tr>\n",
        "      <th>3</th>\n",
        "      <td> 1/17/2016 13:28:56</td>\n",
        "      <td>  Aslan</td>\n",
        "      <td> Erkek</td>\n",
        "      <td>  AslanErkek</td>\n",
        "      <td> 177</td>\n",
        "      <td> 58</td>\n",
        "      <td> 18.51</td>\n",
        "      <td>  AslanErkek17758</td>\n",
        "    </tr>\n",
        "    <tr>\n",
        "      <th>4</th>\n",
        "      <td> 1/17/2016 13:28:59</td>\n",
        "      <td>  Basak</td>\n",
        "      <td> Erkek</td>\n",
        "      <td>  BasakErkek</td>\n",
        "      <td> 174</td>\n",
        "      <td> 68</td>\n",
        "      <td> 22.46</td>\n",
        "      <td>  BasakErkek17468</td>\n",
        "    </tr>\n",
        "  </tbody>\n",
        "</table>\n",
        "</div>"
       ],
       "metadata": {},
       "output_type": "pyout",
       "prompt_number": 3,
       "text": [
        "            Timestamp Burcunuz Biyolojik Cinsiyetiniz           BC  \\\n",
        "0  1/17/2016 13:28:26     Kova                  Erkek    KovaErkek   \n",
        "1  1/17/2016 13:28:32   Terazi                  Erkek  TeraziErkek   \n",
        "2  1/17/2016 13:28:44    Aslan                  Erkek   AslanErkek   \n",
        "3  1/17/2016 13:28:56    Aslan                  Erkek   AslanErkek   \n",
        "4  1/17/2016 13:28:59    Basak                  Erkek   BasakErkek   \n",
        "\n",
        "   Boyunuz (cm, \u00f6rn=175)  Kilonuz (kg, \u00f6rn = 72)    VKE           Alldata  \n",
        "0                    188                      75  21.22    KovaErkek18875  \n",
        "1                    180                      52  16.05  TeraziErkek18052  \n",
        "2                    177                      73  23.30   AslanErkek17773  \n",
        "3                    177                      58  18.51   AslanErkek17758  \n",
        "4                    174                      68  22.46   BasakErkek17468  "
       ]
      }
     ],
     "prompt_number": 3
    },
    {
     "cell_type": "heading",
     "level": 2,
     "metadata": {},
     "source": [
      "Cleanup of data"
     ]
    },
    {
     "cell_type": "markdown",
     "metadata": {},
     "source": [
      "Cleanup: Remove derived columns, keep only the sign, gender, height, weight, and body-mass index data. Translate column names."
     ]
    },
    {
     "cell_type": "code",
     "collapsed": false,
     "input": [
      "del alldata['Timestamp']\n",
      "del alldata['BC']\n",
      "del alldata['Alldata']\n",
      "alldata.columns = ('Sign','Gender','Height','Weight','BMI')"
     ],
     "language": "python",
     "metadata": {},
     "outputs": [],
     "prompt_number": 4
    },
    {
     "cell_type": "markdown",
     "metadata": {},
     "source": [
      "Replace 'Erkek' with 'M', 'Kad\u0131n' with 'F'."
     ]
    },
    {
     "cell_type": "code",
     "collapsed": false,
     "input": [
      "alldata['Gender'] = alldata['Gender'].replace('Erkek','M')\n",
      "alldata['Gender'] = alldata['Gender'].replace('Kad\u0131n','F')"
     ],
     "language": "python",
     "metadata": {},
     "outputs": [],
     "prompt_number": 5
    },
    {
     "cell_type": "markdown",
     "metadata": {},
     "source": [
      "Replace sign names with numerical values for correlation calculation."
     ]
    },
    {
     "cell_type": "code",
     "collapsed": false,
     "input": [
      "signs = list(enumerate(sorted(pd.unique(alldata.Sign))))\n",
      "for i in range(12):\n",
      "    alldata['Sign'] = alldata['Sign'].replace(signs[i][1], signs[i][0])"
     ],
     "language": "python",
     "metadata": {},
     "outputs": [],
     "prompt_number": 6
    },
    {
     "cell_type": "code",
     "collapsed": false,
     "input": [
      "alldata"
     ],
     "language": "python",
     "metadata": {},
     "outputs": [
      {
       "html": [
        "<div style=\"max-height:1000px;max-width:1500px;overflow:auto;\">\n",
        "<table border=\"1\" class=\"dataframe\">\n",
        "  <thead>\n",
        "    <tr style=\"text-align: right;\">\n",
        "      <th></th>\n",
        "      <th>Sign</th>\n",
        "      <th>Gender</th>\n",
        "      <th>Height</th>\n",
        "      <th>Weight</th>\n",
        "      <th>BMI</th>\n",
        "    </tr>\n",
        "  </thead>\n",
        "  <tbody>\n",
        "    <tr>\n",
        "      <th>0   </th>\n",
        "      <td>  7</td>\n",
        "      <td> M</td>\n",
        "      <td> 188</td>\n",
        "      <td>  75</td>\n",
        "      <td> 21.22</td>\n",
        "    </tr>\n",
        "    <tr>\n",
        "      <th>1   </th>\n",
        "      <td>  9</td>\n",
        "      <td> M</td>\n",
        "      <td> 180</td>\n",
        "      <td>  52</td>\n",
        "      <td> 16.05</td>\n",
        "    </tr>\n",
        "    <tr>\n",
        "      <th>2   </th>\n",
        "      <td>  1</td>\n",
        "      <td> M</td>\n",
        "      <td> 177</td>\n",
        "      <td>  73</td>\n",
        "      <td> 23.30</td>\n",
        "    </tr>\n",
        "    <tr>\n",
        "      <th>3   </th>\n",
        "      <td>  1</td>\n",
        "      <td> M</td>\n",
        "      <td> 177</td>\n",
        "      <td>  58</td>\n",
        "      <td> 18.51</td>\n",
        "    </tr>\n",
        "    <tr>\n",
        "      <th>4   </th>\n",
        "      <td>  3</td>\n",
        "      <td> M</td>\n",
        "      <td> 174</td>\n",
        "      <td>  68</td>\n",
        "      <td> 22.46</td>\n",
        "    </tr>\n",
        "    <tr>\n",
        "      <th>5   </th>\n",
        "      <td> 10</td>\n",
        "      <td> M</td>\n",
        "      <td> 172</td>\n",
        "      <td>  73</td>\n",
        "      <td> 24.68</td>\n",
        "    </tr>\n",
        "    <tr>\n",
        "      <th>6   </th>\n",
        "      <td>  5</td>\n",
        "      <td> M</td>\n",
        "      <td> 180</td>\n",
        "      <td>  68</td>\n",
        "      <td> 20.99</td>\n",
        "    </tr>\n",
        "    <tr>\n",
        "      <th>7   </th>\n",
        "      <td>  6</td>\n",
        "      <td> M</td>\n",
        "      <td> 180</td>\n",
        "      <td>  72</td>\n",
        "      <td> 22.22</td>\n",
        "    </tr>\n",
        "    <tr>\n",
        "      <th>8   </th>\n",
        "      <td> 10</td>\n",
        "      <td> M</td>\n",
        "      <td> 188</td>\n",
        "      <td>  95</td>\n",
        "      <td> 26.88</td>\n",
        "    </tr>\n",
        "    <tr>\n",
        "      <th>9   </th>\n",
        "      <td>  9</td>\n",
        "      <td> M</td>\n",
        "      <td> 185</td>\n",
        "      <td>  80</td>\n",
        "      <td> 23.37</td>\n",
        "    </tr>\n",
        "    <tr>\n",
        "      <th>10  </th>\n",
        "      <td>  1</td>\n",
        "      <td> M</td>\n",
        "      <td> 186</td>\n",
        "      <td>  60</td>\n",
        "      <td> 17.34</td>\n",
        "    </tr>\n",
        "    <tr>\n",
        "      <th>11  </th>\n",
        "      <td>  4</td>\n",
        "      <td> M</td>\n",
        "      <td> 178</td>\n",
        "      <td> 101</td>\n",
        "      <td> 31.88</td>\n",
        "    </tr>\n",
        "    <tr>\n",
        "      <th>12  </th>\n",
        "      <td> 10</td>\n",
        "      <td> M</td>\n",
        "      <td> 187</td>\n",
        "      <td>  95</td>\n",
        "      <td> 27.17</td>\n",
        "    </tr>\n",
        "    <tr>\n",
        "      <th>13  </th>\n",
        "      <td>  9</td>\n",
        "      <td> M</td>\n",
        "      <td> 180</td>\n",
        "      <td>  80</td>\n",
        "      <td> 24.69</td>\n",
        "    </tr>\n",
        "    <tr>\n",
        "      <th>14  </th>\n",
        "      <td>  8</td>\n",
        "      <td> M</td>\n",
        "      <td> 175</td>\n",
        "      <td>  75</td>\n",
        "      <td> 24.49</td>\n",
        "    </tr>\n",
        "    <tr>\n",
        "      <th>15  </th>\n",
        "      <td>  1</td>\n",
        "      <td> M</td>\n",
        "      <td> 180</td>\n",
        "      <td>  95</td>\n",
        "      <td> 29.32</td>\n",
        "    </tr>\n",
        "    <tr>\n",
        "      <th>16  </th>\n",
        "      <td>  4</td>\n",
        "      <td> M</td>\n",
        "      <td> 185</td>\n",
        "      <td>  80</td>\n",
        "      <td> 23.37</td>\n",
        "    </tr>\n",
        "    <tr>\n",
        "      <th>17  </th>\n",
        "      <td>  0</td>\n",
        "      <td> M</td>\n",
        "      <td> 190</td>\n",
        "      <td>  98</td>\n",
        "      <td> 27.15</td>\n",
        "    </tr>\n",
        "    <tr>\n",
        "      <th>18  </th>\n",
        "      <td>  0</td>\n",
        "      <td> M</td>\n",
        "      <td> 173</td>\n",
        "      <td>  84</td>\n",
        "      <td> 28.07</td>\n",
        "    </tr>\n",
        "    <tr>\n",
        "      <th>19  </th>\n",
        "      <td>  4</td>\n",
        "      <td> M</td>\n",
        "      <td> 187</td>\n",
        "      <td>  84</td>\n",
        "      <td> 24.02</td>\n",
        "    </tr>\n",
        "    <tr>\n",
        "      <th>20  </th>\n",
        "      <td>  3</td>\n",
        "      <td> M</td>\n",
        "      <td> 172</td>\n",
        "      <td>  72</td>\n",
        "      <td> 24.34</td>\n",
        "    </tr>\n",
        "    <tr>\n",
        "      <th>21  </th>\n",
        "      <td>  9</td>\n",
        "      <td> M</td>\n",
        "      <td> 186</td>\n",
        "      <td>  88</td>\n",
        "      <td> 25.44</td>\n",
        "    </tr>\n",
        "    <tr>\n",
        "      <th>22  </th>\n",
        "      <td> 10</td>\n",
        "      <td> M</td>\n",
        "      <td> 175</td>\n",
        "      <td>  75</td>\n",
        "      <td> 24.49</td>\n",
        "    </tr>\n",
        "    <tr>\n",
        "      <th>23  </th>\n",
        "      <td> 11</td>\n",
        "      <td> M</td>\n",
        "      <td> 187</td>\n",
        "      <td>  96</td>\n",
        "      <td> 27.45</td>\n",
        "    </tr>\n",
        "    <tr>\n",
        "      <th>24  </th>\n",
        "      <td> 11</td>\n",
        "      <td> M</td>\n",
        "      <td> 173</td>\n",
        "      <td> 104</td>\n",
        "      <td> 34.75</td>\n",
        "    </tr>\n",
        "    <tr>\n",
        "      <th>25  </th>\n",
        "      <td> 10</td>\n",
        "      <td> M</td>\n",
        "      <td> 178</td>\n",
        "      <td> 120</td>\n",
        "      <td> 37.87</td>\n",
        "    </tr>\n",
        "    <tr>\n",
        "      <th>26  </th>\n",
        "      <td>  6</td>\n",
        "      <td> M</td>\n",
        "      <td> 183</td>\n",
        "      <td>  83</td>\n",
        "      <td> 24.78</td>\n",
        "    </tr>\n",
        "    <tr>\n",
        "      <th>27  </th>\n",
        "      <td> 11</td>\n",
        "      <td> M</td>\n",
        "      <td> 182</td>\n",
        "      <td>  91</td>\n",
        "      <td> 27.47</td>\n",
        "    </tr>\n",
        "    <tr>\n",
        "      <th>28  </th>\n",
        "      <td>  9</td>\n",
        "      <td> M</td>\n",
        "      <td> 182</td>\n",
        "      <td> 132</td>\n",
        "      <td> 39.85</td>\n",
        "    </tr>\n",
        "    <tr>\n",
        "      <th>29  </th>\n",
        "      <td>  1</td>\n",
        "      <td> M</td>\n",
        "      <td> 174</td>\n",
        "      <td>  73</td>\n",
        "      <td> 24.11</td>\n",
        "    </tr>\n",
        "    <tr>\n",
        "      <th>...</th>\n",
        "      <td>...</td>\n",
        "      <td>...</td>\n",
        "      <td>...</td>\n",
        "      <td>...</td>\n",
        "      <td>...</td>\n",
        "    </tr>\n",
        "    <tr>\n",
        "      <th>1039</th>\n",
        "      <td>  7</td>\n",
        "      <td> F</td>\n",
        "      <td> 164</td>\n",
        "      <td>  64</td>\n",
        "      <td> 23.80</td>\n",
        "    </tr>\n",
        "    <tr>\n",
        "      <th>1040</th>\n",
        "      <td>  5</td>\n",
        "      <td> F</td>\n",
        "      <td> 158</td>\n",
        "      <td>  68</td>\n",
        "      <td> 27.24</td>\n",
        "    </tr>\n",
        "    <tr>\n",
        "      <th>1041</th>\n",
        "      <td>  7</td>\n",
        "      <td> F</td>\n",
        "      <td> 158</td>\n",
        "      <td>  64</td>\n",
        "      <td> 25.64</td>\n",
        "    </tr>\n",
        "    <tr>\n",
        "      <th>1042</th>\n",
        "      <td>  7</td>\n",
        "      <td> F</td>\n",
        "      <td> 167</td>\n",
        "      <td>  50</td>\n",
        "      <td> 17.93</td>\n",
        "    </tr>\n",
        "    <tr>\n",
        "      <th>1043</th>\n",
        "      <td>  0</td>\n",
        "      <td> F</td>\n",
        "      <td> 169</td>\n",
        "      <td>  75</td>\n",
        "      <td> 26.26</td>\n",
        "    </tr>\n",
        "    <tr>\n",
        "      <th>1044</th>\n",
        "      <td>  8</td>\n",
        "      <td> F</td>\n",
        "      <td> 171</td>\n",
        "      <td>  52</td>\n",
        "      <td> 17.78</td>\n",
        "    </tr>\n",
        "    <tr>\n",
        "      <th>1045</th>\n",
        "      <td> 10</td>\n",
        "      <td> F</td>\n",
        "      <td> 156</td>\n",
        "      <td>  68</td>\n",
        "      <td> 27.94</td>\n",
        "    </tr>\n",
        "    <tr>\n",
        "      <th>1046</th>\n",
        "      <td>  3</td>\n",
        "      <td> F</td>\n",
        "      <td> 164</td>\n",
        "      <td>  54</td>\n",
        "      <td> 20.08</td>\n",
        "    </tr>\n",
        "    <tr>\n",
        "      <th>1047</th>\n",
        "      <td>  3</td>\n",
        "      <td> F</td>\n",
        "      <td> 172</td>\n",
        "      <td>  65</td>\n",
        "      <td> 21.97</td>\n",
        "    </tr>\n",
        "    <tr>\n",
        "      <th>1048</th>\n",
        "      <td>  9</td>\n",
        "      <td> F</td>\n",
        "      <td> 149</td>\n",
        "      <td>  42</td>\n",
        "      <td> 18.92</td>\n",
        "    </tr>\n",
        "    <tr>\n",
        "      <th>1049</th>\n",
        "      <td>  3</td>\n",
        "      <td> F</td>\n",
        "      <td> 162</td>\n",
        "      <td>  55</td>\n",
        "      <td> 20.96</td>\n",
        "    </tr>\n",
        "    <tr>\n",
        "      <th>1050</th>\n",
        "      <td>  9</td>\n",
        "      <td> F</td>\n",
        "      <td> 172</td>\n",
        "      <td>  60</td>\n",
        "      <td> 20.28</td>\n",
        "    </tr>\n",
        "    <tr>\n",
        "      <th>1051</th>\n",
        "      <td>  5</td>\n",
        "      <td> F</td>\n",
        "      <td> 163</td>\n",
        "      <td>  51</td>\n",
        "      <td> 19.20</td>\n",
        "    </tr>\n",
        "    <tr>\n",
        "      <th>1052</th>\n",
        "      <td>  6</td>\n",
        "      <td> F</td>\n",
        "      <td> 160</td>\n",
        "      <td>  79</td>\n",
        "      <td> 30.86</td>\n",
        "    </tr>\n",
        "    <tr>\n",
        "      <th>1053</th>\n",
        "      <td>  5</td>\n",
        "      <td> F</td>\n",
        "      <td> 157</td>\n",
        "      <td>  46</td>\n",
        "      <td> 18.66</td>\n",
        "    </tr>\n",
        "    <tr>\n",
        "      <th>1054</th>\n",
        "      <td>  2</td>\n",
        "      <td> F</td>\n",
        "      <td> 157</td>\n",
        "      <td>  63</td>\n",
        "      <td> 25.56</td>\n",
        "    </tr>\n",
        "    <tr>\n",
        "      <th>1055</th>\n",
        "      <td>  4</td>\n",
        "      <td> F</td>\n",
        "      <td> 174</td>\n",
        "      <td>  60</td>\n",
        "      <td> 19.82</td>\n",
        "    </tr>\n",
        "    <tr>\n",
        "      <th>1056</th>\n",
        "      <td>  5</td>\n",
        "      <td> F</td>\n",
        "      <td> 165</td>\n",
        "      <td>  54</td>\n",
        "      <td> 19.83</td>\n",
        "    </tr>\n",
        "    <tr>\n",
        "      <th>1057</th>\n",
        "      <td>  8</td>\n",
        "      <td> F</td>\n",
        "      <td> 164</td>\n",
        "      <td>  48</td>\n",
        "      <td> 17.85</td>\n",
        "    </tr>\n",
        "    <tr>\n",
        "      <th>1058</th>\n",
        "      <td>  8</td>\n",
        "      <td> F</td>\n",
        "      <td> 164</td>\n",
        "      <td>  58</td>\n",
        "      <td> 21.56</td>\n",
        "    </tr>\n",
        "    <tr>\n",
        "      <th>1059</th>\n",
        "      <td> 11</td>\n",
        "      <td> F</td>\n",
        "      <td> 172</td>\n",
        "      <td>  51</td>\n",
        "      <td> 17.24</td>\n",
        "    </tr>\n",
        "    <tr>\n",
        "      <th>1060</th>\n",
        "      <td>  2</td>\n",
        "      <td> F</td>\n",
        "      <td> 178</td>\n",
        "      <td>  53</td>\n",
        "      <td> 16.73</td>\n",
        "    </tr>\n",
        "    <tr>\n",
        "      <th>1061</th>\n",
        "      <td>  2</td>\n",
        "      <td> F</td>\n",
        "      <td> 163</td>\n",
        "      <td>  53</td>\n",
        "      <td> 19.95</td>\n",
        "    </tr>\n",
        "    <tr>\n",
        "      <th>1062</th>\n",
        "      <td>  5</td>\n",
        "      <td> F</td>\n",
        "      <td> 162</td>\n",
        "      <td>  63</td>\n",
        "      <td> 24.01</td>\n",
        "    </tr>\n",
        "    <tr>\n",
        "      <th>1063</th>\n",
        "      <td>  5</td>\n",
        "      <td> F</td>\n",
        "      <td> 164</td>\n",
        "      <td>  56</td>\n",
        "      <td> 20.82</td>\n",
        "    </tr>\n",
        "    <tr>\n",
        "      <th>1064</th>\n",
        "      <td> 10</td>\n",
        "      <td> F</td>\n",
        "      <td> 166</td>\n",
        "      <td>  55</td>\n",
        "      <td> 19.96</td>\n",
        "    </tr>\n",
        "    <tr>\n",
        "      <th>1065</th>\n",
        "      <td>  3</td>\n",
        "      <td> F</td>\n",
        "      <td> 165</td>\n",
        "      <td>  68</td>\n",
        "      <td> 24.98</td>\n",
        "    </tr>\n",
        "    <tr>\n",
        "      <th>1066</th>\n",
        "      <td>  2</td>\n",
        "      <td> F</td>\n",
        "      <td> 170</td>\n",
        "      <td>  60</td>\n",
        "      <td> 20.76</td>\n",
        "    </tr>\n",
        "    <tr>\n",
        "      <th>1067</th>\n",
        "      <td>  2</td>\n",
        "      <td> F</td>\n",
        "      <td> 170</td>\n",
        "      <td>  66</td>\n",
        "      <td> 22.84</td>\n",
        "    </tr>\n",
        "    <tr>\n",
        "      <th>1068</th>\n",
        "      <td>  6</td>\n",
        "      <td> F</td>\n",
        "      <td> 160</td>\n",
        "      <td> 100</td>\n",
        "      <td> 39.06</td>\n",
        "    </tr>\n",
        "  </tbody>\n",
        "</table>\n",
        "<p>1069 rows \u00d7 5 columns</p>\n",
        "</div>"
       ],
       "metadata": {},
       "output_type": "pyout",
       "prompt_number": 7,
       "text": [
        "      Sign Gender  Height  Weight    BMI\n",
        "0        7      M     188      75  21.22\n",
        "1        9      M     180      52  16.05\n",
        "2        1      M     177      73  23.30\n",
        "3        1      M     177      58  18.51\n",
        "4        3      M     174      68  22.46\n",
        "5       10      M     172      73  24.68\n",
        "6        5      M     180      68  20.99\n",
        "7        6      M     180      72  22.22\n",
        "8       10      M     188      95  26.88\n",
        "9        9      M     185      80  23.37\n",
        "10       1      M     186      60  17.34\n",
        "11       4      M     178     101  31.88\n",
        "12      10      M     187      95  27.17\n",
        "13       9      M     180      80  24.69\n",
        "14       8      M     175      75  24.49\n",
        "15       1      M     180      95  29.32\n",
        "16       4      M     185      80  23.37\n",
        "17       0      M     190      98  27.15\n",
        "18       0      M     173      84  28.07\n",
        "19       4      M     187      84  24.02\n",
        "20       3      M     172      72  24.34\n",
        "21       9      M     186      88  25.44\n",
        "22      10      M     175      75  24.49\n",
        "23      11      M     187      96  27.45\n",
        "24      11      M     173     104  34.75\n",
        "25      10      M     178     120  37.87\n",
        "26       6      M     183      83  24.78\n",
        "27      11      M     182      91  27.47\n",
        "28       9      M     182     132  39.85\n",
        "29       1      M     174      73  24.11\n",
        "...    ...    ...     ...     ...    ...\n",
        "1039     7      F     164      64  23.80\n",
        "1040     5      F     158      68  27.24\n",
        "1041     7      F     158      64  25.64\n",
        "1042     7      F     167      50  17.93\n",
        "1043     0      F     169      75  26.26\n",
        "1044     8      F     171      52  17.78\n",
        "1045    10      F     156      68  27.94\n",
        "1046     3      F     164      54  20.08\n",
        "1047     3      F     172      65  21.97\n",
        "1048     9      F     149      42  18.92\n",
        "1049     3      F     162      55  20.96\n",
        "1050     9      F     172      60  20.28\n",
        "1051     5      F     163      51  19.20\n",
        "1052     6      F     160      79  30.86\n",
        "1053     5      F     157      46  18.66\n",
        "1054     2      F     157      63  25.56\n",
        "1055     4      F     174      60  19.82\n",
        "1056     5      F     165      54  19.83\n",
        "1057     8      F     164      48  17.85\n",
        "1058     8      F     164      58  21.56\n",
        "1059    11      F     172      51  17.24\n",
        "1060     2      F     178      53  16.73\n",
        "1061     2      F     163      53  19.95\n",
        "1062     5      F     162      63  24.01\n",
        "1063     5      F     164      56  20.82\n",
        "1064    10      F     166      55  19.96\n",
        "1065     3      F     165      68  24.98\n",
        "1066     2      F     170      60  20.76\n",
        "1067     2      F     170      66  22.84\n",
        "1068     6      F     160     100  39.06\n",
        "\n",
        "[1069 rows x 5 columns]"
       ]
      }
     ],
     "prompt_number": 7
    },
    {
     "cell_type": "heading",
     "level": 2,
     "metadata": {},
     "source": [
      "Scatter plots"
     ]
    },
    {
     "cell_type": "code",
     "collapsed": false,
     "input": [
      "women = alldata[alldata['Gender']=='F']\n",
      "men = alldata[alldata['Gender']=='M']"
     ],
     "language": "python",
     "metadata": {},
     "outputs": [],
     "prompt_number": 8
    },
    {
     "cell_type": "markdown",
     "metadata": {},
     "source": [
      "Plot the weights of people against their signs. Use different colors for men and women."
     ]
    },
    {
     "cell_type": "code",
     "collapsed": false,
     "input": [
      "plt.scatter(men.Sign, men.Weight, label=\"men\")\n",
      "plt.scatter(women.Sign, women.Weight, c=\"r\", label=\"women\")\n",
      "plt.xticks(range(12),\n",
      "           [\"Scorpio\",\"Leo\",\"Pisces\",\"Virgo\",\"Taurus\",\"Gemini\",\"Aries\",\"Aquarius\",\"Capricorn\",\"Libra\",\"Sagittarius\",\"Cancer\"],\n",
      "           rotation=90);\n",
      "plt.ylabel(\"Weight (kg)\")\n",
      "plt.legend(loc=\"upper left\");"
     ],
     "language": "python",
     "metadata": {},
     "outputs": [
      {
       "metadata": {},
       "output_type": "display_data",
       "png": "[encoded data removed]",
       "text": [
        "<matplotlib.figure.Figure at 0x7f696ad1fc50>"
       ]
      }
     ],
     "prompt_number": 9
    },
    {
     "cell_type": "markdown",
     "metadata": {},
     "source": [
      "Plot the body-mass index of people against their signs."
     ]
    },
    {
     "cell_type": "code",
     "collapsed": false,
     "input": [
      "plt.scatter(men.Sign, men.BMI, label=\"men\")\n",
      "plt.scatter(women.Sign, women.BMI, c=\"r\", label=\"women\")\n",
      "plt.xticks(range(12),\n",
      "           [\"Scorpio\",\"Leo\",\"Pisces\",\"Virgo\",\"Taurus\",\"Gemini\",\"Aries\",\"Aquarius\",\"Capricorn\",\"Libra\",\"Sagittarius\",\"Cancer\"],\n",
      "           rotation=90);\n",
      "plt.ylabel(\"Body-mass index\")\n",
      "plt.legend(loc=\"upper left\");"
     ],
     "language": "python",
     "metadata": {},
     "outputs": [
      {
       "metadata": {},
       "output_type": "display_data",
       "png": "[encoded data removed]",
       "text": [
        "<matplotlib.figure.Figure at 0x7f696ac5c1d0>"
       ]
      }
     ],
     "prompt_number": 10
    },
    {
     "cell_type": "markdown",
     "metadata": {},
     "source": [
      "There is no significant difference visible to the naked eye."
     ]
    },
    {
     "cell_type": "heading",
     "level": 2,
     "metadata": {},
     "source": [
      "Correlation coefficients"
     ]
    },
    {
     "cell_type": "markdown",
     "metadata": {},
     "source": [
      "Correlation between sign and weight:"
     ]
    },
    {
     "cell_type": "code",
     "collapsed": false,
     "input": [
      "print(\"Entire sample: r = \", alldata['Sign'].corr(alldata['Weight']))\n",
      "print(\"Only men: r = \", men[\"Sign\"].corr(men[\"Weight\"]))\n",
      "print(\"Only women: r = \", women[\"Sign\"].corr(women[\"Weight\"]))"
     ],
     "language": "python",
     "metadata": {},
     "outputs": [
      {
       "output_type": "stream",
       "stream": "stdout",
       "text": [
        "Entire sample: r =  0.0338272049591\n",
        "Only men: r =  0.051092567961\n",
        "Only women: r =  -0.00662080450121\n"
       ]
      }
     ],
     "prompt_number": 11
    },
    {
     "cell_type": "markdown",
     "metadata": {},
     "source": [
      "Correlation between sign and body-mass index:"
     ]
    },
    {
     "cell_type": "code",
     "collapsed": false,
     "input": [
      "print(\"Entire sample: r = \", alldata['Sign'].corr(alldata['BMI']))\n",
      "print(\"Only men: r = \", men[\"Sign\"].corr(men[\"BMI\"]))\n",
      "print(\"Only women: r = \", women[\"Sign\"].corr(women[\"BMI\"]))"
     ],
     "language": "python",
     "metadata": {},
     "outputs": [
      {
       "output_type": "stream",
       "stream": "stdout",
       "text": [
        "Entire sample: r =  0.0328414195428\n",
        "Only men: r =  0.044710438732\n",
        "Only women: r =  -0.000458549641826\n"
       ]
      }
     ],
     "prompt_number": 12
    },
    {
     "cell_type": "markdown",
     "metadata": {},
     "source": [
      "There is indeed an extremely weak correlation. To see if this value is significant, we work out the confidence interval of the correlation coefficient at the 95% level."
     ]
    },
    {
     "cell_type": "heading",
     "level": 2,
     "metadata": {},
     "source": [
      "95% confidence interval for the correlation coefficient"
     ]
    },
    {
     "cell_type": "markdown",
     "metadata": {},
     "source": [
      "We use bootstrapping in order to find the sampling distribution of the correlation coefficient. In this method we randomly select data points from the existing sample with replacement, evaluate the correlation coefficient using this new set, and repeat many times. Then we use the resulting distribution of correlation coefficients to determine the 95% confidence level."
     ]
    },
    {
     "cell_type": "code",
     "collapsed": false,
     "input": [
      "N = len(alldata)"
     ],
     "language": "python",
     "metadata": {},
     "outputs": [],
     "prompt_number": 13
    },
    {
     "cell_type": "markdown",
     "metadata": {},
     "source": [
      "Entire sample (men and women together), correlation between sign and weight."
     ]
    },
    {
     "cell_type": "code",
     "collapsed": false,
     "input": [
      "corrs = []\n",
      "for i in range(10000):\n",
      "    i = np.random.choice(np.arange(N), size=N, replace=True)\n",
      "    corrs.append( alldata.Sign[i].corr(alldata.Weight[i]) )"
     ],
     "language": "python",
     "metadata": {},
     "outputs": [],
     "prompt_number": 14
    },
    {
     "cell_type": "markdown",
     "metadata": {},
     "source": [
      "Display the histogram of the correlation coefficients"
     ]
    },
    {
     "cell_type": "code",
     "collapsed": false,
     "input": [
      "plt.hist(corrs,30);"
     ],
     "language": "python",
     "metadata": {},
     "outputs": [
      {
       "metadata": {},
       "output_type": "display_data",
       "png": "[encoded data removed]",
       "text": [
        "<matplotlib.figure.Figure at 0x7f696ac4c470>"
       ]
      }
     ],
     "prompt_number": 15
    },
    {
     "cell_type": "markdown",
     "metadata": {},
     "source": [
      "The 95% confidence interval is between the 2.5-percentile and 97.5-percentile."
     ]
    },
    {
     "cell_type": "code",
     "collapsed": false,
     "input": [
      "np.percentile(corrs,2.5), np.percentile(corrs,97.5)"
     ],
     "language": "python",
     "metadata": {},
     "outputs": [
      {
       "metadata": {},
       "output_type": "pyout",
       "prompt_number": 16,
       "text": [
        "(-0.026866749345144967, 0.091428831194964588)"
       ]
      }
     ],
     "prompt_number": 16
    },
    {
     "cell_type": "markdown",
     "metadata": {},
     "source": [
      "We are __95% confident that the correlation coefficient is between -0.03 and 0.09__. These are insignificantly small correlations.\n",
      "\n",
      "In terms of hypothesis testing, astrologers claim the hypothesis that the correlation coefficient is nonzero. Since the confidence interval contains 0, __we cannot reject the null hypothesis__ (that there is no correlation between astrological sign and body weight).\n",
      "\n",
      "The confidence interval for the correlation coefficient between sign and body-mass index turns out to be same."
     ]
    },
    {
     "cell_type": "code",
     "collapsed": false,
     "input": [
      "corrs = []\n",
      "for i in range(10000):\n",
      "    i = np.random.choice(np.arange(N), size=N, replace=True)\n",
      "    corrs.append( alldata.Sign[i].corr(alldata.BMI[i]) )"
     ],
     "language": "python",
     "metadata": {},
     "outputs": [],
     "prompt_number": 17
    },
    {
     "cell_type": "code",
     "collapsed": false,
     "input": [
      "np.percentile(corrs,2.5), np.percentile(corrs,97.5)"
     ],
     "language": "python",
     "metadata": {},
     "outputs": [
      {
       "metadata": {},
       "output_type": "pyout",
       "prompt_number": 18,
       "text": [
        "(-0.025355098696728202, 0.092718236228626225)"
       ]
      }
     ],
     "prompt_number": 18
    },
    {
     "cell_type": "markdown",
     "metadata": {},
     "source": [
      "Even when controlled for gender, no significant correlation appears:"
     ]
    },
    {
     "cell_type": "code",
     "collapsed": false,
     "input": [
      "corrs = []\n",
      "for i in range(10000):\n",
      "    i = np.random.choice(men.index, size=len(men), replace=True)\n",
      "    corrs.append( men.Sign[i].corr(men.Weight[i]) )\n",
      "CI = np.percentile(corrs,2.5), np.percentile(corrs,97.5)\n",
      "print(\"95%% confidence interval for the correlation between signs and weights for men: %.2f to %.2f\" % CI )\n",
      "\n",
      "corrs = []\n",
      "for i in range(10000):\n",
      "    i = np.random.choice(men.index, size=len(men), replace=True)\n",
      "    corrs.append( men.Sign[i].corr(men.BMI[i]) )\n",
      "CI = np.percentile(corrs,2.5), np.percentile(corrs,97.5)\n",
      "print(\"95%% confidence interval for the correlation between signs and BMI for men: %.2f to %.2f\" % CI )\n",
      "\n",
      "corrs = []\n",
      "for i in range(10000):\n",
      "    i = np.random.choice(women.index, size=len(women), replace=True)\n",
      "    corrs.append( women.Sign[i].corr(women.Weight[i]) )\n",
      "CI = np.percentile(corrs,2.5), np.percentile(corrs,97.5)\n",
      "print(\"95%% confidence interval for the correlation between signs and weights for women: %.2f to %.2f\" % CI )\n",
      "\n",
      "corrs = []\n",
      "for i in range(10000):\n",
      "    i = np.random.choice(women.index, size=N, replace=True)\n",
      "    corrs.append( women.Sign[i].corr(women.BMI[i]) )\n",
      "CI = np.percentile(corrs,2.5), np.percentile(corrs,97.5)\n",
      "print(\"95%% confidence interval for the correlation between signs and BMI for women: %.2f to %.2f\" % CI )"
     ],
     "language": "python",
     "metadata": {},
     "outputs": [
      {
       "output_type": "stream",
       "stream": "stdout",
       "text": [
        "95% confidence interval for the correlation between signs and weights for men: -0.02 to 0.12\n",
        "95% confidence interval for the correlation between signs and BMI for men: -0.03 to 0.11"
       ]
      },
      {
       "output_type": "stream",
       "stream": "stdout",
       "text": [
        "\n",
        "95% confidence interval for the correlation between signs and weights for women: -0.15 to 0.10"
       ]
      },
      {
       "output_type": "stream",
       "stream": "stdout",
       "text": [
        "\n",
        "95% confidence interval for the correlation between signs and BMI for women: -0.06 to 0.06"
       ]
      },
      {
       "output_type": "stream",
       "stream": "stdout",
       "text": [
        "\n"
       ]
      }
     ],
     "prompt_number": 19
    }
   ],
   "metadata": {}
  }
 ]
}