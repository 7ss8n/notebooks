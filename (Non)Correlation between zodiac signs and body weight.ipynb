{
 "metadata": {
  "name": "",
  "signature": "sha256:4c301519df45eb80febe80e3505ff8685d5c0fe3ad55714a1d8f3cf4c894411d"
 },
 "nbformat": 3,
 "nbformat_minor": 0,
 "worksheets": [
  {
   "cells": [
    {
     "cell_type": "code",
     "collapsed": false,
     "input": [
      "%matplotlib inline\n",
      "import pandas as pd\n",
      "import numpy as np\n",
      "import matplotlib.pyplot as plt\n",
      "plt.style.use(\"ggplot\")"
     ],
     "language": "python",
     "metadata": {},
     "outputs": [],
     "prompt_number": 1
    },
    {
     "cell_type": "heading",
     "level": 2,
     "metadata": {},
     "source": [
      "Introduction"
     ]
    },
    {
     "cell_type": "markdown",
     "metadata": {},
     "source": [
      "My good friend Tevfik Uyar has a knack for challenging astrologers with hard evidence. Upon hearing one astrologer's claim that Taurus, Cancer, and Libra have more weight-related problems, he set up a questionnaire in Twitter, and collected the zodiac sign, gender, weight and height data from 1066 people. He published [his own analysis on his website](http://www.tevfikuyar.com/2016/blog/bilim-felsefe/burclarinizla-kilolarinizin-alakasi-yok.html). He kindly let me use his data for the following analysis.\n",
      "\n",
      "My conclusions support what he found, and we're not surprised: There is no reason to think that zodiac signs are correlated with weight or body-mass index, for any gender."
     ]
    },
    {
     "cell_type": "heading",
     "level": 2,
     "metadata": {},
     "source": [
      "Reading the data"
     ]
    },
    {
     "cell_type": "code",
     "collapsed": false,
     "input": [
      "alldata = pd.read_csv(\"burckilo.csv\")"
     ],
     "language": "python",
     "metadata": {},
     "outputs": [],
     "prompt_number": 2
    },
    {
     "cell_type": "code",
     "collapsed": false,
     "input": [
      "alldata.head()"
     ],
     "language": "python",
     "metadata": {},
     "outputs": [
      {
       "html": [
        "<div style=\"max-height:1000px;max-width:1500px;overflow:auto;\">\n",
        "<table border=\"1\" class=\"dataframe\">\n",
        "  <thead>\n",
        "    <tr style=\"text-align: right;\">\n",
        "      <th></th>\n",
        "      <th>Timestamp</th>\n",
        "      <th>Burcunuz</th>\n",
        "      <th>Biyolojik Cinsiyetiniz</th>\n",
        "      <th>BC</th>\n",
        "      <th>Boyunuz (cm, \u00f6rn=175)</th>\n",
        "      <th>Kilonuz (kg, \u00f6rn = 72)</th>\n",
        "      <th>VKE</th>\n",
        "      <th>Alldata</th>\n",
        "    </tr>\n",
        "  </thead>\n",
        "  <tbody>\n",
        "    <tr>\n",
        "      <th>0</th>\n",
        "      <td> 1/17/2016 14:34:08</td>\n",
        "      <td>  Akrep</td>\n",
        "      <td> Erkek</td>\n",
        "      <td>  AkrepErkek</td>\n",
        "      <td> 178</td>\n",
        "      <td>  67.5</td>\n",
        "      <td> 21.30</td>\n",
        "      <td>   AkrepErkek17868</td>\n",
        "    </tr>\n",
        "    <tr>\n",
        "      <th>1</th>\n",
        "      <td> 1/17/2016 19:50:17</td>\n",
        "      <td>   Boga</td>\n",
        "      <td> Erkek</td>\n",
        "      <td>   BogaErkek</td>\n",
        "      <td> 197</td>\n",
        "      <td> 170.0</td>\n",
        "      <td> 43.80</td>\n",
        "      <td>   BogaErkek197170</td>\n",
        "    </tr>\n",
        "    <tr>\n",
        "      <th>2</th>\n",
        "      <td> 1/17/2016 13:36:12</td>\n",
        "      <td> Terazi</td>\n",
        "      <td> Erkek</td>\n",
        "      <td> TeraziErkek</td>\n",
        "      <td> 182</td>\n",
        "      <td> 132.0</td>\n",
        "      <td> 39.85</td>\n",
        "      <td> TeraziErkek182132</td>\n",
        "    </tr>\n",
        "    <tr>\n",
        "      <th>3</th>\n",
        "      <td> 1/17/2016 19:41:03</td>\n",
        "      <td>   Boga</td>\n",
        "      <td> Erkek</td>\n",
        "      <td>   BogaErkek</td>\n",
        "      <td> 186</td>\n",
        "      <td> 130.0</td>\n",
        "      <td> 37.58</td>\n",
        "      <td>   BogaErkek186130</td>\n",
        "    </tr>\n",
        "    <tr>\n",
        "      <th>4</th>\n",
        "      <td> 1/17/2016 19:57:48</td>\n",
        "      <td>   Boga</td>\n",
        "      <td> Erkek</td>\n",
        "      <td>   BogaErkek</td>\n",
        "      <td> 184</td>\n",
        "      <td> 130.0</td>\n",
        "      <td> 38.40</td>\n",
        "      <td>   BogaErkek184130</td>\n",
        "    </tr>\n",
        "  </tbody>\n",
        "</table>\n",
        "</div>"
       ],
       "metadata": {},
       "output_type": "pyout",
       "prompt_number": 94,
       "text": [
        "            Timestamp Burcunuz Biyolojik Cinsiyetiniz           BC  \\\n",
        "0  1/17/2016 14:34:08    Akrep                  Erkek   AkrepErkek   \n",
        "1  1/17/2016 19:50:17     Boga                  Erkek    BogaErkek   \n",
        "2  1/17/2016 13:36:12   Terazi                  Erkek  TeraziErkek   \n",
        "3  1/17/2016 19:41:03     Boga                  Erkek    BogaErkek   \n",
        "4  1/17/2016 19:57:48     Boga                  Erkek    BogaErkek   \n",
        "\n",
        "   Boyunuz (cm, \u00f6rn=175)  Kilonuz (kg, \u00f6rn = 72)    VKE            Alldata  \n",
        "0                    178                    67.5  21.30    AkrepErkek17868  \n",
        "1                    197                   170.0  43.80    BogaErkek197170  \n",
        "2                    182                   132.0  39.85  TeraziErkek182132  \n",
        "3                    186                   130.0  37.58    BogaErkek186130  \n",
        "4                    184                   130.0  38.40    BogaErkek184130  "
       ]
      }
     ],
     "prompt_number": 94
    },
    {
     "cell_type": "heading",
     "level": 2,
     "metadata": {},
     "source": [
      "Cleanup of data"
     ]
    },
    {
     "cell_type": "markdown",
     "metadata": {},
     "source": [
      "Cleanup: Remove derived columns, keep only the sign, gender, height, weight, and body-mass index data. Translate column names."
     ]
    },
    {
     "cell_type": "code",
     "collapsed": false,
     "input": [
      "del alldata['Timestamp']\n",
      "del alldata['BC']\n",
      "del alldata['Alldata']\n",
      "alldata.columns = ('Sign','Gender','Height','Weight','BMI')"
     ],
     "language": "python",
     "metadata": {},
     "outputs": [],
     "prompt_number": 3
    },
    {
     "cell_type": "markdown",
     "metadata": {},
     "source": [
      "Replace 'Erkek' with 'M', 'Kad\u0131n' with 'F'."
     ]
    },
    {
     "cell_type": "code",
     "collapsed": false,
     "input": [
      "alldata['Gender'] = alldata['Gender'].replace('Erkek','M')\n",
      "alldata['Gender'] = alldata['Gender'].replace('Kad\u0131n','F')"
     ],
     "language": "python",
     "metadata": {},
     "outputs": [],
     "prompt_number": 4
    },
    {
     "cell_type": "markdown",
     "metadata": {},
     "source": [
      "Replace sign names with numerical values for correlation calculation."
     ]
    },
    {
     "cell_type": "code",
     "collapsed": false,
     "input": [
      "signs = list(enumerate(sorted(pd.unique(alldata.Sign))))\n",
      "print(signs) # Mapping between sign names in data and numeric values\n",
      "for i in range(12):\n",
      "    alldata['Sign'] = alldata['Sign'].replace(signs[i][1], signs[i][0])"
     ],
     "language": "python",
     "metadata": {},
     "outputs": [
      {
       "output_type": "stream",
       "stream": "stdout",
       "text": [
        "[(0, 'Akrep'), (1, 'Aslan'), (2, 'Bal\u0131k'), (3, 'Basak'), (4, 'Boga'), (5, 'Ikizler'), (6, 'Koc'), (7, 'Kova'), (8, 'Oglak'), (9, 'Terazi'), (10, 'Yay'), (11, 'Yengec')]\n"
       ]
      }
     ],
     "prompt_number": 5
    },
    {
     "cell_type": "code",
     "collapsed": false,
     "input": [
      "alldata"
     ],
     "language": "python",
     "metadata": {},
     "outputs": [
      {
       "html": [
        "<div style=\"max-height:1000px;max-width:1500px;overflow:auto;\">\n",
        "<table border=\"1\" class=\"dataframe\">\n",
        "  <thead>\n",
        "    <tr style=\"text-align: right;\">\n",
        "      <th></th>\n",
        "      <th>Sign</th>\n",
        "      <th>Gender</th>\n",
        "      <th>Height</th>\n",
        "      <th>Weight</th>\n",
        "      <th>BMI</th>\n",
        "    </tr>\n",
        "  </thead>\n",
        "  <tbody>\n",
        "    <tr>\n",
        "      <th>0   </th>\n",
        "      <td>  0</td>\n",
        "      <td> M</td>\n",
        "      <td> 178</td>\n",
        "      <td>  67.5</td>\n",
        "      <td> 21.30</td>\n",
        "    </tr>\n",
        "    <tr>\n",
        "      <th>1   </th>\n",
        "      <td>  4</td>\n",
        "      <td> M</td>\n",
        "      <td> 197</td>\n",
        "      <td> 170.0</td>\n",
        "      <td> 43.80</td>\n",
        "    </tr>\n",
        "    <tr>\n",
        "      <th>2   </th>\n",
        "      <td>  9</td>\n",
        "      <td> M</td>\n",
        "      <td> 182</td>\n",
        "      <td> 132.0</td>\n",
        "      <td> 39.85</td>\n",
        "    </tr>\n",
        "    <tr>\n",
        "      <th>3   </th>\n",
        "      <td>  4</td>\n",
        "      <td> M</td>\n",
        "      <td> 186</td>\n",
        "      <td> 130.0</td>\n",
        "      <td> 37.58</td>\n",
        "    </tr>\n",
        "    <tr>\n",
        "      <th>4   </th>\n",
        "      <td>  4</td>\n",
        "      <td> M</td>\n",
        "      <td> 184</td>\n",
        "      <td> 130.0</td>\n",
        "      <td> 38.40</td>\n",
        "    </tr>\n",
        "    <tr>\n",
        "      <th>5   </th>\n",
        "      <td>  1</td>\n",
        "      <td> M</td>\n",
        "      <td> 190</td>\n",
        "      <td> 130.0</td>\n",
        "      <td> 36.01</td>\n",
        "    </tr>\n",
        "    <tr>\n",
        "      <th>6   </th>\n",
        "      <td>  8</td>\n",
        "      <td> M</td>\n",
        "      <td> 177</td>\n",
        "      <td> 127.0</td>\n",
        "      <td> 40.54</td>\n",
        "    </tr>\n",
        "    <tr>\n",
        "      <th>7   </th>\n",
        "      <td> 11</td>\n",
        "      <td> M</td>\n",
        "      <td> 171</td>\n",
        "      <td> 126.0</td>\n",
        "      <td> 43.09</td>\n",
        "    </tr>\n",
        "    <tr>\n",
        "      <th>8   </th>\n",
        "      <td>  8</td>\n",
        "      <td> M</td>\n",
        "      <td> 181</td>\n",
        "      <td> 125.0</td>\n",
        "      <td> 38.16</td>\n",
        "    </tr>\n",
        "    <tr>\n",
        "      <th>9   </th>\n",
        "      <td>  8</td>\n",
        "      <td> M</td>\n",
        "      <td> 188</td>\n",
        "      <td> 124.0</td>\n",
        "      <td> 35.08</td>\n",
        "    </tr>\n",
        "    <tr>\n",
        "      <th>10  </th>\n",
        "      <td>  7</td>\n",
        "      <td> M</td>\n",
        "      <td> 195</td>\n",
        "      <td> 122.0</td>\n",
        "      <td> 32.08</td>\n",
        "    </tr>\n",
        "    <tr>\n",
        "      <th>11  </th>\n",
        "      <td> 10</td>\n",
        "      <td> M</td>\n",
        "      <td> 178</td>\n",
        "      <td> 120.0</td>\n",
        "      <td> 37.87</td>\n",
        "    </tr>\n",
        "    <tr>\n",
        "      <th>12  </th>\n",
        "      <td>  0</td>\n",
        "      <td> M</td>\n",
        "      <td> 182</td>\n",
        "      <td> 120.0</td>\n",
        "      <td> 36.23</td>\n",
        "    </tr>\n",
        "    <tr>\n",
        "      <th>13  </th>\n",
        "      <td>  1</td>\n",
        "      <td> M</td>\n",
        "      <td> 191</td>\n",
        "      <td> 120.0</td>\n",
        "      <td> 32.89</td>\n",
        "    </tr>\n",
        "    <tr>\n",
        "      <th>14  </th>\n",
        "      <td>  4</td>\n",
        "      <td> M</td>\n",
        "      <td> 188</td>\n",
        "      <td> 115.0</td>\n",
        "      <td> 32.54</td>\n",
        "    </tr>\n",
        "    <tr>\n",
        "      <th>15  </th>\n",
        "      <td>  4</td>\n",
        "      <td> M</td>\n",
        "      <td> 190</td>\n",
        "      <td> 115.0</td>\n",
        "      <td> 31.86</td>\n",
        "    </tr>\n",
        "    <tr>\n",
        "      <th>16  </th>\n",
        "      <td> 11</td>\n",
        "      <td> M</td>\n",
        "      <td> 187</td>\n",
        "      <td> 112.0</td>\n",
        "      <td> 32.03</td>\n",
        "    </tr>\n",
        "    <tr>\n",
        "      <th>17  </th>\n",
        "      <td>  9</td>\n",
        "      <td> M</td>\n",
        "      <td> 174</td>\n",
        "      <td> 110.0</td>\n",
        "      <td> 36.33</td>\n",
        "    </tr>\n",
        "    <tr>\n",
        "      <th>18  </th>\n",
        "      <td>  0</td>\n",
        "      <td> M</td>\n",
        "      <td> 186</td>\n",
        "      <td> 110.0</td>\n",
        "      <td> 31.80</td>\n",
        "    </tr>\n",
        "    <tr>\n",
        "      <th>19  </th>\n",
        "      <td>  6</td>\n",
        "      <td> M</td>\n",
        "      <td> 186</td>\n",
        "      <td> 110.0</td>\n",
        "      <td> 31.80</td>\n",
        "    </tr>\n",
        "    <tr>\n",
        "      <th>20  </th>\n",
        "      <td>  2</td>\n",
        "      <td> M</td>\n",
        "      <td> 184</td>\n",
        "      <td> 110.0</td>\n",
        "      <td> 32.49</td>\n",
        "    </tr>\n",
        "    <tr>\n",
        "      <th>21  </th>\n",
        "      <td>  9</td>\n",
        "      <td> M</td>\n",
        "      <td> 175</td>\n",
        "      <td> 110.0</td>\n",
        "      <td> 35.92</td>\n",
        "    </tr>\n",
        "    <tr>\n",
        "      <th>22  </th>\n",
        "      <td>  0</td>\n",
        "      <td> M</td>\n",
        "      <td> 190</td>\n",
        "      <td> 110.0</td>\n",
        "      <td> 30.47</td>\n",
        "    </tr>\n",
        "    <tr>\n",
        "      <th>23  </th>\n",
        "      <td> 11</td>\n",
        "      <td> M</td>\n",
        "      <td> 182</td>\n",
        "      <td> 110.0</td>\n",
        "      <td> 33.21</td>\n",
        "    </tr>\n",
        "    <tr>\n",
        "      <th>24  </th>\n",
        "      <td>  1</td>\n",
        "      <td> M</td>\n",
        "      <td> 183</td>\n",
        "      <td> 110.0</td>\n",
        "      <td> 32.85</td>\n",
        "    </tr>\n",
        "    <tr>\n",
        "      <th>25  </th>\n",
        "      <td> 11</td>\n",
        "      <td> M</td>\n",
        "      <td> 165</td>\n",
        "      <td> 110.0</td>\n",
        "      <td> 40.40</td>\n",
        "    </tr>\n",
        "    <tr>\n",
        "      <th>26  </th>\n",
        "      <td> 10</td>\n",
        "      <td> M</td>\n",
        "      <td> 176</td>\n",
        "      <td> 110.0</td>\n",
        "      <td> 35.51</td>\n",
        "    </tr>\n",
        "    <tr>\n",
        "      <th>27  </th>\n",
        "      <td>  1</td>\n",
        "      <td> M</td>\n",
        "      <td> 188</td>\n",
        "      <td> 110.0</td>\n",
        "      <td> 31.12</td>\n",
        "    </tr>\n",
        "    <tr>\n",
        "      <th>28  </th>\n",
        "      <td>  0</td>\n",
        "      <td> M</td>\n",
        "      <td> 191</td>\n",
        "      <td> 110.0</td>\n",
        "      <td> 30.15</td>\n",
        "    </tr>\n",
        "    <tr>\n",
        "      <th>29  </th>\n",
        "      <td>  3</td>\n",
        "      <td> M</td>\n",
        "      <td> 177</td>\n",
        "      <td> 109.0</td>\n",
        "      <td> 34.79</td>\n",
        "    </tr>\n",
        "    <tr>\n",
        "      <th>...</th>\n",
        "      <td>...</td>\n",
        "      <td>...</td>\n",
        "      <td>...</td>\n",
        "      <td>...</td>\n",
        "      <td>...</td>\n",
        "    </tr>\n",
        "    <tr>\n",
        "      <th>1036</th>\n",
        "      <td>  7</td>\n",
        "      <td> F</td>\n",
        "      <td> 167</td>\n",
        "      <td>  50.0</td>\n",
        "      <td> 17.93</td>\n",
        "    </tr>\n",
        "    <tr>\n",
        "      <th>1037</th>\n",
        "      <td>  1</td>\n",
        "      <td> F</td>\n",
        "      <td> 168</td>\n",
        "      <td>  49.0</td>\n",
        "      <td> 17.36</td>\n",
        "    </tr>\n",
        "    <tr>\n",
        "      <th>1038</th>\n",
        "      <td> 10</td>\n",
        "      <td> F</td>\n",
        "      <td> 150</td>\n",
        "      <td>  49.0</td>\n",
        "      <td> 21.78</td>\n",
        "    </tr>\n",
        "    <tr>\n",
        "      <th>1039</th>\n",
        "      <td>  1</td>\n",
        "      <td> F</td>\n",
        "      <td> 153</td>\n",
        "      <td>  49.0</td>\n",
        "      <td> 20.93</td>\n",
        "    </tr>\n",
        "    <tr>\n",
        "      <th>1040</th>\n",
        "      <td>  9</td>\n",
        "      <td> F</td>\n",
        "      <td> 160</td>\n",
        "      <td>  49.0</td>\n",
        "      <td> 19.14</td>\n",
        "    </tr>\n",
        "    <tr>\n",
        "      <th>1041</th>\n",
        "      <td>  5</td>\n",
        "      <td> F</td>\n",
        "      <td> 170</td>\n",
        "      <td>  49.0</td>\n",
        "      <td> 16.96</td>\n",
        "    </tr>\n",
        "    <tr>\n",
        "      <th>1042</th>\n",
        "      <td> 11</td>\n",
        "      <td> F</td>\n",
        "      <td> 165</td>\n",
        "      <td>  49.0</td>\n",
        "      <td> 18.00</td>\n",
        "    </tr>\n",
        "    <tr>\n",
        "      <th>1043</th>\n",
        "      <td>  0</td>\n",
        "      <td> F</td>\n",
        "      <td> 157</td>\n",
        "      <td>  49.0</td>\n",
        "      <td> 19.88</td>\n",
        "    </tr>\n",
        "    <tr>\n",
        "      <th>1044</th>\n",
        "      <td>  2</td>\n",
        "      <td> M</td>\n",
        "      <td> 168</td>\n",
        "      <td>  48.0</td>\n",
        "      <td> 17.01</td>\n",
        "    </tr>\n",
        "    <tr>\n",
        "      <th>1045</th>\n",
        "      <td>  0</td>\n",
        "      <td> M</td>\n",
        "      <td> 160</td>\n",
        "      <td>  48.0</td>\n",
        "      <td> 18.75</td>\n",
        "    </tr>\n",
        "    <tr>\n",
        "      <th>1046</th>\n",
        "      <td>  4</td>\n",
        "      <td> F</td>\n",
        "      <td> 160</td>\n",
        "      <td>  48.0</td>\n",
        "      <td> 18.75</td>\n",
        "    </tr>\n",
        "    <tr>\n",
        "      <th>1047</th>\n",
        "      <td>  8</td>\n",
        "      <td> F</td>\n",
        "      <td> 160</td>\n",
        "      <td>  48.0</td>\n",
        "      <td> 18.75</td>\n",
        "    </tr>\n",
        "    <tr>\n",
        "      <th>1048</th>\n",
        "      <td>  3</td>\n",
        "      <td> F</td>\n",
        "      <td> 165</td>\n",
        "      <td>  48.0</td>\n",
        "      <td> 17.63</td>\n",
        "    </tr>\n",
        "    <tr>\n",
        "      <th>1049</th>\n",
        "      <td>  7</td>\n",
        "      <td> F</td>\n",
        "      <td> 150</td>\n",
        "      <td>  48.0</td>\n",
        "      <td> 21.33</td>\n",
        "    </tr>\n",
        "    <tr>\n",
        "      <th>1050</th>\n",
        "      <td>  8</td>\n",
        "      <td> F</td>\n",
        "      <td> 164</td>\n",
        "      <td>  48.0</td>\n",
        "      <td> 17.85</td>\n",
        "    </tr>\n",
        "    <tr>\n",
        "      <th>1051</th>\n",
        "      <td>  8</td>\n",
        "      <td> M</td>\n",
        "      <td> 175</td>\n",
        "      <td>  47.0</td>\n",
        "      <td> 15.35</td>\n",
        "    </tr>\n",
        "    <tr>\n",
        "      <th>1052</th>\n",
        "      <td>  7</td>\n",
        "      <td> M</td>\n",
        "      <td> 175</td>\n",
        "      <td>  47.0</td>\n",
        "      <td> 15.35</td>\n",
        "    </tr>\n",
        "    <tr>\n",
        "      <th>1053</th>\n",
        "      <td>  5</td>\n",
        "      <td> F</td>\n",
        "      <td> 160</td>\n",
        "      <td>  47.0</td>\n",
        "      <td> 18.36</td>\n",
        "    </tr>\n",
        "    <tr>\n",
        "      <th>1054</th>\n",
        "      <td>  5</td>\n",
        "      <td> F</td>\n",
        "      <td> 160</td>\n",
        "      <td>  47.0</td>\n",
        "      <td> 18.36</td>\n",
        "    </tr>\n",
        "    <tr>\n",
        "      <th>1055</th>\n",
        "      <td>  0</td>\n",
        "      <td> F</td>\n",
        "      <td> 158</td>\n",
        "      <td>  46.0</td>\n",
        "      <td> 18.43</td>\n",
        "    </tr>\n",
        "    <tr>\n",
        "      <th>1056</th>\n",
        "      <td>  5</td>\n",
        "      <td> F</td>\n",
        "      <td> 160</td>\n",
        "      <td>  46.0</td>\n",
        "      <td> 17.97</td>\n",
        "    </tr>\n",
        "    <tr>\n",
        "      <th>1057</th>\n",
        "      <td>  3</td>\n",
        "      <td> F</td>\n",
        "      <td> 162</td>\n",
        "      <td>  46.0</td>\n",
        "      <td> 17.53</td>\n",
        "    </tr>\n",
        "    <tr>\n",
        "      <th>1058</th>\n",
        "      <td>  5</td>\n",
        "      <td> F</td>\n",
        "      <td> 157</td>\n",
        "      <td>  46.0</td>\n",
        "      <td> 18.66</td>\n",
        "    </tr>\n",
        "    <tr>\n",
        "      <th>1059</th>\n",
        "      <td>  6</td>\n",
        "      <td> M</td>\n",
        "      <td> 168</td>\n",
        "      <td>  45.0</td>\n",
        "      <td> 15.94</td>\n",
        "    </tr>\n",
        "    <tr>\n",
        "      <th>1060</th>\n",
        "      <td>  3</td>\n",
        "      <td> F</td>\n",
        "      <td> 165</td>\n",
        "      <td>  45.0</td>\n",
        "      <td> 16.53</td>\n",
        "    </tr>\n",
        "    <tr>\n",
        "      <th>1061</th>\n",
        "      <td>  5</td>\n",
        "      <td> F</td>\n",
        "      <td> 158</td>\n",
        "      <td>  45.0</td>\n",
        "      <td> 18.03</td>\n",
        "    </tr>\n",
        "    <tr>\n",
        "      <th>1062</th>\n",
        "      <td>  0</td>\n",
        "      <td> F</td>\n",
        "      <td> 157</td>\n",
        "      <td>  44.0</td>\n",
        "      <td> 17.85</td>\n",
        "    </tr>\n",
        "    <tr>\n",
        "      <th>1063</th>\n",
        "      <td>  6</td>\n",
        "      <td> F</td>\n",
        "      <td> 160</td>\n",
        "      <td>  44.0</td>\n",
        "      <td> 17.19</td>\n",
        "    </tr>\n",
        "    <tr>\n",
        "      <th>1064</th>\n",
        "      <td>  5</td>\n",
        "      <td> F</td>\n",
        "      <td> 163</td>\n",
        "      <td>  42.0</td>\n",
        "      <td> 15.81</td>\n",
        "    </tr>\n",
        "    <tr>\n",
        "      <th>1065</th>\n",
        "      <td>  9</td>\n",
        "      <td> F</td>\n",
        "      <td> 149</td>\n",
        "      <td>  42.0</td>\n",
        "      <td> 18.92</td>\n",
        "    </tr>\n",
        "  </tbody>\n",
        "</table>\n",
        "<p>1066 rows \u00d7 5 columns</p>\n",
        "</div>"
       ],
       "metadata": {},
       "output_type": "pyout",
       "prompt_number": 98,
       "text": [
        "      Sign Gender  Height  Weight    BMI\n",
        "0        0      M     178    67.5  21.30\n",
        "1        4      M     197   170.0  43.80\n",
        "2        9      M     182   132.0  39.85\n",
        "3        4      M     186   130.0  37.58\n",
        "4        4      M     184   130.0  38.40\n",
        "5        1      M     190   130.0  36.01\n",
        "6        8      M     177   127.0  40.54\n",
        "7       11      M     171   126.0  43.09\n",
        "8        8      M     181   125.0  38.16\n",
        "9        8      M     188   124.0  35.08\n",
        "10       7      M     195   122.0  32.08\n",
        "11      10      M     178   120.0  37.87\n",
        "12       0      M     182   120.0  36.23\n",
        "13       1      M     191   120.0  32.89\n",
        "14       4      M     188   115.0  32.54\n",
        "15       4      M     190   115.0  31.86\n",
        "16      11      M     187   112.0  32.03\n",
        "17       9      M     174   110.0  36.33\n",
        "18       0      M     186   110.0  31.80\n",
        "19       6      M     186   110.0  31.80\n",
        "20       2      M     184   110.0  32.49\n",
        "21       9      M     175   110.0  35.92\n",
        "22       0      M     190   110.0  30.47\n",
        "23      11      M     182   110.0  33.21\n",
        "24       1      M     183   110.0  32.85\n",
        "25      11      M     165   110.0  40.40\n",
        "26      10      M     176   110.0  35.51\n",
        "27       1      M     188   110.0  31.12\n",
        "28       0      M     191   110.0  30.15\n",
        "29       3      M     177   109.0  34.79\n",
        "...    ...    ...     ...     ...    ...\n",
        "1036     7      F     167    50.0  17.93\n",
        "1037     1      F     168    49.0  17.36\n",
        "1038    10      F     150    49.0  21.78\n",
        "1039     1      F     153    49.0  20.93\n",
        "1040     9      F     160    49.0  19.14\n",
        "1041     5      F     170    49.0  16.96\n",
        "1042    11      F     165    49.0  18.00\n",
        "1043     0      F     157    49.0  19.88\n",
        "1044     2      M     168    48.0  17.01\n",
        "1045     0      M     160    48.0  18.75\n",
        "1046     4      F     160    48.0  18.75\n",
        "1047     8      F     160    48.0  18.75\n",
        "1048     3      F     165    48.0  17.63\n",
        "1049     7      F     150    48.0  21.33\n",
        "1050     8      F     164    48.0  17.85\n",
        "1051     8      M     175    47.0  15.35\n",
        "1052     7      M     175    47.0  15.35\n",
        "1053     5      F     160    47.0  18.36\n",
        "1054     5      F     160    47.0  18.36\n",
        "1055     0      F     158    46.0  18.43\n",
        "1056     5      F     160    46.0  17.97\n",
        "1057     3      F     162    46.0  17.53\n",
        "1058     5      F     157    46.0  18.66\n",
        "1059     6      M     168    45.0  15.94\n",
        "1060     3      F     165    45.0  16.53\n",
        "1061     5      F     158    45.0  18.03\n",
        "1062     0      F     157    44.0  17.85\n",
        "1063     6      F     160    44.0  17.19\n",
        "1064     5      F     163    42.0  15.81\n",
        "1065     9      F     149    42.0  18.92\n",
        "\n",
        "[1066 rows x 5 columns]"
       ]
      }
     ],
     "prompt_number": 98
    },
    {
     "cell_type": "code",
     "collapsed": false,
     "input": [
      "women = alldata[alldata['Gender']=='F']\n",
      "men = alldata[alldata['Gender']=='M']"
     ],
     "language": "python",
     "metadata": {},
     "outputs": [],
     "prompt_number": 6
    },
    {
     "cell_type": "heading",
     "level": 2,
     "metadata": {},
     "source": [
      "Weight and BMI distributions"
     ]
    },
    {
     "cell_type": "code",
     "collapsed": false,
     "input": [
      "plt.hist(alldata[\"Weight\"],20, color='darkgreen');\n",
      "plt.title(\"Weight distribution, entire sample\")\n",
      "plt.xlabel(\"weight [kg]\");"
     ],
     "language": "python",
     "metadata": {},
     "outputs": [
      {
       "metadata": {},
       "output_type": "display_data",
       "png": "[encoded data removed]",
       "text": [
        "<matplotlib.figure.Figure at 0x7f91e1f6ef60>"
       ]
      }
     ],
     "prompt_number": 37
    },
    {
     "cell_type": "code",
     "collapsed": false,
     "input": [
      "plt.hist(men[\"Weight\"],20, color='blue');\n",
      "plt.title(\"Weight distribution of men\")\n",
      "plt.xlabel(\"weight [kg]\");"
     ],
     "language": "python",
     "metadata": {},
     "outputs": [
      {
       "metadata": {},
       "output_type": "display_data",
       "png": "[encoded data removed]",
       "text": [
        "<matplotlib.figure.Figure at 0x7f91e2390f28>"
       ]
      }
     ],
     "prompt_number": 38
    },
    {
     "cell_type": "code",
     "collapsed": false,
     "input": [
      "plt.hist(women.Weight.values,20);\n",
      "plt.title(\"Weight distribution of women\")\n",
      "plt.xlabel(\"weight [kg]\");"
     ],
     "language": "python",
     "metadata": {},
     "outputs": [
      {
       "metadata": {},
       "output_type": "display_data",
       "png": "[encoded data removed]",
       "text": [
        "<matplotlib.figure.Figure at 0x7f91e1d8e1d0>"
       ]
      }
     ],
     "prompt_number": 39
    },
    {
     "cell_type": "code",
     "collapsed": false,
     "input": [
      "plt.hist(alldata.BMI.values,20,color='green');\n",
      "plt.title(\"BMI distribution, entire sample\")\n",
      "plt.xlabel(\"BMI\");"
     ],
     "language": "python",
     "metadata": {},
     "outputs": [
      {
       "metadata": {},
       "output_type": "display_data",
       "png": "[encoded data removed]",
       "text": [
        "<matplotlib.figure.Figure at 0x7f91e24a2128>"
       ]
      }
     ],
     "prompt_number": 44
    },
    {
     "cell_type": "code",
     "collapsed": false,
     "input": [
      "plt.hist(men.BMI.values,20,color='blue');\n",
      "plt.title(\"BMI distribution of men\")\n",
      "plt.xlabel(\"BMI\");"
     ],
     "language": "python",
     "metadata": {},
     "outputs": [
      {
       "metadata": {},
       "output_type": "display_data",
       "png": "[encoded data removed]",
       "text": [
        "<matplotlib.figure.Figure at 0x7f91e1da3ef0>"
       ]
      }
     ],
     "prompt_number": 43
    },
    {
     "cell_type": "code",
     "collapsed": false,
     "input": [
      "plt.hist(women.BMI.values,20);\n",
      "plt.title(\"BMI distribution of women\")\n",
      "plt.xlabel(\"BMI\");"
     ],
     "language": "python",
     "metadata": {},
     "outputs": [
      {
       "metadata": {},
       "output_type": "display_data",
       "png": "[encoded data removed]",
       "text": [
        "<matplotlib.figure.Figure at 0x7f91e1db1ba8>"
       ]
      }
     ],
     "prompt_number": 42
    },
    {
     "cell_type": "heading",
     "level": 2,
     "metadata": {},
     "source": [
      "Scatter plots"
     ]
    },
    {
     "cell_type": "markdown",
     "metadata": {},
     "source": [
      "Plot the weights of people against their signs. Use different colors for men and women."
     ]
    },
    {
     "cell_type": "code",
     "collapsed": false,
     "input": [
      "plt.scatter(men.Sign, men.Weight, label=\"men\")\n",
      "plt.scatter(women.Sign, women.Weight, c=\"r\", label=\"women\")\n",
      "plt.xticks(range(12),\n",
      "           [\"Scorpio\",\"Leo\",\"Pisces\",\"Virgo\",\"Taurus\",\"Gemini\",\"Aries\",\"Aquarius\",\"Capricorn\",\"Libra\",\"Sagittarius\",\"Cancer\"],\n",
      "           rotation=90);\n",
      "plt.ylabel(\"Weight (kg)\")\n",
      "plt.legend(loc=\"upper left\");"
     ],
     "language": "python",
     "metadata": {},
     "outputs": [
      {
       "metadata": {},
       "output_type": "display_data",
       "png": "[encoded data removed]",
       "text": [
        "<matplotlib.figure.Figure at 0x7f41d1c7d710>"
       ]
      }
     ],
     "prompt_number": 103
    },
    {
     "cell_type": "markdown",
     "metadata": {},
     "source": [
      "Plot the body-mass index of people against their signs."
     ]
    },
    {
     "cell_type": "code",
     "collapsed": false,
     "input": [
      "plt.scatter(men.Sign, men.BMI, label=\"men\")\n",
      "plt.scatter(women.Sign, women.BMI, c=\"r\", label=\"women\")\n",
      "plt.xticks(range(12),\n",
      "           [\"Scorpio\",\"Leo\",\"Pisces\",\"Virgo\",\"Taurus\",\"Gemini\",\"Aries\",\"Aquarius\",\"Capricorn\",\"Libra\",\"Sagittarius\",\"Cancer\"],\n",
      "           rotation=90);\n",
      "plt.ylabel(\"Body-mass index\")\n",
      "plt.legend(loc=\"upper left\");"
     ],
     "language": "python",
     "metadata": {},
     "outputs": [
      {
       "metadata": {},
       "output_type": "display_data",
       "png": "[encoded data removed]",
       "text": [
        "<matplotlib.figure.Figure at 0x7f41d1bf2f28>"
       ]
      }
     ],
     "prompt_number": 104
    },
    {
     "cell_type": "markdown",
     "metadata": {},
     "source": [
      "There is no significant difference visible to the naked eye."
     ]
    },
    {
     "cell_type": "heading",
     "level": 2,
     "metadata": {},
     "source": [
      "Comparison of means: ANOVA and Kruskal-Wallis"
     ]
    },
    {
     "cell_type": "markdown",
     "metadata": {},
     "source": [
      "The astrologers claim that people with certain birth signs are more likely to be overweight. The null hypothesis is that there is no relation between the birth sign and weight.\n",
      "\n",
      "One way to state the null hypothesis is that the mean weights from different zodiac signs are equal, and the alternative hypothesis is that at least two of them are significantly different. The analysis-of-variance (ANOVA) test can be used to test this hypothesis.\n",
      "\n",
      "\"ANOVA provides a statistical test of whether or not the means of several groups are equal, and therefore generalizes the t-test to more than two groups. ANOVAs are useful for comparing (testing) three or more means (groups or variables) for statistical significance.\" ([Wikipedia](https://en.wikipedia.org/wiki/Analysis_of_variance))\n",
      "\n",
      "ANOVA has three assumptions: The samples should be independent, the measurement errors must be distributed normally, variances in each birth sign group must be the same."
     ]
    },
    {
     "cell_type": "code",
     "collapsed": false,
     "input": [
      "from scipy.stats import f_oneway"
     ],
     "language": "python",
     "metadata": {},
     "outputs": [],
     "prompt_number": 9
    },
    {
     "cell_type": "markdown",
     "metadata": {},
     "source": [
      "Generate a list of 12 arrays, each consisting of the weights of men or women with a given birth sign. This separation is needed because weights of men and women are not identically distributed."
     ]
    },
    {
     "cell_type": "code",
     "collapsed": false,
     "input": [
      "dm = [men[men[\"Sign\"]==i][\"Weight\"].values for i in range(12)]         # only men\n",
      "dw = [women[women[\"Sign\"]==i][\"Weight\"].values for i in range(12)]     # only women"
     ],
     "language": "python",
     "metadata": {},
     "outputs": [],
     "prompt_number": 11
    },
    {
     "cell_type": "markdown",
     "metadata": {},
     "source": [
      "A p-value is the probability of observing this data, given that the null hypothesis is true (i.e. all mean weights are the same). Customarily p<0.05 is used as the _significance level_. That is, we do not reject the null hypothesis unless p is less than 0.05."
     ]
    },
    {
     "cell_type": "code",
     "collapsed": false,
     "input": [
      "print(\"Weight p-values from ANOVA test\")\n",
      "print(\"Men: %.3f\" % f_oneway(*dm)[1])\n",
      "print(\"Women: %.3f\" % f_oneway(*dw)[1])"
     ],
     "language": "python",
     "metadata": {},
     "outputs": [
      {
       "output_type": "stream",
       "stream": "stdout",
       "text": [
        "Weight p-values from ANOVA test\n",
        "Men: 0.682\n",
        "Women: 0.322\n"
       ]
      }
     ],
     "prompt_number": 13
    },
    {
     "cell_type": "markdown",
     "metadata": {},
     "source": [
      "The p-values are pretty high, and there is no reason to think that any observed differences between zodiac signs are more than coincidence.\n",
      "\n",
      "It can be argued that the body-mass index is a better indicator of being overweight. After all, a body builder can be 100kg without any excess fat. So let's repeat the same calculation for body-mass index values."
     ]
    },
    {
     "cell_type": "code",
     "collapsed": false,
     "input": [
      "dm = [men[men[\"Sign\"]==i][\"BMI\"].values for i in range(12)]         # only men\n",
      "dw = [women[women[\"Sign\"]==i][\"BMI\"].values for i in range(12)]     # only women\n",
      "print(\"BMI p-values from ANOVA test\")\n",
      "print(\"Men: %.3f\" % f_oneway(*dm)[1])\n",
      "print(\"Women: %.3f\" % f_oneway(*dw)[1])"
     ],
     "language": "python",
     "metadata": {},
     "outputs": [
      {
       "output_type": "stream",
       "stream": "stdout",
       "text": [
        "BMI p-values from ANOVA test\n",
        "Men: 0.769\n",
        "Women: 0.259\n"
       ]
      }
     ],
     "prompt_number": 14
    },
    {
     "cell_type": "markdown",
     "metadata": {},
     "source": [
      "P-values of body-mass index do not show a significant dependence on zodiac sign, either.\n",
      "\n",
      "Another test that can be applied is the Kruskal-Wallis test. ANOVA makes the assumption that the residuals are distributed normally and performs regression using this assumption. Kruskal-Wallis is a non-parametric test and does not rely on the assumption of normality.\n",
      "\n",
      "The null hypothesis of Kruskal-Wallis is that the medians, not means, of different groups are equal. Below we perform the Kruskal-Wallis test to the weight and BMI data."
     ]
    },
    {
     "cell_type": "code",
     "collapsed": false,
     "input": [
      "from scipy.stats import kruskal"
     ],
     "language": "python",
     "metadata": {},
     "outputs": [],
     "prompt_number": 16
    },
    {
     "cell_type": "code",
     "collapsed": false,
     "input": [
      "dm = [men[men[\"Sign\"]==i][\"Weight\"].values for i in range(12)]         # only men\n",
      "dw = [women[women[\"Sign\"]==i][\"Weight\"].values for i in range(12)]     # only women\n",
      "print(\"Weight p-values from Kruskal-Wallis test\")\n",
      "print(\"Men: %.3f\" % kruskal(*dm)[1])\n",
      "print(\"Women: %.3f\" % kruskal(*dw)[1])\n",
      "dm = [men[men[\"Sign\"]==i][\"BMI\"].values for i in range(12)]         # only men\n",
      "dw = [women[women[\"Sign\"]==i][\"BMI\"].values for i in range(12)]     # only women\n",
      "print(\"BMI p-values from Kruskal-Wallis test\")\n",
      "print(\"Men: %.3f\" % kruskal(*dm)[1])\n",
      "print(\"Women: %.3f\" % kruskal(*dw)[1])"
     ],
     "language": "python",
     "metadata": {},
     "outputs": [
      {
       "output_type": "stream",
       "stream": "stdout",
       "text": [
        "Weight p-values from Kruskal-Wallis test\n",
        "Men: 0.808\n",
        "Women: 0.330\n",
        "BMI p-values from Kruskal-Wallis test\n",
        "Men: 0.949\n",
        "Women: 0.260\n"
       ]
      }
     ],
     "prompt_number": 17
    },
    {
     "cell_type": "markdown",
     "metadata": {},
     "source": [
      "Again, the p-values are much larger than the significance level. There is no reason to think that birth signs affect body weight in any way."
     ]
    }
   ],
   "metadata": {}
  }
 ]
}