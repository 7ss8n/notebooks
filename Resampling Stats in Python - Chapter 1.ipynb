{
 "metadata": {
  "name": "",
  "signature": "sha256:ed320913f3c8b125ad57a1ba1214f00cebc4c31acfcfba12a8cb7716636b9b74"
 },
 "nbformat": 3,
 "nbformat_minor": 0,
 "worksheets": [
  {
   "cells": [
    {
     "cell_type": "heading",
     "level": 1,
     "metadata": {},
     "source": [
      "Resampling Stats in Python"
     ]
    },
    {
     "cell_type": "markdown",
     "metadata": {},
     "source": [
      "This is a Pythonic \"transcription\" of Daniel T. Kaplan's 1999 book [_Resampling Stats in Matlab_](http://www.macalester.edu/~kaplan/Resampling/PDF/index.html) using Python 3.\n",
      "\n",
      "The book is freely available in the author's website. I'm not going to copy it here verbatim. It's a short, informative book, and I recommend readers to read it to understand the general principles of statistical simulations and, in particular, how _resampling_ can be used to obtain confidence intervals for data.\n",
      "\n",
      "In this document I keep the conceptual discussion to a minimum, as it is well-covered by Kaplan. I focus on providing an interactive Python document illustrating the examples.\n",
      "\n",
      "Kaplan's book uses Matlab, and a proprietary Matlab package named _Resampling Stats_. Neither is required to run the programs here. This notebook relies on open-source software only.\n",
      "\n",
      "If you want to modify and run the examples in this document, you need to install Python 3 and IPython (or Jupyter). Numpy and matplotlib packages come together with IPython, so you don't need to worry about installing them separately."
     ]
    },
    {
     "cell_type": "code",
     "collapsed": false,
     "input": [
      "%pylab inline"
     ],
     "language": "python",
     "metadata": {},
     "outputs": [
      {
       "output_type": "stream",
       "stream": "stdout",
       "text": [
        "Populating the interactive namespace from numpy and matplotlib\n"
       ]
      }
     ],
     "prompt_number": 1
    },
    {
     "cell_type": "heading",
     "level": 2,
     "metadata": {},
     "source": [
      "Chapter 1 - Sampling, Resampling, and Inference"
     ]
    },
    {
     "cell_type": "heading",
     "level": 3,
     "metadata": {},
     "source": [
      "Example 1: Rolling a die"
     ]
    },
    {
     "cell_type": "markdown",
     "metadata": {},
     "source": [
      "We begin by generating random outcomes and analyzing them. As a familiar example, consider throwing a die. Using NumPy's `random` module, this can be done in two ways."
     ]
    },
    {
     "cell_type": "markdown",
     "metadata": {},
     "source": [
      "The `random_integers(a,b,size)` function returns an array of length `size`, consisting of random integers between `a` and `b` (inclusive)."
     ]
    },
    {
     "cell_type": "code",
     "collapsed": false,
     "input": [
      "from numpy.random import random_integers\n",
      "random_integers(1,6)    # randomly selects a single integer between 1 and 6"
     ],
     "language": "python",
     "metadata": {},
     "outputs": [
      {
       "metadata": {},
       "output_type": "pyout",
       "prompt_number": 11,
       "text": [
        "4"
       ]
      }
     ],
     "prompt_number": 11
    },
    {
     "cell_type": "code",
     "collapsed": false,
     "input": [
      "random_integers(1,6,10)  # randomly selects ten integers between 1 and 6"
     ],
     "language": "python",
     "metadata": {},
     "outputs": [
      {
       "metadata": {},
       "output_type": "pyout",
       "prompt_number": 5,
       "text": [
        "array([1, 3, 2, 4, 2, 6, 5, 5, 6, 4])"
       ]
      }
     ],
     "prompt_number": 5
    },
    {
     "cell_type": "markdown",
     "metadata": {},
     "source": [
      "The `choice(a,size)` function returns an array of length `size`, consisting of elements randomly selected from array `a`. The elements of array `a` can be any type of object, not only integers."
     ]
    },
    {
     "cell_type": "code",
     "collapsed": false,
     "input": [
      "from numpy.random import choice"
     ],
     "language": "python",
     "metadata": {},
     "outputs": [],
     "prompt_number": 2
    },
    {
     "cell_type": "code",
     "collapsed": false,
     "input": [
      "die_outcomes = [1,2,3,4,5,6]\n",
      "choice(die_outcomes, 10)"
     ],
     "language": "python",
     "metadata": {},
     "outputs": [
      {
       "metadata": {},
       "output_type": "pyout",
       "prompt_number": 9,
       "text": [
        "array([2, 1, 4, 6, 3, 4, 4, 4, 4, 3])"
       ]
      }
     ],
     "prompt_number": 9
    },
    {
     "cell_type": "markdown",
     "metadata": {},
     "source": [
      "For the moment, we are going to use the `choice` function because it will be better suited to the later examples."
     ]
    },
    {
     "cell_type": "markdown",
     "metadata": {},
     "source": [
      "In an honest (unbiased) die we expect all sides to come almost equally. Throw the die 6000 times, and tally the resulting list, i.e., count how many times each outcome has occurred."
     ]
    },
    {
     "cell_type": "code",
     "collapsed": false,
     "input": [
      "d = choice(die_outcomes, 6000)"
     ],
     "language": "python",
     "metadata": {},
     "outputs": [],
     "prompt_number": 12
    },
    {
     "cell_type": "markdown",
     "metadata": {},
     "source": [
      "To determine how many times a 1 has occurred, we use the Boolean indexing trick: The statement `d==1` returns an array whose _i_-th element is `True` if `d[i]==1`, and `False` otherwise. Then the `sum` function returns the count of `True` entries."
     ]
    },
    {
     "cell_type": "code",
     "collapsed": false,
     "input": [
      "sum(d==1)"
     ],
     "language": "python",
     "metadata": {},
     "outputs": [
      {
       "metadata": {},
       "output_type": "pyout",
       "prompt_number": 16,
       "text": [
        "976"
       ]
      }
     ],
     "prompt_number": 16
    },
    {
     "cell_type": "markdown",
     "metadata": {},
     "source": [
      "Get these counts into a single array using Python's list comprehensions."
     ]
    },
    {
     "cell_type": "code",
     "collapsed": false,
     "input": [
      "tally = [sum(d==i) for i in die_outcomes]\n",
      "tally"
     ],
     "language": "python",
     "metadata": {},
     "outputs": [
      {
       "metadata": {},
       "output_type": "pyout",
       "prompt_number": 17,
       "text": [
        "[976, 1036, 1008, 995, 977, 1008]"
       ]
      }
     ],
     "prompt_number": 17
    },
    {
     "cell_type": "markdown",
     "metadata": {},
     "source": [
      "Each outcome appears approximately 1000 times, as expected. They are not exactly 1000, though, because of the randomness of the sampling. Whether these variations indicate that the die is biased or not is a problem in statistical inference. This will be discussed later."
     ]
    },
    {
     "cell_type": "heading",
     "level": 4,
     "metadata": {},
     "source": [
      "Rolling two dice, and probabilities"
     ]
    },
    {
     "cell_type": "markdown",
     "metadata": {},
     "source": [
      "Many games involve rolling two dice. We an simulate the outcome of two dice by adding two random outcomes."
     ]
    },
    {
     "cell_type": "code",
     "collapsed": false,
     "input": [
      "choice(die_outcomes) + choice(die_outcomes)"
     ],
     "language": "python",
     "metadata": {},
     "outputs": [
      {
       "metadata": {},
       "output_type": "pyout",
       "prompt_number": 23,
       "text": [
        "9"
       ]
      }
     ],
     "prompt_number": 23
    },
    {
     "cell_type": "markdown",
     "metadata": {},
     "source": [
      "We know from experience that 2 and 12 are rare, but middle values like 6,7,8 are more likely. To check this, we roll two dice 10000 times, and generate a tally as before."
     ]
    },
    {
     "cell_type": "code",
     "collapsed": false,
     "input": [
      "d = choice(die_outcomes, 10000) + choice(die_outcomes, 10000)\n",
      "tally = [sum(d==i) for i in range(1,13)]  # range(1,13) -> [1,2,...,12]\n",
      "tally"
     ],
     "language": "python",
     "metadata": {},
     "outputs": [
      {
       "metadata": {},
       "output_type": "pyout",
       "prompt_number": 25,
       "text": [
        "[0, 257, 560, 883, 1074, 1354, 1714, 1339, 1151, 829, 568, 271]"
       ]
      }
     ],
     "prompt_number": 25
    },
    {
     "cell_type": "markdown",
     "metadata": {},
     "source": [
      "As expected, 1 does not appear with two dice. The tally is not uniform anymore, but has a peak at outcome 7. Let's plot these counts as a histogram."
     ]
    },
    {
     "cell_type": "code",
     "collapsed": false,
     "input": [
      "bar(range(1,13), tally)"
     ],
     "language": "python",
     "metadata": {},
     "outputs": [
      {
       "metadata": {},
       "output_type": "pyout",
       "prompt_number": 26,
       "text": [
        "<Container object of 12 artists>"
       ]
      },
      {
       "metadata": {},
       "output_type": "display_data",
       "png": "[encoded data removed]",
       "text": [
        "<matplotlib.figure.Figure at 0x7f7b3c9b7978>"
       ]
      }
     ],
     "prompt_number": 26
    },
    {
     "cell_type": "markdown",
     "metadata": {},
     "source": [
      "Obviously the heights of the bars depend on how many trials we make. In order to make the results and the plot independent of the number of trials, we divide the values to 10000. These proportions give us the _frequency_ (approximately, the probability) of each outcome."
     ]
    },
    {
     "cell_type": "code",
     "collapsed": false,
     "input": [
      "tally = [t/10000 for t in tally]"
     ],
     "language": "python",
     "metadata": {},
     "outputs": [],
     "prompt_number": 28
    },
    {
     "cell_type": "code",
     "collapsed": false,
     "input": [
      "bar(range(1,13), tally, align='center')\n",
      "xlabel('outcome')\n",
      "ylabel('frequency')"
     ],
     "language": "python",
     "metadata": {},
     "outputs": [
      {
       "metadata": {},
       "output_type": "pyout",
       "prompt_number": 35,
       "text": [
        "<matplotlib.text.Text at 0x7f7b3c7eb2e8>"
       ]
      },
      {
       "metadata": {},
       "output_type": "display_data",
       "png": "[encoded data removed]",
       "text": [
        "<matplotlib.figure.Figure at 0x7f7b3c78f550>"
       ]
      }
     ],
     "prompt_number": 35
    },
    {
     "cell_type": "markdown",
     "metadata": {},
     "source": [
      "These frequencies can be seen as the _probability_ of each outcome."
     ]
    },
    {
     "cell_type": "heading",
     "level": 4,
     "metadata": {},
     "source": [
      "Flipping a coin"
     ]
    },
    {
     "cell_type": "markdown",
     "metadata": {},
     "source": [
      "Now we ask a different question: Suppose we flip a coin 100 times. What is the probability of getting 40 or fewer heads?\n",
      "\n",
      "Now, one experiment consists of 100 coin flips and counting the heads. The outcome is not the die face between 1 and 6, but any integer between 0 and 100. One way to implement the experiment is as follows:"
     ]
    },
    {
     "cell_type": "code",
     "collapsed": false,
     "input": [
      "h = sum( choice(['H','T'],100) == 'H' )\n",
      "h"
     ],
     "language": "python",
     "metadata": {},
     "outputs": [
      {
       "metadata": {},
       "output_type": "pyout",
       "prompt_number": 34,
       "text": [
        "42"
       ]
      }
     ],
     "prompt_number": 34
    },
    {
     "cell_type": "markdown",
     "metadata": {},
     "source": [
      "Let's repeat this experiment 1000 times and generate a list of counts of heads from each experiment."
     ]
    },
    {
     "cell_type": "code",
     "collapsed": false,
     "input": [
      "h_counts = [sum( choice(['H','T'],100) == 'H' ) for i in range(1000)]\n",
      "maxh = max(h_counts)  # minimum number of heads\n",
      "minh = min(h_counts)  # maximum number of heads\n",
      "minh,maxh"
     ],
     "language": "python",
     "metadata": {},
     "outputs": [
      {
       "metadata": {},
       "output_type": "pyout",
       "prompt_number": 53,
       "text": [
        "(37, 65)"
       ]
      }
     ],
     "prompt_number": 53
    },
    {
     "cell_type": "markdown",
     "metadata": {},
     "source": [
      "The tallying and plotting can be combined with the `matplotlib` command `hist()`"
     ]
    },
    {
     "cell_type": "code",
     "collapsed": false,
     "input": [
      "hist(h_counts,bins=range(minh,maxh+2),align='left');"
     ],
     "language": "python",
     "metadata": {},
     "outputs": [
      {
       "metadata": {},
       "output_type": "display_data",
       "png": "[encoded data removed]",
       "text": [
        "<matplotlib.figure.Figure at 0x7f7b3c3762b0>"
       ]
      }
     ],
     "prompt_number": 54
    },
    {
     "cell_type": "markdown",
     "metadata": {},
     "source": [
      "We see that there are a small number of experiments which resulted with a head count of 40 or less. Numerically, we get the probability of getting 40 or fewer heads as follows:"
     ]
    },
    {
     "cell_type": "code",
     "collapsed": false,
     "input": [
      "h_counts = array(h_counts)  # convert from list to NumPy array for Boolean indexing.\n",
      "sum(h_counts<40)/1000"
     ],
     "language": "python",
     "metadata": {},
     "outputs": [
      {
       "metadata": {},
       "output_type": "pyout",
       "prompt_number": 56,
       "text": [
        "0.014"
       ]
      }
     ],
     "prompt_number": 56
    },
    {
     "cell_type": "markdown",
     "metadata": {},
     "source": [
      "So the probability $P(H\\leq 40)$ is just 1.4%."
     ]
    },
    {
     "cell_type": "heading",
     "level": 3,
     "metadata": {},
     "source": [
      "Example 2: The Birthday Problem"
     ]
    },
    {
     "cell_type": "markdown",
     "metadata": {},
     "source": [
      "What is the probability that at least two people out of a group of 30 have the same birthday? This is a famous problem, sometimes considered \"paradoxical\" because the answer is higher than expected. For more information and exact results, see [Wikipedia - Birthday Problem](https://en.wikipedia.org/wiki/Birthday_problem).\n",
      "\n",
      "Let's start with a single trial. Assuming the birthdays are distributed equally over the year, choose 30 numbers from the list [1,2,...,365].\n",
      "\n",
      "(We do not take Feb. 29th into account now. As it occurs once in four years, it can be included with a probability of $1/(4\\cdot365)$, while all other days would be chosen with probability $1/365$. We will see how to choose elements with unequal probabilities in the later example, then you can come back to this problem and redo it including Feb. 29th.)"
     ]
    },
    {
     "cell_type": "code",
     "collapsed": false,
     "input": [
      "birthdays = choice(range(1,366), 30)    # N.B.: range(1,366) goes up to 365, not 366."
     ],
     "language": "python",
     "metadata": {},
     "outputs": [],
     "prompt_number": 59
    },
    {
     "cell_type": "code",
     "collapsed": false,
     "input": [
      "print(sorted(birthdays))"
     ],
     "language": "python",
     "metadata": {},
     "outputs": [
      {
       "output_type": "stream",
       "stream": "stdout",
       "text": [
        "[15, 24, 28, 71, 107, 108, 125, 134, 139, 143, 157, 160, 166, 166, 177, 184, 210, 219, 231, 232, 239, 254, 267, 279, 292, 297, 357, 359, 359, 363]\n"
       ]
      }
     ],
     "prompt_number": 73
    },
    {
     "cell_type": "markdown",
     "metadata": {},
     "source": [
      "With sorting we see that 166 and 359 appear twice. Therefore, there are two pairs of people with the same birthday, even in a small group like this.\n",
      "\n",
      "To see, in general, how many days appear more than once, we use the following code."
     ]
    },
    {
     "cell_type": "code",
     "collapsed": false,
     "input": [
      "tally = array([sum(birthdays==i) for i in range(1,366)])\n",
      "sum(tally>=2)"
     ],
     "language": "python",
     "metadata": {},
     "outputs": [
      {
       "metadata": {},
       "output_type": "pyout",
       "prompt_number": 78,
       "text": [
        "2"
       ]
      }
     ],
     "prompt_number": 78
    },
    {
     "cell_type": "markdown",
     "metadata": {},
     "source": [
      "This was just one trial. Let us repeat that many times, keep a record of successes, and return the frequency of successes as an approximation to the true probability."
     ]
    },
    {
     "cell_type": "code",
     "collapsed": false,
     "input": [
      "trials = 10000\n",
      "groupsize = 30\n",
      "cliquesize = 2   # how many people have the same birthday\n",
      "success = 0\n",
      "for i in range(trials):\n",
      "    birthdays = choice(range(1,366), groupsize) \n",
      "    tally = array([sum(birthdays==i) for i in range(1,366)])\n",
      "    if any(tally>=cliquesize):    #any(a) returns True if any of the elements of 'a' is True.\n",
      "        success += 1\n",
      "print(\"Probability = \", success/trials)"
     ],
     "language": "python",
     "metadata": {},
     "outputs": [
      {
       "output_type": "stream",
       "stream": "stdout",
       "text": [
        "Probability =  0.698\n"
       ]
      }
     ],
     "prompt_number": 84
    },
    {
     "cell_type": "markdown",
     "metadata": {},
     "source": [
      "The analytical result is 0.706, so we're not far off. Presumably the difference is due to the sampling effect (using a finite number of trials).\n",
      "\n",
      "Let's put this inside a box for reusability. Here is a function that returns the probability that at least `m` people out of a group of `N` have a common birthday."
     ]
    },
    {
     "cell_type": "code",
     "collapsed": false,
     "input": [
      "def birthday(groupsize, cliquesize, trials=1000):\n",
      "    success = 0\n",
      "    for i in range(trials):\n",
      "        birthdays = choice(range(1,366), groupsize) \n",
      "        tally = array([sum(birthdays==i) for i in range(1,366)])\n",
      "        if any(tally>=cliquesize):    #any(a) returns True if any of the elements of 'a' is True.\n",
      "            success += 1\n",
      "    return success/trials"
     ],
     "language": "python",
     "metadata": {},
     "outputs": [],
     "prompt_number": 89
    },
    {
     "cell_type": "markdown",
     "metadata": {},
     "source": [
      "Then, the probability of at least two people in a group of 30 having the same birthday can be evaluated with the following call. (It's not the same number due to statistical fluctuations.)\n"
     ]
    },
    {
     "cell_type": "code",
     "collapsed": false,
     "input": [
      "birthday(30,2)"
     ],
     "language": "python",
     "metadata": {},
     "outputs": [
      {
       "metadata": {},
       "output_type": "pyout",
       "prompt_number": 86,
       "text": [
        "0.721"
       ]
      }
     ],
     "prompt_number": 86
    },
    {
     "cell_type": "markdown",
     "metadata": {},
     "source": [
      "The probability of at least 3 people having the same birthday in a group of 100 is:"
     ]
    },
    {
     "cell_type": "code",
     "collapsed": false,
     "input": [
      "birthday(100,3)"
     ],
     "language": "python",
     "metadata": {},
     "outputs": [
      {
       "metadata": {},
       "output_type": "pyout",
       "prompt_number": 90,
       "text": [
        "0.659"
       ]
      }
     ],
     "prompt_number": 90
    },
    {
     "cell_type": "markdown",
     "metadata": {},
     "source": [
      "The exact formula for the probability that at least 2 people out of a group of _N_ have a common birthday is:\n",
      "\n",
      "$$1 - \\left(1-\\frac{1}{365}\\right)\\times\\left(1-\\frac{2}{365}\\right)\\times\\cdots\\times\\left(1-\\frac{N-1}{365}\\right)$$\n",
      "\n",
      "Let's write a function to evaluate this exact result and plot it together with our sampling-based function."
     ]
    },
    {
     "cell_type": "code",
     "collapsed": false,
     "input": [
      "def birthday_exact(N):\n",
      "    narr = arange(1,N)\n",
      "    return 1 - product(1-narr/365)"
     ],
     "language": "python",
     "metadata": {},
     "outputs": [],
     "prompt_number": 104
    },
    {
     "cell_type": "markdown",
     "metadata": {},
     "source": [
      "Now evaluate the exact and sampling-based approximate probabilities for group sizes ranging from 2 to 100. (_Note: This can take a long time_)"
     ]
    },
    {
     "cell_type": "code",
     "collapsed": false,
     "input": [
      "groupsize = arange(2,100)\n",
      "be = [birthday_exact(n) for n in groupsize]\n",
      "b = [birthday(n,2) for n in groupsize]"
     ],
     "language": "python",
     "metadata": {},
     "outputs": [],
     "prompt_number": 110
    },
    {
     "cell_type": "markdown",
     "metadata": {},
     "source": [
      "Plot the exact and approximate results together."
     ]
    },
    {
     "cell_type": "code",
     "collapsed": false,
     "input": [
      "plot(groupsize, be, groupsize, b,'.')\n",
      "xlabel('Group size N')\n",
      "ylabel('Probability')\n",
      "title('Probability of at least one shared birthday in a group of N')\n",
      "legend(('exact', 'approximate'));\n",
      "grid()"
     ],
     "language": "python",
     "metadata": {},
     "outputs": [
      {
       "metadata": {},
       "output_type": "display_data",
       "png": "[encoded data removed]",
       "text": [
        "<matplotlib.figure.Figure at 0x7f7b3c3aa198>"
       ]
      }
     ],
     "prompt_number": 116
    },
    {
     "cell_type": "markdown",
     "metadata": {},
     "source": [
      "If you set the `trials` parameter of the function `birthday()` to a larger value (say, 10000), the agreement with the exact result would be better. Be prepared for a longer coffee break, though."
     ]
    },
    {
     "cell_type": "heading",
     "level": 3,
     "metadata": {},
     "source": [
      "Example 3: Annual rainfall"
     ]
    },
    {
     "cell_type": "markdown",
     "metadata": {},
     "source": [
      "A _random variable_ is the numerical outcome of a random process. For example, the number of heads coming up after 100 coin flips is a random variable. Another example is the amount of rain that falls within a year to a certain location, where the probabilities of rain on each day is known.\n",
      "\n",
      "Suppose that in a given geographical area there is no rain on the 80% of days, 0.25 inches of rain on 10% of days, 0.5 inch on 5% of days, and 1 inch on 5% of days. There are thus four different events (no rain, 0.25 inches of rain, 0.5 inches of rain, 1 inch of rain) with different (nonuniform) probabilites.\n",
      "\n",
      "The following call to the `choice()` function returns the rainfall amount for one day, taking the appropriate probabilities as a separate argument."
     ]
    },
    {
     "cell_type": "code",
     "collapsed": false,
     "input": [
      "choice([0, 0.25, 0.5, 1], size=50, p=[0.8, 0.1, 0.05, 0.05])  # rainfall for 50 days"
     ],
     "language": "python",
     "metadata": {},
     "outputs": [
      {
       "metadata": {},
       "output_type": "pyout",
       "prompt_number": 16,
       "text": [
        "array([ 0.  ,  0.  ,  0.25,  0.  ,  0.  ,  0.  ,  0.  ,  0.  ,  0.  ,\n",
        "        0.5 ,  0.  ,  0.5 ,  0.  ,  0.  ,  0.  ,  0.  ,  0.  ,  0.  ,\n",
        "        0.  ,  0.  ,  0.  ,  0.5 ,  0.  ,  0.  ,  0.  ,  0.  ,  0.  ,\n",
        "        0.  ,  1.  ,  0.  ,  1.  ,  0.25,  0.  ,  0.  ,  1.  ,  0.  ,\n",
        "        0.  ,  0.  ,  0.  ,  0.  ,  1.  ,  0.  ,  0.  ,  0.  ,  1.  ,\n",
        "        0.  ,  0.  ,  0.  ,  1.  ,  0.  ])"
       ]
      }
     ],
     "prompt_number": 16
    },
    {
     "cell_type": "markdown",
     "metadata": {},
     "source": [
      "By adding together the amount of rainfall within 365, we get the annual rainfall in inches:"
     ]
    },
    {
     "cell_type": "code",
     "collapsed": false,
     "input": [
      "sum( choice([0, 0.25, 0.5, 1], size=365, p=[0.8, 0.1, 0.05, 0.05]) )"
     ],
     "language": "python",
     "metadata": {},
     "outputs": [
      {
       "metadata": {},
       "output_type": "pyout",
       "prompt_number": 19,
       "text": [
        "39.0"
       ]
      }
     ],
     "prompt_number": 19
    },
    {
     "cell_type": "markdown",
     "metadata": {},
     "source": [
      "Being a random variable, this value will be slightly different each time:"
     ]
    },
    {
     "cell_type": "code",
     "collapsed": false,
     "input": [
      "sum( choice([0, 0.25, 0.5, 1], size=365, p=[0.8, 0.1, 0.05, 0.05]) )"
     ],
     "language": "python",
     "metadata": {},
     "outputs": [
      {
       "metadata": {},
       "output_type": "pyout",
       "prompt_number": 21,
       "text": [
        "42.5"
       ]
      }
     ],
     "prompt_number": 21
    },
    {
     "cell_type": "markdown",
     "metadata": {},
     "source": [
      "Here is a list that contains 1000 different values of this random variable."
     ]
    },
    {
     "cell_type": "code",
     "collapsed": false,
     "input": [
      "annualrain = array([ sum( choice([0, 0.25, 0.5, 1], size=365, p=[0.8, 0.1, 0.05, 0.05]) ) for i in range(1000)])"
     ],
     "language": "python",
     "metadata": {},
     "outputs": [],
     "prompt_number": 43
    },
    {
     "cell_type": "heading",
     "level": 4,
     "metadata": {},
     "source": [
      "Describing random variables"
     ]
    },
    {
     "cell_type": "markdown",
     "metadata": {},
     "source": [
      "We can generate a lot of values for annual rainfall. However, it is difficult to make sense of a long list of numbers. We need to summarize them using some descriptive statistics tools.\n",
      "\n",
      "We've already seen how to generate a histogram. Let us display the distribution of simulated annual rainfall values."
     ]
    },
    {
     "cell_type": "code",
     "collapsed": false,
     "input": [
      "hist(annualrain, bins = 30, normed=True);\n",
      "xlabel(\"inches/year\");\n",
      "title(\"Annual rainfall\");"
     ],
     "language": "python",
     "metadata": {},
     "outputs": [
      {
       "metadata": {},
       "output_type": "display_data",
       "png": "[encoded data removed]",
       "text": [
        "<matplotlib.figure.Figure at 0x7f075bb58160>"
       ]
      }
     ],
     "prompt_number": 44
    },
    {
     "cell_type": "markdown",
     "metadata": {},
     "source": [
      "The histogram shows that the annual rainfall is typically between 35-40 inches per year, but it can be as low as 25, or as high as 50 inches on some years.\n",
      "\n",
      "When we say \"typical\" value, we usually mean the mean or the median of the data."
     ]
    },
    {
     "cell_type": "code",
     "collapsed": false,
     "input": [
      "print(mean(annualrain), median(annualrain))"
     ],
     "language": "python",
     "metadata": {},
     "outputs": [
      {
       "output_type": "stream",
       "stream": "stdout",
       "text": [
        "36.62175 36.5\n"
       ]
      }
     ],
     "prompt_number": 47
    },
    {
     "cell_type": "markdown",
     "metadata": {},
     "source": [
      "The \"width\" of the distibution is usually represented by the _standard deviation_:"
     ]
    },
    {
     "cell_type": "code",
     "collapsed": false,
     "input": [
      "print(std(annualrain))"
     ],
     "language": "python",
     "metadata": {},
     "outputs": [
      {
       "output_type": "stream",
       "stream": "stdout",
       "text": [
        "4.65112775975\n"
       ]
      }
     ],
     "prompt_number": 48
    },
    {
     "cell_type": "markdown",
     "metadata": {},
     "source": [
      "The _total range_ is the difference between the maximum and minimum value in the data set."
     ]
    },
    {
     "cell_type": "code",
     "collapsed": false,
     "input": [
      "max(annualrain) - min(annualrain)"
     ],
     "language": "python",
     "metadata": {},
     "outputs": [
      {
       "metadata": {},
       "output_type": "pyout",
       "prompt_number": 49,
       "text": [
        "28.25"
       ]
      }
     ],
     "prompt_number": 49
    },
    {
     "cell_type": "markdown",
     "metadata": {},
     "source": [
      "The _interquartile range_ is the difference between the 25th and the 75th percentile. This is often preferred to the total range because extreme values of the data occur rarely, and do not represent the data as a whole."
     ]
    },
    {
     "cell_type": "code",
     "collapsed": false,
     "input": [
      "percentile(annualrain,75) - percentile(annualrain,25)"
     ],
     "language": "python",
     "metadata": {},
     "outputs": [
      {
       "metadata": {},
       "output_type": "pyout",
       "prompt_number": 50,
       "text": [
        "6.25"
       ]
      }
     ],
     "prompt_number": 50
    },
    {
     "cell_type": "markdown",
     "metadata": {},
     "source": [
      "The 2.5-percentile and 97.5-percentile values provide a range that covers the central 95% of the data."
     ]
    },
    {
     "cell_type": "code",
     "collapsed": false,
     "input": [
      "percentile(annualrain, [2.5, 97.5])"
     ],
     "language": "python",
     "metadata": {},
     "outputs": [
      {
       "metadata": {},
       "output_type": "pyout",
       "prompt_number": 54,
       "text": [
        "[27.75, 46.256249999999994]"
       ]
      }
     ],
     "prompt_number": 54
    }
   ],
   "metadata": {}
  }
 ]
}